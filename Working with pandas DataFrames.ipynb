{
 "cells": [
  {
   "cell_type": "markdown",
   "metadata": {
    "slideshow": {
     "slide_type": "slide"
    }
   },
   "source": [
    "# Working with pandas DataFrames"
   ]
  },
  {
   "cell_type": "markdown",
   "metadata": {
    "slideshow": {
     "slide_type": "notes"
    }
   },
   "source": [
    "Pandas (http://pandas.pydata.org) is great for data analysis, again we met it briefly in the software carpentry course, but it's worth revisiting. \n",
    "\n",
    "Note the book on that website - 'Python for data analysis', this is a useful text which much of this section was drawn from. \n",
    "\n",
    "We're also going to look at how we might use pandas to work with data read in with CIS."
   ]
  },
  {
   "cell_type": "code",
   "execution_count": 2,
   "metadata": {
    "collapsed": false,
    "slideshow": {
     "slide_type": "fragment"
    }
   },
   "outputs": [
    {
     "name": "stdout",
     "output_type": "stream",
     "text": [
      "\n"
     ]
    }
   ],
   "source": [
    "import pandas as pd"
   ]
  },
  {
   "cell_type": "markdown",
   "metadata": {
    "slideshow": {
     "slide_type": "slide"
    }
   },
   "source": [
    "## Series"
   ]
  },
  {
   "cell_type": "markdown",
   "metadata": {
    "slideshow": {
     "slide_type": "fragment"
    }
   },
   "source": [
    "A `Series` is essentially a container for series data (think time-series, but more general)."
   ]
  },
  {
   "cell_type": "markdown",
   "metadata": {
    "slideshow": {
     "slide_type": "subslide"
    }
   },
   "source": [
    "Let's create a time-series from the data we used for the last numpy example:"
   ]
  },
  {
   "cell_type": "code",
   "execution_count": 3,
   "metadata": {
    "collapsed": false,
    "slideshow": {
     "slide_type": "fragment"
    }
   },
   "outputs": [
    {
     "name": "stdout",
     "output_type": "stream",
     "text": [
      "2015-11-16 15:41:23     0.13\n",
      "2015-11-16 15:42:22     0.21\n",
      "2015-11-16 15:43:25     0.15\n",
      "2015-11-16 15:44:20      NaN\n",
      "2015-11-16 15:45:22     0.29\n",
      "2015-11-16 15:46:23     0.09\n",
      "2015-11-16 15:47:26     0.24\n",
      "2015-11-16 15:48:21   -10.00\n",
      "dtype: float32\n"
     ]
    },
    {
     "data": {
      "text/plain": [
       "-1.2700001"
      ]
     },
     "execution_count": 3,
     "metadata": {},
     "output_type": "execute_result"
    }
   ],
   "source": [
    "from datetime import datetime\n",
    "s = pd.Series([0.13, 0.21, 0.15, 'NaN', 0.29, 0.09, 0.24, -10], dtype='f32',\n",
    "                 index = [datetime(2015,11,16,15,41,23), datetime(2015,11,16,15,42,22), datetime(2015,11,16,15,43,25), datetime(2015,11,16,15,44,20), datetime(2015,11,16,15,45,22),\n",
    "                          datetime(2015,11,16,15,46,23), datetime(2015,11,16,15,47,26), datetime(2015,11,16,15,48,21)])\n",
    "print s\n",
    "s.mean()\n"
   ]
  },
  {
   "cell_type": "markdown",
   "metadata": {
    "slideshow": {
     "slide_type": "fragment"
    }
   },
   "source": [
    "As you can see, it's dealt with our missing value much more nicely - this is one of the nice things about Pandas."
   ]
  },
  {
   "cell_type": "markdown",
   "metadata": {
    "slideshow": {
     "slide_type": "subslide"
    }
   },
   "source": [
    "We can get rid of the negative value easily as well:"
   ]
  },
  {
   "cell_type": "code",
   "execution_count": 4,
   "metadata": {
    "collapsed": false,
    "slideshow": {
     "slide_type": "fragment"
    }
   },
   "outputs": [
    {
     "name": "stdout",
     "output_type": "stream",
     "text": [
      "2015-11-16 15:41:23    0.13\n",
      "2015-11-16 15:42:22    0.21\n",
      "2015-11-16 15:43:25    0.15\n",
      "2015-11-16 15:45:22    0.29\n",
      "2015-11-16 15:46:23    0.09\n",
      "2015-11-16 15:47:26    0.24\n",
      "dtype: float32\n"
     ]
    },
    {
     "data": {
      "text/plain": [
       "0.185"
      ]
     },
     "execution_count": 4,
     "metadata": {},
     "output_type": "execute_result"
    }
   ],
   "source": [
    "s = s[s>0]\n",
    "print s\n",
    "s.mean()"
   ]
  },
  {
   "cell_type": "markdown",
   "metadata": {
    "slideshow": {
     "slide_type": "fragment"
    }
   },
   "source": [
    "Note this also got rid of our NaN (as NaN comparisons are always negative)"
   ]
  },
  {
   "cell_type": "markdown",
   "metadata": {
    "slideshow": {
     "slide_type": "subslide"
    }
   },
   "source": [
    "Now, as you probably noticed, I added a lot of datetimes to this data which represent the timings of the measurements. Pandas uses these times as an `index` on the data, and gives us access to some very powerful tools.\n",
    "\n",
    "For example, resampling our data to a minutely average is easy:"
   ]
  },
  {
   "cell_type": "code",
   "execution_count": 5,
   "metadata": {
    "collapsed": false,
    "slideshow": {
     "slide_type": "fragment"
    }
   },
   "outputs": [
    {
     "data": {
      "text/plain": [
       "2015-11-16 15:40:00    0.21\n",
       "2015-11-16 15:45:00    0.29\n",
       "Freq: 5T, dtype: float32"
      ]
     },
     "execution_count": 5,
     "metadata": {},
     "output_type": "execute_result"
    }
   ],
   "source": [
    "s.resample('5min', how='max')\n"
   ]
  },
  {
   "cell_type": "markdown",
   "metadata": {
    "slideshow": {
     "slide_type": "subslide"
    }
   },
   "source": [
    "Another way of creating series is using dictionaries:"
   ]
  },
  {
   "cell_type": "code",
   "execution_count": 6,
   "metadata": {
    "collapsed": false,
    "slideshow": {
     "slide_type": "fragment"
    }
   },
   "outputs": [
    {
     "data": {
      "text/plain": [
       "Blue      42\n",
       "Green     12\n",
       "Yellow    37\n",
       "dtype: int64"
      ]
     },
     "execution_count": 6,
     "metadata": {},
     "output_type": "execute_result"
    }
   ],
   "source": [
    "colours = pd.Series({'Blue': 42, 'Green': 12, 'Yellow': 37})\n",
    "colours"
   ]
  },
  {
   "cell_type": "markdown",
   "metadata": {
    "slideshow": {
     "slide_type": "subslide"
    }
   },
   "source": [
    "We can index Series just like numpy arrays, or using the named index:"
   ]
  },
  {
   "cell_type": "code",
   "execution_count": 7,
   "metadata": {
    "collapsed": false,
    "slideshow": {
     "slide_type": "fragment"
    }
   },
   "outputs": [
    {
     "name": "stdout",
     "output_type": "stream",
     "text": [
      "12\n",
      "Blue     42\n",
      "Green    12\n",
      "dtype: int64\n",
      "42\n"
     ]
    }
   ],
   "source": [
    "print colours[1]\n",
    "print colours[:-1]\n",
    "print colours['Blue']"
   ]
  },
  {
   "cell_type": "markdown",
   "metadata": {
    "slideshow": {
     "slide_type": "fragment"
    }
   },
   "source": [
    "Or both:"
   ]
  },
  {
   "cell_type": "code",
   "execution_count": 8,
   "metadata": {
    "collapsed": false,
    "slideshow": {
     "slide_type": "fragment"
    }
   },
   "outputs": [
    {
     "name": "stdout",
     "output_type": "stream",
     "text": [
      "12\n"
     ]
    }
   ],
   "source": [
    "print colours[1:]['Green'] "
   ]
  },
  {
   "cell_type": "markdown",
   "metadata": {
    "slideshow": {
     "slide_type": "subslide"
    }
   },
   "source": [
    "Another nice benefit of the indices is in data allignment. So for example when performing operations on two series, Pandas will line up the indices first:"
   ]
  },
  {
   "cell_type": "code",
   "execution_count": 9,
   "metadata": {
    "collapsed": false,
    "slideshow": {
     "slide_type": "fragment"
    }
   },
   "outputs": [
    {
     "data": {
      "text/plain": [
       "Blue      58\n",
       "Green     37\n",
       "Purple   NaN\n",
       "Red      NaN\n",
       "Yellow   NaN\n",
       "dtype: float64"
      ]
     },
     "execution_count": 9,
     "metadata": {},
     "output_type": "execute_result"
    }
   ],
   "source": [
    "more_colours = pd.Series({'Blue': 16, 'Red': 22, 'Purple': 34, 'Green': 25,})\n",
    "\n",
    "more_colours + colours"
   ]
  },
  {
   "cell_type": "markdown",
   "metadata": {
    "slideshow": {
     "slide_type": "notes"
    }
   },
   "source": [
    "As you can see, if not both of the indices are present then Pandas will return NaNs."
   ]
  },
  {
   "cell_type": "markdown",
   "metadata": {
    "slideshow": {
     "slide_type": "subslide"
    }
   },
   "source": [
    "Pandas uses numpy heavily underneath, so many of the numpy array operations work on Series as well:"
   ]
  },
  {
   "cell_type": "code",
   "execution_count": 10,
   "metadata": {
    "collapsed": false,
    "slideshow": {
     "slide_type": "fragment"
    }
   },
   "outputs": [
    {
     "data": {
      "text/plain": [
       "(30.333333333333332, 42)"
      ]
     },
     "execution_count": 10,
     "metadata": {},
     "output_type": "execute_result"
    }
   ],
   "source": [
    "colours.mean(), colours.max()"
   ]
  },
  {
   "cell_type": "markdown",
   "metadata": {
    "slideshow": {
     "slide_type": "slide"
    }
   },
   "source": [
    "## DataFrames"
   ]
  },
  {
   "cell_type": "markdown",
   "metadata": {
    "slideshow": {
     "slide_type": "notes"
    }
   },
   "source": [
    "Data frames are essentially collections of Series, with a shared index. Each `column` of data is labelled and the whole frame can be pictured as a table, or spreadsheet of data."
   ]
  },
  {
   "cell_type": "code",
   "execution_count": 11,
   "metadata": {
    "collapsed": false,
    "slideshow": {
     "slide_type": "fragment"
    }
   },
   "outputs": [
    {
     "name": "stdout",
     "output_type": "stream",
     "text": [
      "        First  Second\n",
      "Blue       42      16\n",
      "Green      12      25\n",
      "Purple    NaN      34\n",
      "Red       NaN      22\n",
      "Yellow     37     NaN\n"
     ]
    }
   ],
   "source": [
    "df = pd.DataFrame({'First': colours, 'Second': more_colours})\n",
    "print df"
   ]
  },
  {
   "cell_type": "markdown",
   "metadata": {
    "slideshow": {
     "slide_type": "subslide"
    }
   },
   "source": [
    "And can be indexed by row, or index via the ix attribute:"
   ]
  },
  {
   "cell_type": "code",
   "execution_count": 12,
   "metadata": {
    "collapsed": false,
    "slideshow": {
     "slide_type": "fragment"
    }
   },
   "outputs": [
    {
     "name": "stdout",
     "output_type": "stream",
     "text": [
      "Column by index:  Blue      42\n",
      "Green     12\n",
      "Purple   NaN\n",
      "Red      NaN\n",
      "Yellow    37\n",
      "Name: First, dtype: float64\n"
     ]
    }
   ],
   "source": [
    "print 'Column by index: ', df['First']"
   ]
  },
  {
   "cell_type": "code",
   "execution_count": 13,
   "metadata": {
    "collapsed": false,
    "slideshow": {
     "slide_type": "subslide"
    }
   },
   "outputs": [
    {
     "name": "stdout",
     "output_type": "stream",
     "text": [
      "Column as attribute:  <bound method DataFrame.first of         First  Second\n",
      "Blue       42      16\n",
      "Green      12      25\n",
      "Purple    NaN      34\n",
      "Red       NaN      22\n",
      "Yellow     37     NaN>\n"
     ]
    }
   ],
   "source": [
    "print 'Column as attribute: ', df.first"
   ]
  },
  {
   "cell_type": "code",
   "execution_count": 14,
   "metadata": {
    "collapsed": false,
    "slideshow": {
     "slide_type": "subslide"
    }
   },
   "outputs": [
    {
     "name": "stdout",
     "output_type": "stream",
     "text": [
      "Row via ix: First     42\n",
      "Second    16\n",
      "Name: Blue, dtype: float64\n"
     ]
    }
   ],
   "source": [
    "print 'Row via ix:', df.ix['Blue']"
   ]
  },
  {
   "cell_type": "markdown",
   "metadata": {
    "slideshow": {
     "slide_type": "subslide"
    }
   },
   "source": [
    "We can then apply many of the same numpy functions on this data, on a per column basis:"
   ]
  },
  {
   "cell_type": "code",
   "execution_count": 15,
   "metadata": {
    "collapsed": false,
    "slideshow": {
     "slide_type": "fragment"
    }
   },
   "outputs": [
    {
     "data": {
      "text/plain": [
       "First     42\n",
       "Second    34\n",
       "dtype: float64"
      ]
     },
     "execution_count": 15,
     "metadata": {},
     "output_type": "execute_result"
    }
   ],
   "source": [
    "df.max()"
   ]
  },
  {
   "cell_type": "code",
   "execution_count": 16,
   "metadata": {
    "collapsed": false,
    "slideshow": {
     "slide_type": "fragment"
    }
   },
   "outputs": [
    {
     "data": {
      "text/plain": [
       "First     91\n",
       "Second    97\n",
       "dtype: float64"
      ]
     },
     "execution_count": 16,
     "metadata": {},
     "output_type": "execute_result"
    }
   ],
   "source": [
    "df.sum()"
   ]
  },
  {
   "cell_type": "markdown",
   "metadata": {
    "slideshow": {
     "slide_type": "slide"
    }
   },
   "source": [
    "## Using Pandas with CIS data"
   ]
  },
  {
   "cell_type": "markdown",
   "metadata": {
    "slideshow": {
     "slide_type": "fragment"
    }
   },
   "source": [
    "We can easily convert CIS data into pandas data to take advantage of this time-series functionality."
   ]
  },
  {
   "cell_type": "code",
   "execution_count": 17,
   "metadata": {
    "collapsed": false,
    "slideshow": {
     "slide_type": "fragment"
    }
   },
   "outputs": [
    {
     "name": "stderr",
     "output_type": "stream",
     "text": [
      "WARNING:root:Identified 12 point(s) which were missing values for some or all coordinates - these points have been removed from the data.\n"
     ]
    },
    {
     "data": {
      "text/html": [
       "<div>\n",
       "<table border=\"1\" class=\"dataframe\">\n",
       "  <thead>\n",
       "    <tr style=\"text-align: right;\">\n",
       "      <th></th>\n",
       "      <th>BC_Mass</th>\n",
       "      <th>Lat</th>\n",
       "      <th>Lon</th>\n",
       "    </tr>\n",
       "  </thead>\n",
       "  <tbody>\n",
       "    <tr>\n",
       "      <th>2008-05-06 09:11:38</th>\n",
       "      <td>144.1440</td>\n",
       "      <td>48.031101</td>\n",
       "      <td>11.212400</td>\n",
       "    </tr>\n",
       "    <tr>\n",
       "      <th>2008-05-06 09:11:44</th>\n",
       "      <td>114.5720</td>\n",
       "      <td>48.026798</td>\n",
       "      <td>11.205300</td>\n",
       "    </tr>\n",
       "    <tr>\n",
       "      <th>2008-05-06 09:11:50</th>\n",
       "      <td>124.8760</td>\n",
       "      <td>48.022598</td>\n",
       "      <td>11.197500</td>\n",
       "    </tr>\n",
       "    <tr>\n",
       "      <th>2008-05-06 09:11:56</th>\n",
       "      <td>147.8370</td>\n",
       "      <td>48.018398</td>\n",
       "      <td>11.189200</td>\n",
       "    </tr>\n",
       "    <tr>\n",
       "      <th>2008-05-06 09:12:02</th>\n",
       "      <td>112.0370</td>\n",
       "      <td>48.014500</td>\n",
       "      <td>11.180400</td>\n",
       "    </tr>\n",
       "    <tr>\n",
       "      <th>2008-05-06 09:12:08</th>\n",
       "      <td>149.7000</td>\n",
       "      <td>48.010899</td>\n",
       "      <td>11.171200</td>\n",
       "    </tr>\n",
       "    <tr>\n",
       "      <th>2008-05-06 09:12:14</th>\n",
       "      <td>148.4620</td>\n",
       "      <td>48.007401</td>\n",
       "      <td>11.161600</td>\n",
       "    </tr>\n",
       "    <tr>\n",
       "      <th>2008-05-06 09:12:20</th>\n",
       "      <td>118.6980</td>\n",
       "      <td>48.004200</td>\n",
       "      <td>11.152000</td>\n",
       "    </tr>\n",
       "    <tr>\n",
       "      <th>2008-05-06 09:12:26</th>\n",
       "      <td>113.8810</td>\n",
       "      <td>48.001099</td>\n",
       "      <td>11.142200</td>\n",
       "    </tr>\n",
       "    <tr>\n",
       "      <th>2008-05-06 09:12:32</th>\n",
       "      <td>140.1160</td>\n",
       "      <td>47.998100</td>\n",
       "      <td>11.132500</td>\n",
       "    </tr>\n",
       "    <tr>\n",
       "      <th>2008-05-06 09:12:38</th>\n",
       "      <td>165.0810</td>\n",
       "      <td>47.995098</td>\n",
       "      <td>11.122700</td>\n",
       "    </tr>\n",
       "    <tr>\n",
       "      <th>2008-05-06 09:12:44</th>\n",
       "      <td>268.9960</td>\n",
       "      <td>47.992100</td>\n",
       "      <td>11.113100</td>\n",
       "    </tr>\n",
       "    <tr>\n",
       "      <th>2008-05-06 09:12:50</th>\n",
       "      <td>255.1670</td>\n",
       "      <td>47.989101</td>\n",
       "      <td>11.103600</td>\n",
       "    </tr>\n",
       "    <tr>\n",
       "      <th>2008-05-06 09:12:56</th>\n",
       "      <td>260.2810</td>\n",
       "      <td>47.986099</td>\n",
       "      <td>11.094000</td>\n",
       "    </tr>\n",
       "    <tr>\n",
       "      <th>2008-05-06 09:13:02</th>\n",
       "      <td>322.3670</td>\n",
       "      <td>47.983101</td>\n",
       "      <td>11.084500</td>\n",
       "    </tr>\n",
       "    <tr>\n",
       "      <th>2008-05-06 09:13:08</th>\n",
       "      <td>275.7970</td>\n",
       "      <td>47.980000</td>\n",
       "      <td>11.074800</td>\n",
       "    </tr>\n",
       "    <tr>\n",
       "      <th>2008-05-06 09:13:14</th>\n",
       "      <td>175.9630</td>\n",
       "      <td>47.976700</td>\n",
       "      <td>11.065100</td>\n",
       "    </tr>\n",
       "    <tr>\n",
       "      <th>2008-05-06 09:13:20</th>\n",
       "      <td>265.8300</td>\n",
       "      <td>47.973400</td>\n",
       "      <td>11.055400</td>\n",
       "    </tr>\n",
       "    <tr>\n",
       "      <th>2008-05-06 09:13:26</th>\n",
       "      <td>210.1380</td>\n",
       "      <td>47.970100</td>\n",
       "      <td>11.045600</td>\n",
       "    </tr>\n",
       "    <tr>\n",
       "      <th>2008-05-06 09:13:32</th>\n",
       "      <td>235.6680</td>\n",
       "      <td>47.966900</td>\n",
       "      <td>11.035700</td>\n",
       "    </tr>\n",
       "    <tr>\n",
       "      <th>2008-05-06 09:13:38</th>\n",
       "      <td>220.9130</td>\n",
       "      <td>47.963600</td>\n",
       "      <td>11.025800</td>\n",
       "    </tr>\n",
       "    <tr>\n",
       "      <th>2008-05-06 09:13:44</th>\n",
       "      <td>239.3960</td>\n",
       "      <td>47.960400</td>\n",
       "      <td>11.015800</td>\n",
       "    </tr>\n",
       "    <tr>\n",
       "      <th>2008-05-06 09:13:50</th>\n",
       "      <td>170.9000</td>\n",
       "      <td>47.957699</td>\n",
       "      <td>11.005400</td>\n",
       "    </tr>\n",
       "    <tr>\n",
       "      <th>2008-05-06 09:13:56</th>\n",
       "      <td>188.1840</td>\n",
       "      <td>47.956001</td>\n",
       "      <td>10.994500</td>\n",
       "    </tr>\n",
       "    <tr>\n",
       "      <th>2008-05-06 09:14:02</th>\n",
       "      <td>220.0030</td>\n",
       "      <td>47.955200</td>\n",
       "      <td>10.983400</td>\n",
       "    </tr>\n",
       "    <tr>\n",
       "      <th>2008-05-06 09:14:08</th>\n",
       "      <td>218.1180</td>\n",
       "      <td>47.955002</td>\n",
       "      <td>10.972000</td>\n",
       "    </tr>\n",
       "    <tr>\n",
       "      <th>2008-05-06 09:14:14</th>\n",
       "      <td>228.1930</td>\n",
       "      <td>47.955002</td>\n",
       "      <td>10.960500</td>\n",
       "    </tr>\n",
       "    <tr>\n",
       "      <th>2008-05-06 09:14:20</th>\n",
       "      <td>206.9730</td>\n",
       "      <td>47.955200</td>\n",
       "      <td>10.948900</td>\n",
       "    </tr>\n",
       "    <tr>\n",
       "      <th>2008-05-06 09:14:26</th>\n",
       "      <td>208.6280</td>\n",
       "      <td>47.955299</td>\n",
       "      <td>10.937300</td>\n",
       "    </tr>\n",
       "    <tr>\n",
       "      <th>2008-05-06 09:14:32</th>\n",
       "      <td>226.1960</td>\n",
       "      <td>47.955399</td>\n",
       "      <td>10.925600</td>\n",
       "    </tr>\n",
       "    <tr>\n",
       "      <th>...</th>\n",
       "      <td>...</td>\n",
       "      <td>...</td>\n",
       "      <td>...</td>\n",
       "    </tr>\n",
       "    <tr>\n",
       "      <th>2008-05-22 13:09:48</th>\n",
       "      <td>31.7568</td>\n",
       "      <td>52.225700</td>\n",
       "      <td>-0.820907</td>\n",
       "    </tr>\n",
       "    <tr>\n",
       "      <th>2008-05-22 13:09:54</th>\n",
       "      <td>23.9183</td>\n",
       "      <td>52.226200</td>\n",
       "      <td>-0.808870</td>\n",
       "    </tr>\n",
       "    <tr>\n",
       "      <th>2008-05-22 13:10:00</th>\n",
       "      <td>39.2030</td>\n",
       "      <td>52.226101</td>\n",
       "      <td>-0.796926</td>\n",
       "    </tr>\n",
       "    <tr>\n",
       "      <th>2008-05-22 13:10:06</th>\n",
       "      <td>29.8282</td>\n",
       "      <td>52.224602</td>\n",
       "      <td>-0.785400</td>\n",
       "    </tr>\n",
       "    <tr>\n",
       "      <th>2008-05-22 13:10:12</th>\n",
       "      <td>40.5798</td>\n",
       "      <td>52.221600</td>\n",
       "      <td>-0.774858</td>\n",
       "    </tr>\n",
       "    <tr>\n",
       "      <th>2008-05-22 13:10:18</th>\n",
       "      <td>26.0588</td>\n",
       "      <td>52.217400</td>\n",
       "      <td>-0.765715</td>\n",
       "    </tr>\n",
       "    <tr>\n",
       "      <th>2008-05-22 13:10:24</th>\n",
       "      <td>29.0014</td>\n",
       "      <td>52.212200</td>\n",
       "      <td>-0.758168</td>\n",
       "    </tr>\n",
       "    <tr>\n",
       "      <th>2008-05-22 13:10:30</th>\n",
       "      <td>35.8803</td>\n",
       "      <td>52.206501</td>\n",
       "      <td>-0.751883</td>\n",
       "    </tr>\n",
       "    <tr>\n",
       "      <th>2008-05-22 13:10:36</th>\n",
       "      <td>27.6358</td>\n",
       "      <td>52.200802</td>\n",
       "      <td>-0.745414</td>\n",
       "    </tr>\n",
       "    <tr>\n",
       "      <th>2008-05-22 13:10:42</th>\n",
       "      <td>37.0731</td>\n",
       "      <td>52.195702</td>\n",
       "      <td>-0.737763</td>\n",
       "    </tr>\n",
       "    <tr>\n",
       "      <th>2008-05-22 13:10:48</th>\n",
       "      <td>44.1955</td>\n",
       "      <td>52.191101</td>\n",
       "      <td>-0.729222</td>\n",
       "    </tr>\n",
       "    <tr>\n",
       "      <th>2008-05-22 13:10:54</th>\n",
       "      <td>36.7343</td>\n",
       "      <td>52.186798</td>\n",
       "      <td>-0.720336</td>\n",
       "    </tr>\n",
       "    <tr>\n",
       "      <th>2008-05-22 13:11:00</th>\n",
       "      <td>36.6205</td>\n",
       "      <td>52.182701</td>\n",
       "      <td>-0.711381</td>\n",
       "    </tr>\n",
       "    <tr>\n",
       "      <th>2008-05-22 13:11:06</th>\n",
       "      <td>36.1217</td>\n",
       "      <td>52.178501</td>\n",
       "      <td>-0.702407</td>\n",
       "    </tr>\n",
       "    <tr>\n",
       "      <th>2008-05-22 13:11:12</th>\n",
       "      <td>37.4727</td>\n",
       "      <td>52.174500</td>\n",
       "      <td>-0.693422</td>\n",
       "    </tr>\n",
       "    <tr>\n",
       "      <th>2008-05-22 13:11:18</th>\n",
       "      <td>36.8654</td>\n",
       "      <td>52.170502</td>\n",
       "      <td>-0.684442</td>\n",
       "    </tr>\n",
       "    <tr>\n",
       "      <th>2008-05-22 13:11:24</th>\n",
       "      <td>44.7990</td>\n",
       "      <td>52.166500</td>\n",
       "      <td>-0.675497</td>\n",
       "    </tr>\n",
       "    <tr>\n",
       "      <th>2008-05-22 13:11:30</th>\n",
       "      <td>38.1811</td>\n",
       "      <td>52.162601</td>\n",
       "      <td>-0.666593</td>\n",
       "    </tr>\n",
       "    <tr>\n",
       "      <th>2008-05-22 13:11:36</th>\n",
       "      <td>40.5909</td>\n",
       "      <td>52.158798</td>\n",
       "      <td>-0.657709</td>\n",
       "    </tr>\n",
       "    <tr>\n",
       "      <th>2008-05-22 13:11:42</th>\n",
       "      <td>43.9407</td>\n",
       "      <td>52.154900</td>\n",
       "      <td>-0.648849</td>\n",
       "    </tr>\n",
       "    <tr>\n",
       "      <th>2008-05-22 13:11:48</th>\n",
       "      <td>46.3236</td>\n",
       "      <td>52.151001</td>\n",
       "      <td>-0.640025</td>\n",
       "    </tr>\n",
       "    <tr>\n",
       "      <th>2008-05-22 13:11:54</th>\n",
       "      <td>39.3391</td>\n",
       "      <td>52.147099</td>\n",
       "      <td>-0.631228</td>\n",
       "    </tr>\n",
       "    <tr>\n",
       "      <th>2008-05-22 13:12:00</th>\n",
       "      <td>55.6050</td>\n",
       "      <td>52.143299</td>\n",
       "      <td>-0.622282</td>\n",
       "    </tr>\n",
       "    <tr>\n",
       "      <th>2008-05-22 13:12:06</th>\n",
       "      <td>47.1951</td>\n",
       "      <td>52.139900</td>\n",
       "      <td>-0.613028</td>\n",
       "    </tr>\n",
       "    <tr>\n",
       "      <th>2008-05-22 13:12:12</th>\n",
       "      <td>43.5564</td>\n",
       "      <td>52.137001</td>\n",
       "      <td>-0.603329</td>\n",
       "    </tr>\n",
       "    <tr>\n",
       "      <th>2008-05-22 13:12:18</th>\n",
       "      <td>52.5288</td>\n",
       "      <td>52.134800</td>\n",
       "      <td>-0.593106</td>\n",
       "    </tr>\n",
       "    <tr>\n",
       "      <th>2008-05-22 13:12:24</th>\n",
       "      <td>58.3320</td>\n",
       "      <td>52.133400</td>\n",
       "      <td>-0.582495</td>\n",
       "    </tr>\n",
       "    <tr>\n",
       "      <th>2008-05-22 13:12:30</th>\n",
       "      <td>63.8618</td>\n",
       "      <td>52.132599</td>\n",
       "      <td>-0.571736</td>\n",
       "    </tr>\n",
       "    <tr>\n",
       "      <th>2008-05-22 13:12:36</th>\n",
       "      <td>51.2281</td>\n",
       "      <td>52.132000</td>\n",
       "      <td>-0.560973</td>\n",
       "    </tr>\n",
       "    <tr>\n",
       "      <th>2008-05-22 13:12:42</th>\n",
       "      <td>NaN</td>\n",
       "      <td>52.131802</td>\n",
       "      <td>-0.550255</td>\n",
       "    </tr>\n",
       "  </tbody>\n",
       "</table>\n",
       "<p>33040 rows × 3 columns</p>\n",
       "</div>"
      ],
      "text/plain": [
       "                      BC_Mass        Lat        Lon\n",
       "2008-05-06 09:11:38  144.1440  48.031101  11.212400\n",
       "2008-05-06 09:11:44  114.5720  48.026798  11.205300\n",
       "2008-05-06 09:11:50  124.8760  48.022598  11.197500\n",
       "2008-05-06 09:11:56  147.8370  48.018398  11.189200\n",
       "2008-05-06 09:12:02  112.0370  48.014500  11.180400\n",
       "2008-05-06 09:12:08  149.7000  48.010899  11.171200\n",
       "2008-05-06 09:12:14  148.4620  48.007401  11.161600\n",
       "2008-05-06 09:12:20  118.6980  48.004200  11.152000\n",
       "2008-05-06 09:12:26  113.8810  48.001099  11.142200\n",
       "2008-05-06 09:12:32  140.1160  47.998100  11.132500\n",
       "2008-05-06 09:12:38  165.0810  47.995098  11.122700\n",
       "2008-05-06 09:12:44  268.9960  47.992100  11.113100\n",
       "2008-05-06 09:12:50  255.1670  47.989101  11.103600\n",
       "2008-05-06 09:12:56  260.2810  47.986099  11.094000\n",
       "2008-05-06 09:13:02  322.3670  47.983101  11.084500\n",
       "2008-05-06 09:13:08  275.7970  47.980000  11.074800\n",
       "2008-05-06 09:13:14  175.9630  47.976700  11.065100\n",
       "2008-05-06 09:13:20  265.8300  47.973400  11.055400\n",
       "2008-05-06 09:13:26  210.1380  47.970100  11.045600\n",
       "2008-05-06 09:13:32  235.6680  47.966900  11.035700\n",
       "2008-05-06 09:13:38  220.9130  47.963600  11.025800\n",
       "2008-05-06 09:13:44  239.3960  47.960400  11.015800\n",
       "2008-05-06 09:13:50  170.9000  47.957699  11.005400\n",
       "2008-05-06 09:13:56  188.1840  47.956001  10.994500\n",
       "2008-05-06 09:14:02  220.0030  47.955200  10.983400\n",
       "2008-05-06 09:14:08  218.1180  47.955002  10.972000\n",
       "2008-05-06 09:14:14  228.1930  47.955002  10.960500\n",
       "2008-05-06 09:14:20  206.9730  47.955200  10.948900\n",
       "2008-05-06 09:14:26  208.6280  47.955299  10.937300\n",
       "2008-05-06 09:14:32  226.1960  47.955399  10.925600\n",
       "...                       ...        ...        ...\n",
       "2008-05-22 13:09:48   31.7568  52.225700  -0.820907\n",
       "2008-05-22 13:09:54   23.9183  52.226200  -0.808870\n",
       "2008-05-22 13:10:00   39.2030  52.226101  -0.796926\n",
       "2008-05-22 13:10:06   29.8282  52.224602  -0.785400\n",
       "2008-05-22 13:10:12   40.5798  52.221600  -0.774858\n",
       "2008-05-22 13:10:18   26.0588  52.217400  -0.765715\n",
       "2008-05-22 13:10:24   29.0014  52.212200  -0.758168\n",
       "2008-05-22 13:10:30   35.8803  52.206501  -0.751883\n",
       "2008-05-22 13:10:36   27.6358  52.200802  -0.745414\n",
       "2008-05-22 13:10:42   37.0731  52.195702  -0.737763\n",
       "2008-05-22 13:10:48   44.1955  52.191101  -0.729222\n",
       "2008-05-22 13:10:54   36.7343  52.186798  -0.720336\n",
       "2008-05-22 13:11:00   36.6205  52.182701  -0.711381\n",
       "2008-05-22 13:11:06   36.1217  52.178501  -0.702407\n",
       "2008-05-22 13:11:12   37.4727  52.174500  -0.693422\n",
       "2008-05-22 13:11:18   36.8654  52.170502  -0.684442\n",
       "2008-05-22 13:11:24   44.7990  52.166500  -0.675497\n",
       "2008-05-22 13:11:30   38.1811  52.162601  -0.666593\n",
       "2008-05-22 13:11:36   40.5909  52.158798  -0.657709\n",
       "2008-05-22 13:11:42   43.9407  52.154900  -0.648849\n",
       "2008-05-22 13:11:48   46.3236  52.151001  -0.640025\n",
       "2008-05-22 13:11:54   39.3391  52.147099  -0.631228\n",
       "2008-05-22 13:12:00   55.6050  52.143299  -0.622282\n",
       "2008-05-22 13:12:06   47.1951  52.139900  -0.613028\n",
       "2008-05-22 13:12:12   43.5564  52.137001  -0.603329\n",
       "2008-05-22 13:12:18   52.5288  52.134800  -0.593106\n",
       "2008-05-22 13:12:24   58.3320  52.133400  -0.582495\n",
       "2008-05-22 13:12:30   63.8618  52.132599  -0.571736\n",
       "2008-05-22 13:12:36   51.2281  52.132000  -0.560973\n",
       "2008-05-22 13:12:42       NaN  52.131802  -0.550255\n",
       "\n",
       "[33040 rows x 3 columns]"
      ]
     },
     "execution_count": 17,
     "metadata": {},
     "output_type": "execute_result"
    }
   ],
   "source": [
    "from cis import read_data\n",
    "from cis.time_util import cis_standard_time_unit\n",
    "\n",
    "BC_MASS = read_data(\"/Users/watson-parris/Local Data/gassp_data/Level_2/EUCAARI/SP2_EUCAARI_B*200805*.nc\", \"BC_MASS\")\n",
    "\n",
    "time = cis_standard_time_unit.num2date(BC_MASS.coord(standard_name='time').data)\n",
    "\n",
    "cis_df = pd.DataFrame({'BC_Mass': BC_MASS.data, 'Lat': BC_MASS.lat.data, 'Lon': BC_MASS.lon.data}, index=time)\n",
    "cis_df"
   ]
  },
  {
   "cell_type": "code",
   "execution_count": 18,
   "metadata": {
    "collapsed": false,
    "slideshow": {
     "slide_type": "subslide"
    }
   },
   "outputs": [
    {
     "data": {
      "text/plain": [
       "BC_Mass     0.023154\n",
       "Lat        57.583900\n",
       "Lon        15.691700\n",
       "Name: 2008-05-10 10:03:22, dtype: float64"
      ]
     },
     "execution_count": 18,
     "metadata": {},
     "output_type": "execute_result"
    }
   ],
   "source": [
    "# Now we can do cool Pandas stuff!\n",
    "cis_df.ix[cis_df['BC_Mass'].argmin()]"
   ]
  },
  {
   "cell_type": "markdown",
   "metadata": {
    "slideshow": {
     "slide_type": "slide"
    }
   },
   "source": [
    "## Exercise\n",
    "\n",
    "In pairs, plot probability distributions (use kde) of the raw, minutely and hourly averaged black carbon mass"
   ]
  },
  {
   "cell_type": "code",
   "execution_count": 19,
   "metadata": {
    "collapsed": false,
    "slideshow": {
     "slide_type": "fragment"
    }
   },
   "outputs": [
    {
     "data": {
      "text/plain": [
       "<matplotlib.axes._subplots.AxesSubplot at 0x10a21f990>"
      ]
     },
     "execution_count": 19,
     "metadata": {},
     "output_type": "execute_result"
    },
    {
     "data": {
      "image/png": "[encoded data removed]",
      "text/plain": [
       "<matplotlib.figure.Figure at 0x108c08950>"
      ]
     },
     "metadata": {},
     "output_type": "display_data"
    }
   ],
   "source": [
    "%matplotlib inline\n",
    "\n",
    "cis_df['BC_Mass'].plot(kind='kde', xlim=[0,200])\n",
    "cis_df['BC_Mass'].resample('1min', how='mean').plot(kind='kde')\n",
    "cis_df['BC_Mass'].resample('60min', how='mean').plot(kind='kde')"
   ]
  },
  {
   "cell_type": "markdown",
   "metadata": {
    "slideshow": {
     "slide_type": "slide"
    }
   },
   "source": [
    "# Extras"
   ]
  },
  {
   "cell_type": "code",
   "execution_count": 20,
   "metadata": {
    "collapsed": false
   },
   "outputs": [
    {
     "data": {
      "image/png": "[encoded data removed]",
      "text/plain": [
       "<matplotlib.figure.Figure at 0x108b8cc10>"
      ]
     },
     "metadata": {},
     "output_type": "display_data"
    }
   ],
   "source": [
    "from pandas.tools.plotting import scatter_matrix\n",
    "m = scatter_matrix(cis_df, alpha=0.2, figsize=(8, 8), diagonal='kde', edgecolors='none')"
   ]
  },
  {
   "cell_type": "code",
   "execution_count": null,
   "metadata": {
    "collapsed": true
   },
   "outputs": [],
   "source": []
  }
 ],
 "metadata": {
  "celltoolbar": "Slideshow",
  "kernelspec": {
   "display_name": "Python 2",
   "language": "python",
   "name": "python2"
  },
  "language_info": {
   "codemirror_mode": {
    "name": "ipython",
    "version": 2
   },
   "file_extension": ".py",
   "mimetype": "text/x-python",
   "name": "python",
   "nbconvert_exporter": "python",
   "pygments_lexer": "ipython2",
   "version": "2.7.10"
  }
 },
 "nbformat": 4,
 "nbformat_minor": 0
}
