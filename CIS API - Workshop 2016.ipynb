{
 "cells": [
  {
   "cell_type": "markdown",
   "metadata": {
    "slideshow": {
     "slide_type": "slide"
    }
   },
   "source": [
    "# CIS as a Python Library"
   ]
  },
  {
   "cell_type": "markdown",
   "metadata": {
    "slideshow": {
     "slide_type": "subslide"
    }
   },
   "source": [
    "## Reading data is really easy"
   ]
  },
  {
   "cell_type": "markdown",
   "metadata": {
    "slideshow": {
     "slide_type": "fragment"
    }
   },
   "source": [
    "As a Python package CIS can easily be used in your own scripts:"
   ]
  },
  {
   "cell_type": "code",
   "execution_count": 2,
   "metadata": {
    "collapsed": false,
    "slideshow": {
     "slide_type": "fragment"
    }
   },
   "outputs": [],
   "source": [
    "from cis import read_data, read_data_list"
   ]
  },
  {
   "cell_type": "code",
   "execution_count": null,
   "metadata": {
    "collapsed": true
   },
   "outputs": [],
   "source": []
  },
  {
   "cell_type": "markdown",
   "metadata": {
    "slideshow": {
     "slide_type": "fragment"
    }
   },
   "source": [
    "Here we're using it inside an iPython notebook, but this is exactly the same as using it in a script or other Python interpreter."
   ]
  },
  {
   "cell_type": "code",
   "execution_count": 4,
   "metadata": {
    "collapsed": false,
    "scrolled": true,
    "slideshow": {
     "slide_type": "subslide"
    }
   },
   "outputs": [],
   "source": [
    "data_path = \"/Users/watson-parris/Stockholm_workshop/WorkshopData2016/ARCPAC_2008/*.nc\"\n",
    "\n",
    "NC = read_data(data_path, \"NUMBER_CONCENTRATION\")\n",
    "\n",
    "# Note we can also use from cis.data_io.products.AProduct import get_variables to find the variables in a file."
   ]
  },
  {
   "cell_type": "markdown",
   "metadata": {
    "slideshow": {
     "slide_type": "subslide"
    }
   },
   "source": [
    "We can easily print a summary of the data:"
   ]
  },
  {
   "cell_type": "code",
   "execution_count": 5,
   "metadata": {
    "collapsed": false,
    "scrolled": true,
    "slideshow": {
     "slide_type": "fragment"
    }
   },
   "outputs": [
    {
     "name": "stderr",
     "output_type": "stream",
     "text": [
      "WARNING:root:Identified 1 point(s) which were missing values for some or all coordinates - these points have been removed from the data.\n"
     ]
    },
    {
     "name": "stdout",
     "output_type": "stream",
     "text": [
      "Ungridded data: NUMBER_CONCENTRATION / (#/cm3) \n",
      "     Shape = (1268,)\n",
      "\n",
      "     Total number of points = 1268\n",
      "     Number of non-masked points = 981\n",
      "     Long name = \n",
      "     Standard name = None\n",
      "     Units = #/cm3\n",
      "     Missing value = -9999\n",
      "     Range = (17.0, 2191.0)\n",
      "     History = \n",
      "     Coordinates: \n",
      "       time\n",
      "          Long name = \n",
      "          Standard name = time\n",
      "          Units = days since 1600-01-01 00:00:00\n",
      "          Calendar = gregorian\n",
      "          Missing value = -9999\n",
      "          Range = ('2008-04-11 20:01:30.000001', '2008-04-16 03:03:30')\n",
      "          History = \n",
      "       latitude\n",
      "          Long name = \n",
      "          Standard name = latitude\n",
      "          Units = degrees\n",
      "          Missing value = -9999\n",
      "          Range = (63.303199999999997, 75.128600000000006)\n",
      "          History = \n",
      "       longitude\n",
      "          Long name = \n",
      "          Standard name = longitude\n",
      "          Units = degrees\n",
      "          Missing value = -9999\n",
      "          Range = (-165.1241, -139.23159999999999)\n",
      "          History = \n",
      "       altitude\n",
      "          Long name = \n",
      "          Standard name = altitude\n",
      "          Units = m\n",
      "          Missing value = -9999\n",
      "          Range = (77.200000000000003, 6579.6000000000004)\n",
      "          History = \n",
      "       air_pressure\n",
      "          Long name = \n",
      "          Standard name = air_pressure\n",
      "          Units = hPa\n",
      "          Missing value = -9999\n",
      "          Range = (402.13999999999999, 1011.34)\n",
      "          History = \n",
      "\n"
     ]
    }
   ],
   "source": [
    "print NC   # Note the warning below"
   ]
  },
  {
   "cell_type": "markdown",
   "metadata": {
    "slideshow": {
     "slide_type": "subslide"
    }
   },
   "source": [
    "Let's take a look at the methods available on the data:"
   ]
  },
  {
   "cell_type": "code",
   "execution_count": 7,
   "metadata": {
    "collapsed": false,
    "slideshow": {
     "slide_type": "fragment"
    }
   },
   "outputs": [
    {
     "name": "stdout",
     "output_type": "stream",
     "text": [
      "<cis.data_io.Coord.Coord object at 0x110a99f90>\n"
     ]
    }
   ],
   "source": [
    "print NC.lat"
   ]
  },
  {
   "cell_type": "code",
   "execution_count": null,
   "metadata": {
    "collapsed": true
   },
   "outputs": [],
   "source": []
  },
  {
   "cell_type": "markdown",
   "metadata": {
    "slideshow": {
     "slide_type": "subslide"
    }
   },
   "source": [
    "We can also access the data directly:"
   ]
  },
  {
   "cell_type": "code",
   "execution_count": 11,
   "metadata": {
    "collapsed": false,
    "slideshow": {
     "slide_type": "fragment"
    }
   },
   "outputs": [
    {
     "name": "stdout",
     "output_type": "stream",
     "text": [
      "[2191.0 581.0 306.0 ..., 221.0 220.0 187.0]\n",
      "[4800481.0 337561.0 93636.0 ..., 48841.0 48400.0 34969.0]\n"
     ]
    }
   ],
   "source": [
    "print NC.data\n",
    "print NC.data**2"
   ]
  },
  {
   "cell_type": "code",
   "execution_count": null,
   "metadata": {
    "collapsed": true
   },
   "outputs": [],
   "source": [
    "\n",
    " "
   ]
  },
  {
   "cell_type": "code",
   "execution_count": null,
   "metadata": {
    "collapsed": true
   },
   "outputs": [],
   "source": []
  },
  {
   "cell_type": "markdown",
   "metadata": {
    "slideshow": {
     "slide_type": "subslide"
    }
   },
   "source": [
    "And the coordinates:"
   ]
  },
  {
   "cell_type": "code",
   "execution_count": 9,
   "metadata": {
    "collapsed": false,
    "slideshow": {
     "slide_type": "fragment"
    }
   },
   "outputs": [
    {
     "name": "stdout",
     "output_type": "stream",
     "text": [
      "time [ 149120.834375    149120.83506944  149120.83576389 ...,  149125.12604167\n",
      "  149125.12673611  149125.12743056]\n",
      "latitude [ 64.8029  64.7594  64.7385 ...,  64.8948  64.8635  64.8336]\n",
      "longitude [-147.8828 -147.9471 -148.0415 ..., -147.7128 -147.7722 -147.8285]\n",
      "altitude [  233.4   652.9  1099.1 ...,   682.1   435.8   203.5]\n",
      "air_pressure [ 989.79  937.43  884.56 ...,  924.03  954.14  983.3 ]\n",
      "days since 1600-01-01 00:00:00\n"
     ]
    }
   ],
   "source": [
    "for c in NC.coords():\n",
    "    print c.name(), c.data\n",
    "print NC.coord('time').units"
   ]
  },
  {
   "cell_type": "markdown",
   "metadata": {
    "slideshow": {
     "slide_type": "fragment"
    }
   },
   "source": [
    "**Note** in the above that one of the calls is to a method, and the other is to a data attribute. See the help output above."
   ]
  },
  {
   "cell_type": "markdown",
   "metadata": {
    "slideshow": {
     "slide_type": "subslide"
    }
   },
   "source": [
    "We can also look at the metadata:"
   ]
  },
  {
   "cell_type": "code",
   "execution_count": 10,
   "metadata": {
    "collapsed": false,
    "slideshow": {
     "slide_type": "fragment"
    }
   },
   "outputs": [
    {
     "name": "stdout",
     "output_type": "stream",
     "text": [
      "     Long name = \n",
      "     Standard name = None\n",
      "     Units = #/cm3\n",
      "     Missing value = -9999\n",
      "     Range = (17.0, 2191.0)\n",
      "     History = \n",
      "\n"
     ]
    }
   ],
   "source": [
    "print NC.metadata"
   ]
  },
  {
   "cell_type": "markdown",
   "metadata": {
    "slideshow": {
     "slide_type": "fragment"
    }
   },
   "source": [
    "Or edit it:"
   ]
  },
  {
   "cell_type": "code",
   "execution_count": 11,
   "metadata": {
    "collapsed": false,
    "slideshow": {
     "slide_type": "fragment"
    }
   },
   "outputs": [
    {
     "name": "stdout",
     "output_type": "stream",
     "text": [
      "     Long name = \n",
      "     Standard name = None\n",
      "     Units = #/cm3\n",
      "     Missing value = -9999\n",
      "     Range = (17.0, 2191.0)\n",
      "     History = DWP removed the zero-values\n",
      "\n",
      "\n"
     ]
    }
   ],
   "source": [
    "NC.metadata.history += 'DWP removed the zero-values\\n'\n",
    "print NC.metadata  "
   ]
  },
  {
   "cell_type": "markdown",
   "metadata": {
    "slideshow": {
     "slide_type": "notes"
    }
   },
   "source": [
    "Note the `\\n` above - this is a line break, and ensures that when we add another line to the history the lines won't run into each other."
   ]
  },
  {
   "cell_type": "markdown",
   "metadata": {
    "slideshow": {
     "slide_type": "slide"
    }
   },
   "source": [
    "## Using Pandas with CIS data\n",
    "\n",
    "Now that we have the data in Python we can use any Python library to work with it. \n",
    "\n",
    "We've shown how to access the data in Numpy arrays, but it's also easy to read data into Pandas."
   ]
  },
  {
   "cell_type": "markdown",
   "metadata": {
    "slideshow": {
     "slide_type": "fragment"
    }
   },
   "source": [
    "Pandas (http://pandas.pydata.org) is a free, open-source library for data analysis and offers powerful tools similar to R. \n",
    "\n",
    "It's particularly good for working with time series."
   ]
  },
  {
   "cell_type": "markdown",
   "metadata": {
    "slideshow": {
     "slide_type": "subslide"
    }
   },
   "source": [
    "We can easily convert CIS data into pandas data to take advantage of this time-series functionality:"
   ]
  },
  {
   "cell_type": "code",
   "execution_count": 12,
   "metadata": {
    "collapsed": false,
    "slideshow": {
     "slide_type": "fragment"
    }
   },
   "outputs": [],
   "source": [
    "df = NC.as_data_frame()"
   ]
  },
  {
   "cell_type": "code",
   "execution_count": 13,
   "metadata": {
    "collapsed": false,
    "scrolled": false
   },
   "outputs": [
    {
     "data": {
      "text/html": [
       "<div>\n",
       "<table border=\"1\" class=\"dataframe\">\n",
       "  <thead>\n",
       "    <tr style=\"text-align: right;\">\n",
       "      <th></th>\n",
       "      <th>air_pressure</th>\n",
       "      <th>altitude</th>\n",
       "      <th>latitude</th>\n",
       "      <th>longitude</th>\n",
       "      <th>NUMBER_CONCENTRATION</th>\n",
       "    </tr>\n",
       "  </thead>\n",
       "  <tbody>\n",
       "    <tr>\n",
       "      <th>2008-04-11 20:01:30.000001</th>\n",
       "      <td>989.79</td>\n",
       "      <td>233.4</td>\n",
       "      <td>64.8029</td>\n",
       "      <td>-147.8828</td>\n",
       "      <td>2191.0</td>\n",
       "    </tr>\n",
       "    <tr>\n",
       "      <th>2008-04-11 20:02:30.000000</th>\n",
       "      <td>937.43</td>\n",
       "      <td>652.9</td>\n",
       "      <td>64.7594</td>\n",
       "      <td>-147.9471</td>\n",
       "      <td>581.0</td>\n",
       "    </tr>\n",
       "    <tr>\n",
       "      <th>2008-04-11 20:03:30.000000</th>\n",
       "      <td>884.56</td>\n",
       "      <td>1099.1</td>\n",
       "      <td>64.7385</td>\n",
       "      <td>-148.0415</td>\n",
       "      <td>306.0</td>\n",
       "    </tr>\n",
       "    <tr>\n",
       "      <th>2008-04-11 20:04:30.000000</th>\n",
       "      <td>839.03</td>\n",
       "      <td>1496.7</td>\n",
       "      <td>64.7820</td>\n",
       "      <td>-148.1129</td>\n",
       "      <td>281.0</td>\n",
       "    </tr>\n",
       "    <tr>\n",
       "      <th>2008-04-11 20:05:30.000000</th>\n",
       "      <td>797.26</td>\n",
       "      <td>1877.5</td>\n",
       "      <td>64.8434</td>\n",
       "      <td>-148.1207</td>\n",
       "      <td>246.0</td>\n",
       "    </tr>\n",
       "    <tr>\n",
       "      <th>2008-04-11 20:06:30.000000</th>\n",
       "      <td>758.63</td>\n",
       "      <td>2245.8</td>\n",
       "      <td>64.9073</td>\n",
       "      <td>-148.1275</td>\n",
       "      <td>230.0</td>\n",
       "    </tr>\n",
       "    <tr>\n",
       "      <th>2008-04-11 20:07:30.000000</th>\n",
       "      <td>719.23</td>\n",
       "      <td>2638.7</td>\n",
       "      <td>64.9720</td>\n",
       "      <td>-148.1360</td>\n",
       "      <td>241.0</td>\n",
       "    </tr>\n",
       "    <tr>\n",
       "      <th>2008-04-11 20:08:30.000016</th>\n",
       "      <td>683.18</td>\n",
       "      <td>3013.7</td>\n",
       "      <td>65.0354</td>\n",
       "      <td>-148.1538</td>\n",
       "      <td>197.0</td>\n",
       "    </tr>\n",
       "    <tr>\n",
       "      <th>2008-04-11 20:09:30.000012</th>\n",
       "      <td>658.75</td>\n",
       "      <td>3275.1</td>\n",
       "      <td>65.1007</td>\n",
       "      <td>-148.1691</td>\n",
       "      <td>209.0</td>\n",
       "    </tr>\n",
       "    <tr>\n",
       "      <th>2008-04-11 20:10:30.000009</th>\n",
       "      <td>646.21</td>\n",
       "      <td>3411.1</td>\n",
       "      <td>65.1700</td>\n",
       "      <td>-148.1806</td>\n",
       "      <td>194.0</td>\n",
       "    </tr>\n",
       "    <tr>\n",
       "      <th>2008-04-11 20:11:30.000005</th>\n",
       "      <td>646.17</td>\n",
       "      <td>3412.2</td>\n",
       "      <td>65.2419</td>\n",
       "      <td>-148.1874</td>\n",
       "      <td>185.0</td>\n",
       "    </tr>\n",
       "    <tr>\n",
       "      <th>2008-04-11 20:12:30.000002</th>\n",
       "      <td>646.34</td>\n",
       "      <td>3410.5</td>\n",
       "      <td>65.3126</td>\n",
       "      <td>-148.1910</td>\n",
       "      <td>184.0</td>\n",
       "    </tr>\n",
       "    <tr>\n",
       "      <th>2008-04-11 20:13:30.000000</th>\n",
       "      <td>646.22</td>\n",
       "      <td>3412.0</td>\n",
       "      <td>65.3824</td>\n",
       "      <td>-148.1974</td>\n",
       "      <td>190.0</td>\n",
       "    </tr>\n",
       "    <tr>\n",
       "      <th>2008-04-11 20:14:30.000000</th>\n",
       "      <td>646.19</td>\n",
       "      <td>3412.1</td>\n",
       "      <td>65.4528</td>\n",
       "      <td>-148.2055</td>\n",
       "      <td>173.0</td>\n",
       "    </tr>\n",
       "    <tr>\n",
       "      <th>2008-04-11 20:15:30.000000</th>\n",
       "      <td>646.25</td>\n",
       "      <td>3411.5</td>\n",
       "      <td>65.5235</td>\n",
       "      <td>-148.2154</td>\n",
       "      <td>170.0</td>\n",
       "    </tr>\n",
       "    <tr>\n",
       "      <th>2008-04-11 20:16:30.000000</th>\n",
       "      <td>646.33</td>\n",
       "      <td>3410.9</td>\n",
       "      <td>65.5938</td>\n",
       "      <td>-148.2256</td>\n",
       "      <td>175.0</td>\n",
       "    </tr>\n",
       "    <tr>\n",
       "      <th>2008-04-11 20:17:30.000000</th>\n",
       "      <td>646.45</td>\n",
       "      <td>3409.3</td>\n",
       "      <td>65.6636</td>\n",
       "      <td>-148.2357</td>\n",
       "      <td>169.0</td>\n",
       "    </tr>\n",
       "    <tr>\n",
       "      <th>2008-04-11 20:18:30.000000</th>\n",
       "      <td>646.46</td>\n",
       "      <td>3408.5</td>\n",
       "      <td>65.7332</td>\n",
       "      <td>-148.2463</td>\n",
       "      <td>162.0</td>\n",
       "    </tr>\n",
       "    <tr>\n",
       "      <th>2008-04-11 20:19:30.000000</th>\n",
       "      <td>646.46</td>\n",
       "      <td>3407.7</td>\n",
       "      <td>65.8034</td>\n",
       "      <td>-148.2568</td>\n",
       "      <td>177.0</td>\n",
       "    </tr>\n",
       "    <tr>\n",
       "      <th>2008-04-11 20:20:30.000000</th>\n",
       "      <td>646.50</td>\n",
       "      <td>3407.2</td>\n",
       "      <td>65.8740</td>\n",
       "      <td>-148.2664</td>\n",
       "      <td>194.0</td>\n",
       "    </tr>\n",
       "    <tr>\n",
       "      <th>2008-04-11 20:21:30.000010</th>\n",
       "      <td>646.49</td>\n",
       "      <td>3407.3</td>\n",
       "      <td>65.9449</td>\n",
       "      <td>-148.2756</td>\n",
       "      <td>236.0</td>\n",
       "    </tr>\n",
       "    <tr>\n",
       "      <th>2008-04-11 20:22:30.000006</th>\n",
       "      <td>646.46</td>\n",
       "      <td>3407.1</td>\n",
       "      <td>66.0160</td>\n",
       "      <td>-148.2849</td>\n",
       "      <td>360.0</td>\n",
       "    </tr>\n",
       "    <tr>\n",
       "      <th>2008-04-11 20:23:30.000002</th>\n",
       "      <td>646.50</td>\n",
       "      <td>3406.0</td>\n",
       "      <td>66.0875</td>\n",
       "      <td>-148.2942</td>\n",
       "      <td>333.0</td>\n",
       "    </tr>\n",
       "    <tr>\n",
       "      <th>2008-04-11 20:24:30.000000</th>\n",
       "      <td>646.57</td>\n",
       "      <td>3404.7</td>\n",
       "      <td>66.1592</td>\n",
       "      <td>-148.3032</td>\n",
       "      <td>307.0</td>\n",
       "    </tr>\n",
       "    <tr>\n",
       "      <th>2008-04-11 20:25:30.000000</th>\n",
       "      <td>646.52</td>\n",
       "      <td>3405.3</td>\n",
       "      <td>66.2312</td>\n",
       "      <td>-148.3120</td>\n",
       "      <td>277.0</td>\n",
       "    </tr>\n",
       "    <tr>\n",
       "      <th>2008-04-11 20:26:30.000000</th>\n",
       "      <td>646.53</td>\n",
       "      <td>3405.2</td>\n",
       "      <td>66.3033</td>\n",
       "      <td>-148.3210</td>\n",
       "      <td>268.0</td>\n",
       "    </tr>\n",
       "    <tr>\n",
       "      <th>2008-04-11 20:27:30.000000</th>\n",
       "      <td>646.58</td>\n",
       "      <td>3404.9</td>\n",
       "      <td>66.3755</td>\n",
       "      <td>-148.3303</td>\n",
       "      <td>255.0</td>\n",
       "    </tr>\n",
       "    <tr>\n",
       "      <th>2008-04-11 20:28:30.000000</th>\n",
       "      <td>646.70</td>\n",
       "      <td>3403.7</td>\n",
       "      <td>66.4471</td>\n",
       "      <td>-148.3402</td>\n",
       "      <td>252.0</td>\n",
       "    </tr>\n",
       "    <tr>\n",
       "      <th>2008-04-11 20:29:30.000000</th>\n",
       "      <td>646.79</td>\n",
       "      <td>3402.5</td>\n",
       "      <td>66.5181</td>\n",
       "      <td>-148.3506</td>\n",
       "      <td>158.0</td>\n",
       "    </tr>\n",
       "    <tr>\n",
       "      <th>2008-04-11 20:30:30.000018</th>\n",
       "      <td>646.75</td>\n",
       "      <td>3403.1</td>\n",
       "      <td>66.5886</td>\n",
       "      <td>-148.3616</td>\n",
       "      <td>151.0</td>\n",
       "    </tr>\n",
       "    <tr>\n",
       "      <th>...</th>\n",
       "      <td>...</td>\n",
       "      <td>...</td>\n",
       "      <td>...</td>\n",
       "      <td>...</td>\n",
       "      <td>...</td>\n",
       "    </tr>\n",
       "    <tr>\n",
       "      <th>2008-04-16 02:34:30.000003</th>\n",
       "      <td>484.51</td>\n",
       "      <td>5326.5</td>\n",
       "      <td>66.4332</td>\n",
       "      <td>-150.5058</td>\n",
       "      <td>350.0</td>\n",
       "    </tr>\n",
       "    <tr>\n",
       "      <th>2008-04-16 02:35:30.000000</th>\n",
       "      <td>484.49</td>\n",
       "      <td>5327.2</td>\n",
       "      <td>66.3617</td>\n",
       "      <td>-150.3813</td>\n",
       "      <td>321.0</td>\n",
       "    </tr>\n",
       "    <tr>\n",
       "      <th>2008-04-16 02:36:30.000000</th>\n",
       "      <td>484.46</td>\n",
       "      <td>5328.5</td>\n",
       "      <td>66.2913</td>\n",
       "      <td>-150.2537</td>\n",
       "      <td>496.0</td>\n",
       "    </tr>\n",
       "    <tr>\n",
       "      <th>2008-04-16 02:37:30.000000</th>\n",
       "      <td>484.47</td>\n",
       "      <td>5330.0</td>\n",
       "      <td>66.2213</td>\n",
       "      <td>-150.1258</td>\n",
       "      <td>403.0</td>\n",
       "    </tr>\n",
       "    <tr>\n",
       "      <th>2008-04-16 02:38:30.000000</th>\n",
       "      <td>484.49</td>\n",
       "      <td>5331.2</td>\n",
       "      <td>66.1513</td>\n",
       "      <td>-149.9991</td>\n",
       "      <td>344.0</td>\n",
       "    </tr>\n",
       "    <tr>\n",
       "      <th>2008-04-16 02:39:30.000000</th>\n",
       "      <td>484.50</td>\n",
       "      <td>5332.1</td>\n",
       "      <td>66.0805</td>\n",
       "      <td>-149.8781</td>\n",
       "      <td>236.0</td>\n",
       "    </tr>\n",
       "    <tr>\n",
       "      <th>2008-04-16 02:40:30.000000</th>\n",
       "      <td>484.49</td>\n",
       "      <td>5334.5</td>\n",
       "      <td>66.0091</td>\n",
       "      <td>-149.7616</td>\n",
       "      <td>288.0</td>\n",
       "    </tr>\n",
       "    <tr>\n",
       "      <th>2008-04-16 02:41:30.000000</th>\n",
       "      <td>484.50</td>\n",
       "      <td>5337.4</td>\n",
       "      <td>65.9380</td>\n",
       "      <td>-149.6455</td>\n",
       "      <td>544.0</td>\n",
       "    </tr>\n",
       "    <tr>\n",
       "      <th>2008-04-16 02:42:30.000000</th>\n",
       "      <td>486.16</td>\n",
       "      <td>5316.7</td>\n",
       "      <td>65.8672</td>\n",
       "      <td>-149.5295</td>\n",
       "      <td>610.0</td>\n",
       "    </tr>\n",
       "    <tr>\n",
       "      <th>2008-04-16 02:43:30.000011</th>\n",
       "      <td>507.86</td>\n",
       "      <td>5018.4</td>\n",
       "      <td>65.7983</td>\n",
       "      <td>-149.4151</td>\n",
       "      <td>377.0</td>\n",
       "    </tr>\n",
       "    <tr>\n",
       "      <th>2008-04-16 02:44:30.000008</th>\n",
       "      <td>526.33</td>\n",
       "      <td>4771.4</td>\n",
       "      <td>65.7328</td>\n",
       "      <td>-149.3015</td>\n",
       "      <td>303.0</td>\n",
       "    </tr>\n",
       "    <tr>\n",
       "      <th>2008-04-16 02:45:30.000004</th>\n",
       "      <td>547.05</td>\n",
       "      <td>4504.9</td>\n",
       "      <td>65.6694</td>\n",
       "      <td>-149.1929</td>\n",
       "      <td>231.0</td>\n",
       "    </tr>\n",
       "    <tr>\n",
       "      <th>2008-04-16 02:46:30.000001</th>\n",
       "      <td>568.29</td>\n",
       "      <td>4238.8</td>\n",
       "      <td>65.6070</td>\n",
       "      <td>-149.0823</td>\n",
       "      <td>200.0</td>\n",
       "    </tr>\n",
       "    <tr>\n",
       "      <th>2008-04-16 02:47:30.000000</th>\n",
       "      <td>586.90</td>\n",
       "      <td>4013.3</td>\n",
       "      <td>65.5502</td>\n",
       "      <td>-148.9587</td>\n",
       "      <td>302.0</td>\n",
       "    </tr>\n",
       "    <tr>\n",
       "      <th>2008-04-16 02:48:30.000000</th>\n",
       "      <td>605.97</td>\n",
       "      <td>3787.6</td>\n",
       "      <td>65.4937</td>\n",
       "      <td>-148.8395</td>\n",
       "      <td>262.0</td>\n",
       "    </tr>\n",
       "    <tr>\n",
       "      <th>2008-04-16 02:49:30.000000</th>\n",
       "      <td>627.04</td>\n",
       "      <td>3546.2</td>\n",
       "      <td>65.4354</td>\n",
       "      <td>-148.7259</td>\n",
       "      <td>555.0</td>\n",
       "    </tr>\n",
       "    <tr>\n",
       "      <th>2008-04-16 02:50:30.000000</th>\n",
       "      <td>646.55</td>\n",
       "      <td>3328.0</td>\n",
       "      <td>65.3767</td>\n",
       "      <td>-148.6144</td>\n",
       "      <td>546.0</td>\n",
       "    </tr>\n",
       "    <tr>\n",
       "      <th>2008-04-16 02:51:30.000000</th>\n",
       "      <td>668.67</td>\n",
       "      <td>3088.1</td>\n",
       "      <td>65.3185</td>\n",
       "      <td>-148.5031</td>\n",
       "      <td>538.0</td>\n",
       "    </tr>\n",
       "    <tr>\n",
       "      <th>2008-04-16 02:52:30.000000</th>\n",
       "      <td>702.08</td>\n",
       "      <td>2736.2</td>\n",
       "      <td>65.2592</td>\n",
       "      <td>-148.3931</td>\n",
       "      <td>511.0</td>\n",
       "    </tr>\n",
       "    <tr>\n",
       "      <th>2008-04-16 02:53:30.000016</th>\n",
       "      <td>735.12</td>\n",
       "      <td>2400.7</td>\n",
       "      <td>65.2034</td>\n",
       "      <td>-148.2816</td>\n",
       "      <td>187.0</td>\n",
       "    </tr>\n",
       "    <tr>\n",
       "      <th>2008-04-16 02:54:30.000012</th>\n",
       "      <td>773.95</td>\n",
       "      <td>2020.8</td>\n",
       "      <td>65.1602</td>\n",
       "      <td>-148.1653</td>\n",
       "      <td>210.0</td>\n",
       "    </tr>\n",
       "    <tr>\n",
       "      <th>2008-04-16 02:55:30.000009</th>\n",
       "      <td>808.48</td>\n",
       "      <td>1694.9</td>\n",
       "      <td>65.1254</td>\n",
       "      <td>-148.0474</td>\n",
       "      <td>222.0</td>\n",
       "    </tr>\n",
       "    <tr>\n",
       "      <th>2008-04-16 02:56:30.000005</th>\n",
       "      <td>836.39</td>\n",
       "      <td>1441.9</td>\n",
       "      <td>65.0882</td>\n",
       "      <td>-147.9370</td>\n",
       "      <td>230.0</td>\n",
       "    </tr>\n",
       "    <tr>\n",
       "      <th>2008-04-16 02:57:30.000002</th>\n",
       "      <td>860.05</td>\n",
       "      <td>1232.0</td>\n",
       "      <td>65.0506</td>\n",
       "      <td>-147.8268</td>\n",
       "      <td>236.0</td>\n",
       "    </tr>\n",
       "    <tr>\n",
       "      <th>2008-04-16 02:58:30.000000</th>\n",
       "      <td>863.69</td>\n",
       "      <td>1199.5</td>\n",
       "      <td>65.0156</td>\n",
       "      <td>-147.7097</td>\n",
       "      <td>237.0</td>\n",
       "    </tr>\n",
       "    <tr>\n",
       "      <th>2008-04-16 02:59:30.000000</th>\n",
       "      <td>876.09</td>\n",
       "      <td>1091.9</td>\n",
       "      <td>64.9706</td>\n",
       "      <td>-147.6263</td>\n",
       "      <td>226.0</td>\n",
       "    </tr>\n",
       "    <tr>\n",
       "      <th>2008-04-16 03:00:30.000000</th>\n",
       "      <td>892.80</td>\n",
       "      <td>944.9</td>\n",
       "      <td>64.9277</td>\n",
       "      <td>-147.6486</td>\n",
       "      <td>219.0</td>\n",
       "    </tr>\n",
       "    <tr>\n",
       "      <th>2008-04-16 03:01:30.000000</th>\n",
       "      <td>924.03</td>\n",
       "      <td>682.1</td>\n",
       "      <td>64.8948</td>\n",
       "      <td>-147.7128</td>\n",
       "      <td>221.0</td>\n",
       "    </tr>\n",
       "    <tr>\n",
       "      <th>2008-04-16 03:02:30.000000</th>\n",
       "      <td>954.14</td>\n",
       "      <td>435.8</td>\n",
       "      <td>64.8635</td>\n",
       "      <td>-147.7722</td>\n",
       "      <td>220.0</td>\n",
       "    </tr>\n",
       "    <tr>\n",
       "      <th>2008-04-16 03:03:30.000000</th>\n",
       "      <td>983.30</td>\n",
       "      <td>203.5</td>\n",
       "      <td>64.8336</td>\n",
       "      <td>-147.8285</td>\n",
       "      <td>187.0</td>\n",
       "    </tr>\n",
       "  </tbody>\n",
       "</table>\n",
       "<p>1268 rows × 5 columns</p>\n",
       "</div>"
      ],
      "text/plain": [
       "                            air_pressure  altitude  latitude  longitude  \\\n",
       "2008-04-11 20:01:30.000001        989.79     233.4   64.8029  -147.8828   \n",
       "2008-04-11 20:02:30.000000        937.43     652.9   64.7594  -147.9471   \n",
       "2008-04-11 20:03:30.000000        884.56    1099.1   64.7385  -148.0415   \n",
       "2008-04-11 20:04:30.000000        839.03    1496.7   64.7820  -148.1129   \n",
       "2008-04-11 20:05:30.000000        797.26    1877.5   64.8434  -148.1207   \n",
       "2008-04-11 20:06:30.000000        758.63    2245.8   64.9073  -148.1275   \n",
       "2008-04-11 20:07:30.000000        719.23    2638.7   64.9720  -148.1360   \n",
       "2008-04-11 20:08:30.000016        683.18    3013.7   65.0354  -148.1538   \n",
       "2008-04-11 20:09:30.000012        658.75    3275.1   65.1007  -148.1691   \n",
       "2008-04-11 20:10:30.000009        646.21    3411.1   65.1700  -148.1806   \n",
       "2008-04-11 20:11:30.000005        646.17    3412.2   65.2419  -148.1874   \n",
       "2008-04-11 20:12:30.000002        646.34    3410.5   65.3126  -148.1910   \n",
       "2008-04-11 20:13:30.000000        646.22    3412.0   65.3824  -148.1974   \n",
       "2008-04-11 20:14:30.000000        646.19    3412.1   65.4528  -148.2055   \n",
       "2008-04-11 20:15:30.000000        646.25    3411.5   65.5235  -148.2154   \n",
       "2008-04-11 20:16:30.000000        646.33    3410.9   65.5938  -148.2256   \n",
       "2008-04-11 20:17:30.000000        646.45    3409.3   65.6636  -148.2357   \n",
       "2008-04-11 20:18:30.000000        646.46    3408.5   65.7332  -148.2463   \n",
       "2008-04-11 20:19:30.000000        646.46    3407.7   65.8034  -148.2568   \n",
       "2008-04-11 20:20:30.000000        646.50    3407.2   65.8740  -148.2664   \n",
       "2008-04-11 20:21:30.000010        646.49    3407.3   65.9449  -148.2756   \n",
       "2008-04-11 20:22:30.000006        646.46    3407.1   66.0160  -148.2849   \n",
       "2008-04-11 20:23:30.000002        646.50    3406.0   66.0875  -148.2942   \n",
       "2008-04-11 20:24:30.000000        646.57    3404.7   66.1592  -148.3032   \n",
       "2008-04-11 20:25:30.000000        646.52    3405.3   66.2312  -148.3120   \n",
       "2008-04-11 20:26:30.000000        646.53    3405.2   66.3033  -148.3210   \n",
       "2008-04-11 20:27:30.000000        646.58    3404.9   66.3755  -148.3303   \n",
       "2008-04-11 20:28:30.000000        646.70    3403.7   66.4471  -148.3402   \n",
       "2008-04-11 20:29:30.000000        646.79    3402.5   66.5181  -148.3506   \n",
       "2008-04-11 20:30:30.000018        646.75    3403.1   66.5886  -148.3616   \n",
       "...                                  ...       ...       ...        ...   \n",
       "2008-04-16 02:34:30.000003        484.51    5326.5   66.4332  -150.5058   \n",
       "2008-04-16 02:35:30.000000        484.49    5327.2   66.3617  -150.3813   \n",
       "2008-04-16 02:36:30.000000        484.46    5328.5   66.2913  -150.2537   \n",
       "2008-04-16 02:37:30.000000        484.47    5330.0   66.2213  -150.1258   \n",
       "2008-04-16 02:38:30.000000        484.49    5331.2   66.1513  -149.9991   \n",
       "2008-04-16 02:39:30.000000        484.50    5332.1   66.0805  -149.8781   \n",
       "2008-04-16 02:40:30.000000        484.49    5334.5   66.0091  -149.7616   \n",
       "2008-04-16 02:41:30.000000        484.50    5337.4   65.9380  -149.6455   \n",
       "2008-04-16 02:42:30.000000        486.16    5316.7   65.8672  -149.5295   \n",
       "2008-04-16 02:43:30.000011        507.86    5018.4   65.7983  -149.4151   \n",
       "2008-04-16 02:44:30.000008        526.33    4771.4   65.7328  -149.3015   \n",
       "2008-04-16 02:45:30.000004        547.05    4504.9   65.6694  -149.1929   \n",
       "2008-04-16 02:46:30.000001        568.29    4238.8   65.6070  -149.0823   \n",
       "2008-04-16 02:47:30.000000        586.90    4013.3   65.5502  -148.9587   \n",
       "2008-04-16 02:48:30.000000        605.97    3787.6   65.4937  -148.8395   \n",
       "2008-04-16 02:49:30.000000        627.04    3546.2   65.4354  -148.7259   \n",
       "2008-04-16 02:50:30.000000        646.55    3328.0   65.3767  -148.6144   \n",
       "2008-04-16 02:51:30.000000        668.67    3088.1   65.3185  -148.5031   \n",
       "2008-04-16 02:52:30.000000        702.08    2736.2   65.2592  -148.3931   \n",
       "2008-04-16 02:53:30.000016        735.12    2400.7   65.2034  -148.2816   \n",
       "2008-04-16 02:54:30.000012        773.95    2020.8   65.1602  -148.1653   \n",
       "2008-04-16 02:55:30.000009        808.48    1694.9   65.1254  -148.0474   \n",
       "2008-04-16 02:56:30.000005        836.39    1441.9   65.0882  -147.9370   \n",
       "2008-04-16 02:57:30.000002        860.05    1232.0   65.0506  -147.8268   \n",
       "2008-04-16 02:58:30.000000        863.69    1199.5   65.0156  -147.7097   \n",
       "2008-04-16 02:59:30.000000        876.09    1091.9   64.9706  -147.6263   \n",
       "2008-04-16 03:00:30.000000        892.80     944.9   64.9277  -147.6486   \n",
       "2008-04-16 03:01:30.000000        924.03     682.1   64.8948  -147.7128   \n",
       "2008-04-16 03:02:30.000000        954.14     435.8   64.8635  -147.7722   \n",
       "2008-04-16 03:03:30.000000        983.30     203.5   64.8336  -147.8285   \n",
       "\n",
       "                            NUMBER_CONCENTRATION  \n",
       "2008-04-11 20:01:30.000001                2191.0  \n",
       "2008-04-11 20:02:30.000000                 581.0  \n",
       "2008-04-11 20:03:30.000000                 306.0  \n",
       "2008-04-11 20:04:30.000000                 281.0  \n",
       "2008-04-11 20:05:30.000000                 246.0  \n",
       "2008-04-11 20:06:30.000000                 230.0  \n",
       "2008-04-11 20:07:30.000000                 241.0  \n",
       "2008-04-11 20:08:30.000016                 197.0  \n",
       "2008-04-11 20:09:30.000012                 209.0  \n",
       "2008-04-11 20:10:30.000009                 194.0  \n",
       "2008-04-11 20:11:30.000005                 185.0  \n",
       "2008-04-11 20:12:30.000002                 184.0  \n",
       "2008-04-11 20:13:30.000000                 190.0  \n",
       "2008-04-11 20:14:30.000000                 173.0  \n",
       "2008-04-11 20:15:30.000000                 170.0  \n",
       "2008-04-11 20:16:30.000000                 175.0  \n",
       "2008-04-11 20:17:30.000000                 169.0  \n",
       "2008-04-11 20:18:30.000000                 162.0  \n",
       "2008-04-11 20:19:30.000000                 177.0  \n",
       "2008-04-11 20:20:30.000000                 194.0  \n",
       "2008-04-11 20:21:30.000010                 236.0  \n",
       "2008-04-11 20:22:30.000006                 360.0  \n",
       "2008-04-11 20:23:30.000002                 333.0  \n",
       "2008-04-11 20:24:30.000000                 307.0  \n",
       "2008-04-11 20:25:30.000000                 277.0  \n",
       "2008-04-11 20:26:30.000000                 268.0  \n",
       "2008-04-11 20:27:30.000000                 255.0  \n",
       "2008-04-11 20:28:30.000000                 252.0  \n",
       "2008-04-11 20:29:30.000000                 158.0  \n",
       "2008-04-11 20:30:30.000018                 151.0  \n",
       "...                                          ...  \n",
       "2008-04-16 02:34:30.000003                 350.0  \n",
       "2008-04-16 02:35:30.000000                 321.0  \n",
       "2008-04-16 02:36:30.000000                 496.0  \n",
       "2008-04-16 02:37:30.000000                 403.0  \n",
       "2008-04-16 02:38:30.000000                 344.0  \n",
       "2008-04-16 02:39:30.000000                 236.0  \n",
       "2008-04-16 02:40:30.000000                 288.0  \n",
       "2008-04-16 02:41:30.000000                 544.0  \n",
       "2008-04-16 02:42:30.000000                 610.0  \n",
       "2008-04-16 02:43:30.000011                 377.0  \n",
       "2008-04-16 02:44:30.000008                 303.0  \n",
       "2008-04-16 02:45:30.000004                 231.0  \n",
       "2008-04-16 02:46:30.000001                 200.0  \n",
       "2008-04-16 02:47:30.000000                 302.0  \n",
       "2008-04-16 02:48:30.000000                 262.0  \n",
       "2008-04-16 02:49:30.000000                 555.0  \n",
       "2008-04-16 02:50:30.000000                 546.0  \n",
       "2008-04-16 02:51:30.000000                 538.0  \n",
       "2008-04-16 02:52:30.000000                 511.0  \n",
       "2008-04-16 02:53:30.000016                 187.0  \n",
       "2008-04-16 02:54:30.000012                 210.0  \n",
       "2008-04-16 02:55:30.000009                 222.0  \n",
       "2008-04-16 02:56:30.000005                 230.0  \n",
       "2008-04-16 02:57:30.000002                 236.0  \n",
       "2008-04-16 02:58:30.000000                 237.0  \n",
       "2008-04-16 02:59:30.000000                 226.0  \n",
       "2008-04-16 03:00:30.000000                 219.0  \n",
       "2008-04-16 03:01:30.000000                 221.0  \n",
       "2008-04-16 03:02:30.000000                 220.0  \n",
       "2008-04-16 03:03:30.000000                 187.0  \n",
       "\n",
       "[1268 rows x 5 columns]"
      ]
     },
     "execution_count": 13,
     "metadata": {},
     "output_type": "execute_result"
    }
   ],
   "source": [
    "df"
   ]
  },
  {
   "cell_type": "markdown",
   "metadata": {
    "slideshow": {
     "slide_type": "slide"
    }
   },
   "source": [
    "Now we can do cool Pandas stuff!"
   ]
  },
  {
   "cell_type": "code",
   "execution_count": 14,
   "metadata": {
    "collapsed": false,
    "slideshow": {
     "slide_type": "fragment"
    }
   },
   "outputs": [
    {
     "data": {
      "text/plain": [
       "air_pressure             729.390544\n",
       "altitude                2671.365300\n",
       "latitude                  68.334602\n",
       "longitude               -151.828151\n",
       "NUMBER_CONCENTRATION     314.305810\n",
       "dtype: float64"
      ]
     },
     "execution_count": 14,
     "metadata": {},
     "output_type": "execute_result"
    }
   ],
   "source": [
    "df.mean()"
   ]
  },
  {
   "cell_type": "code",
   "execution_count": 15,
   "metadata": {
    "collapsed": false,
    "slideshow": {
     "slide_type": "fragment"
    }
   },
   "outputs": [
    {
     "data": {
      "text/plain": [
       "2191.0"
      ]
     },
     "execution_count": 15,
     "metadata": {},
     "output_type": "execute_result"
    }
   ],
   "source": [
    "df['NUMBER_CONCENTRATION'].max() "
   ]
  },
  {
   "cell_type": "code",
   "execution_count": 16,
   "metadata": {
    "collapsed": false,
    "slideshow": {
     "slide_type": "subslide"
    }
   },
   "outputs": [
    {
     "data": {
      "text/plain": [
       "air_pressure             686.5500\n",
       "altitude                2916.1000\n",
       "latitude                  73.2817\n",
       "longitude               -153.3266\n",
       "NUMBER_CONCENTRATION      17.0000\n",
       "Name: 2008-04-12 23:49:30, dtype: float64"
      ]
     },
     "execution_count": 16,
     "metadata": {},
     "output_type": "execute_result"
    }
   ],
   "source": [
    "df.ix[df['NUMBER_CONCENTRATION'].argmin()]"
   ]
  },
  {
   "cell_type": "code",
   "execution_count": 17,
   "metadata": {
    "collapsed": false,
    "scrolled": true,
    "slideshow": {
     "slide_type": "fragment"
    }
   },
   "outputs": [
    {
     "name": "stderr",
     "output_type": "stream",
     "text": [
      "/Users/watson-parris/anaconda/envs/cis_test/lib/python2.7/site-packages/ipykernel/__main__.py:1: FutureWarning: how in .resample() is deprecated\n",
      "the new syntax is .resample(...).mean()\n",
      "  if __name__ == '__main__':\n"
     ]
    },
    {
     "data": {
      "text/html": [
       "<div>\n",
       "<table border=\"1\" class=\"dataframe\">\n",
       "  <thead>\n",
       "    <tr style=\"text-align: right;\">\n",
       "      <th></th>\n",
       "      <th>air_pressure</th>\n",
       "      <th>altitude</th>\n",
       "      <th>latitude</th>\n",
       "      <th>longitude</th>\n",
       "      <th>NUMBER_CONCENTRATION</th>\n",
       "    </tr>\n",
       "  </thead>\n",
       "  <tbody>\n",
       "    <tr>\n",
       "      <th>2008-04-11 20:00:00</th>\n",
       "      <td>912.7025</td>\n",
       "      <td>870.525</td>\n",
       "      <td>64.77070</td>\n",
       "      <td>-147.996075</td>\n",
       "      <td>839.750000</td>\n",
       "    </tr>\n",
       "    <tr>\n",
       "      <th>2008-04-11 20:05:00</th>\n",
       "      <td>723.4100</td>\n",
       "      <td>2610.160</td>\n",
       "      <td>64.97176</td>\n",
       "      <td>-148.141420</td>\n",
       "      <td>224.600000</td>\n",
       "    </tr>\n",
       "    <tr>\n",
       "      <th>2008-04-11 20:10:00</th>\n",
       "      <td>646.2260</td>\n",
       "      <td>3411.580</td>\n",
       "      <td>65.31194</td>\n",
       "      <td>-148.192380</td>\n",
       "      <td>185.200000</td>\n",
       "    </tr>\n",
       "    <tr>\n",
       "      <th>2008-04-11 20:15:00</th>\n",
       "      <td>646.3900</td>\n",
       "      <td>3409.580</td>\n",
       "      <td>65.66350</td>\n",
       "      <td>-148.235960</td>\n",
       "      <td>170.600000</td>\n",
       "    </tr>\n",
       "    <tr>\n",
       "      <th>2008-04-11 20:20:00</th>\n",
       "      <td>646.5040</td>\n",
       "      <td>3406.460</td>\n",
       "      <td>66.01632</td>\n",
       "      <td>-148.284860</td>\n",
       "      <td>286.000000</td>\n",
       "    </tr>\n",
       "    <tr>\n",
       "      <th>2008-04-11 20:25:00</th>\n",
       "      <td>646.6240</td>\n",
       "      <td>3404.320</td>\n",
       "      <td>66.37504</td>\n",
       "      <td>-148.330820</td>\n",
       "      <td>242.000000</td>\n",
       "    </tr>\n",
       "    <tr>\n",
       "      <th>2008-04-11 20:30:00</th>\n",
       "      <td>646.7440</td>\n",
       "      <td>3403.640</td>\n",
       "      <td>66.73098</td>\n",
       "      <td>-148.379880</td>\n",
       "      <td>148.800000</td>\n",
       "    </tr>\n",
       "    <tr>\n",
       "      <th>2008-04-11 20:35:00</th>\n",
       "      <td>646.7860</td>\n",
       "      <td>3402.740</td>\n",
       "      <td>67.09088</td>\n",
       "      <td>-148.422520</td>\n",
       "      <td>151.400000</td>\n",
       "    </tr>\n",
       "    <tr>\n",
       "      <th>2008-04-11 20:40:00</th>\n",
       "      <td>646.8900</td>\n",
       "      <td>3400.620</td>\n",
       "      <td>67.45660</td>\n",
       "      <td>-148.472620</td>\n",
       "      <td>173.800000</td>\n",
       "    </tr>\n",
       "    <tr>\n",
       "      <th>2008-04-11 20:45:00</th>\n",
       "      <td>646.9100</td>\n",
       "      <td>3397.700</td>\n",
       "      <td>67.82766</td>\n",
       "      <td>-148.519480</td>\n",
       "      <td>169.000000</td>\n",
       "    </tr>\n",
       "    <tr>\n",
       "      <th>2008-04-11 20:50:00</th>\n",
       "      <td>646.9740</td>\n",
       "      <td>3397.040</td>\n",
       "      <td>68.20226</td>\n",
       "      <td>-148.570660</td>\n",
       "      <td>NaN</td>\n",
       "    </tr>\n",
       "    <tr>\n",
       "      <th>2008-04-11 20:55:00</th>\n",
       "      <td>647.1080</td>\n",
       "      <td>3392.420</td>\n",
       "      <td>68.57606</td>\n",
       "      <td>-148.632040</td>\n",
       "      <td>NaN</td>\n",
       "    </tr>\n",
       "    <tr>\n",
       "      <th>2008-04-11 21:00:00</th>\n",
       "      <td>647.2080</td>\n",
       "      <td>3388.040</td>\n",
       "      <td>68.94462</td>\n",
       "      <td>-148.690500</td>\n",
       "      <td>NaN</td>\n",
       "    </tr>\n",
       "    <tr>\n",
       "      <th>2008-04-11 21:05:00</th>\n",
       "      <td>647.1900</td>\n",
       "      <td>3385.940</td>\n",
       "      <td>69.31272</td>\n",
       "      <td>-148.745500</td>\n",
       "      <td>NaN</td>\n",
       "    </tr>\n",
       "    <tr>\n",
       "      <th>2008-04-11 21:10:00</th>\n",
       "      <td>647.1240</td>\n",
       "      <td>3382.820</td>\n",
       "      <td>69.68036</td>\n",
       "      <td>-148.819300</td>\n",
       "      <td>NaN</td>\n",
       "    </tr>\n",
       "    <tr>\n",
       "      <th>2008-04-11 21:15:00</th>\n",
       "      <td>647.0800</td>\n",
       "      <td>3380.960</td>\n",
       "      <td>70.04538</td>\n",
       "      <td>-148.943500</td>\n",
       "      <td>NaN</td>\n",
       "    </tr>\n",
       "    <tr>\n",
       "      <th>2008-04-11 21:20:00</th>\n",
       "      <td>690.1840</td>\n",
       "      <td>2926.660</td>\n",
       "      <td>70.40266</td>\n",
       "      <td>-149.060600</td>\n",
       "      <td>NaN</td>\n",
       "    </tr>\n",
       "    <tr>\n",
       "      <th>2008-04-11 21:25:00</th>\n",
       "      <td>882.1700</td>\n",
       "      <td>1110.420</td>\n",
       "      <td>70.73052</td>\n",
       "      <td>-149.111420</td>\n",
       "      <td>NaN</td>\n",
       "    </tr>\n",
       "    <tr>\n",
       "      <th>2008-04-11 21:30:00</th>\n",
       "      <td>819.0380</td>\n",
       "      <td>1665.260</td>\n",
       "      <td>70.81190</td>\n",
       "      <td>-148.969740</td>\n",
       "      <td>NaN</td>\n",
       "    </tr>\n",
       "    <tr>\n",
       "      <th>2008-04-11 21:35:00</th>\n",
       "      <td>705.9140</td>\n",
       "      <td>2751.160</td>\n",
       "      <td>70.53596</td>\n",
       "      <td>-148.903300</td>\n",
       "      <td>NaN</td>\n",
       "    </tr>\n",
       "    <tr>\n",
       "      <th>2008-04-11 21:40:00</th>\n",
       "      <td>702.9960</td>\n",
       "      <td>2783.040</td>\n",
       "      <td>70.23258</td>\n",
       "      <td>-148.831100</td>\n",
       "      <td>NaN</td>\n",
       "    </tr>\n",
       "    <tr>\n",
       "      <th>2008-04-11 21:45:00</th>\n",
       "      <td>688.3460</td>\n",
       "      <td>2939.000</td>\n",
       "      <td>69.93050</td>\n",
       "      <td>-148.764420</td>\n",
       "      <td>NaN</td>\n",
       "    </tr>\n",
       "    <tr>\n",
       "      <th>2008-04-11 21:50:00</th>\n",
       "      <td>687.9320</td>\n",
       "      <td>2943.960</td>\n",
       "      <td>69.62848</td>\n",
       "      <td>-148.704060</td>\n",
       "      <td>NaN</td>\n",
       "    </tr>\n",
       "    <tr>\n",
       "      <th>2008-04-11 21:55:00</th>\n",
       "      <td>688.0000</td>\n",
       "      <td>2945.160</td>\n",
       "      <td>69.32024</td>\n",
       "      <td>-148.624880</td>\n",
       "      <td>NaN</td>\n",
       "    </tr>\n",
       "    <tr>\n",
       "      <th>2008-04-11 22:00:00</th>\n",
       "      <td>688.0240</td>\n",
       "      <td>2947.420</td>\n",
       "      <td>69.01042</td>\n",
       "      <td>-148.555620</td>\n",
       "      <td>NaN</td>\n",
       "    </tr>\n",
       "    <tr>\n",
       "      <th>2008-04-11 22:05:00</th>\n",
       "      <td>688.0200</td>\n",
       "      <td>2948.700</td>\n",
       "      <td>68.70008</td>\n",
       "      <td>-148.495080</td>\n",
       "      <td>NaN</td>\n",
       "    </tr>\n",
       "    <tr>\n",
       "      <th>2008-04-11 22:10:00</th>\n",
       "      <td>688.1380</td>\n",
       "      <td>2946.580</td>\n",
       "      <td>68.39114</td>\n",
       "      <td>-148.444920</td>\n",
       "      <td>NaN</td>\n",
       "    </tr>\n",
       "    <tr>\n",
       "      <th>2008-04-11 22:15:00</th>\n",
       "      <td>688.0920</td>\n",
       "      <td>2950.600</td>\n",
       "      <td>68.08308</td>\n",
       "      <td>-148.387520</td>\n",
       "      <td>NaN</td>\n",
       "    </tr>\n",
       "    <tr>\n",
       "      <th>2008-04-11 22:20:00</th>\n",
       "      <td>687.9800</td>\n",
       "      <td>2952.320</td>\n",
       "      <td>67.76916</td>\n",
       "      <td>-148.335040</td>\n",
       "      <td>NaN</td>\n",
       "    </tr>\n",
       "    <tr>\n",
       "      <th>2008-04-11 22:25:00</th>\n",
       "      <td>685.6160</td>\n",
       "      <td>2979.060</td>\n",
       "      <td>67.45198</td>\n",
       "      <td>-148.282140</td>\n",
       "      <td>NaN</td>\n",
       "    </tr>\n",
       "    <tr>\n",
       "      <th>...</th>\n",
       "      <td>...</td>\n",
       "      <td>...</td>\n",
       "      <td>...</td>\n",
       "      <td>...</td>\n",
       "      <td>...</td>\n",
       "    </tr>\n",
       "    <tr>\n",
       "      <th>2008-04-16 00:35:00</th>\n",
       "      <td>466.9540</td>\n",
       "      <td>5596.840</td>\n",
       "      <td>71.90058</td>\n",
       "      <td>-161.794960</td>\n",
       "      <td>336.500000</td>\n",
       "    </tr>\n",
       "    <tr>\n",
       "      <th>2008-04-16 00:40:00</th>\n",
       "      <td>423.6320</td>\n",
       "      <td>6243.160</td>\n",
       "      <td>71.86198</td>\n",
       "      <td>-161.742020</td>\n",
       "      <td>201.666667</td>\n",
       "    </tr>\n",
       "    <tr>\n",
       "      <th>2008-04-16 00:45:00</th>\n",
       "      <td>530.3080</td>\n",
       "      <td>4735.020</td>\n",
       "      <td>71.86402</td>\n",
       "      <td>-161.817940</td>\n",
       "      <td>158.000000</td>\n",
       "    </tr>\n",
       "    <tr>\n",
       "      <th>2008-04-16 00:50:00</th>\n",
       "      <td>692.1000</td>\n",
       "      <td>2862.980</td>\n",
       "      <td>71.87168</td>\n",
       "      <td>-161.791360</td>\n",
       "      <td>198.200000</td>\n",
       "    </tr>\n",
       "    <tr>\n",
       "      <th>2008-04-16 00:55:00</th>\n",
       "      <td>905.7960</td>\n",
       "      <td>871.660</td>\n",
       "      <td>71.84994</td>\n",
       "      <td>-161.783800</td>\n",
       "      <td>263.800000</td>\n",
       "    </tr>\n",
       "    <tr>\n",
       "      <th>2008-04-16 01:00:00</th>\n",
       "      <td>1002.9320</td>\n",
       "      <td>101.400</td>\n",
       "      <td>71.62454</td>\n",
       "      <td>-161.671380</td>\n",
       "      <td>76.800000</td>\n",
       "    </tr>\n",
       "    <tr>\n",
       "      <th>2008-04-16 01:05:00</th>\n",
       "      <td>1003.1320</td>\n",
       "      <td>101.680</td>\n",
       "      <td>71.36000</td>\n",
       "      <td>-161.370300</td>\n",
       "      <td>63.600000</td>\n",
       "    </tr>\n",
       "    <tr>\n",
       "      <th>2008-04-16 01:10:00</th>\n",
       "      <td>1003.3440</td>\n",
       "      <td>101.920</td>\n",
       "      <td>71.09450</td>\n",
       "      <td>-161.077060</td>\n",
       "      <td>94.400000</td>\n",
       "    </tr>\n",
       "    <tr>\n",
       "      <th>2008-04-16 01:15:00</th>\n",
       "      <td>1003.6800</td>\n",
       "      <td>101.760</td>\n",
       "      <td>70.83808</td>\n",
       "      <td>-160.744760</td>\n",
       "      <td>99.400000</td>\n",
       "    </tr>\n",
       "    <tr>\n",
       "      <th>2008-04-16 01:20:00</th>\n",
       "      <td>997.7360</td>\n",
       "      <td>146.760</td>\n",
       "      <td>70.63746</td>\n",
       "      <td>-160.126080</td>\n",
       "      <td>88.200000</td>\n",
       "    </tr>\n",
       "    <tr>\n",
       "      <th>2008-04-16 01:25:00</th>\n",
       "      <td>993.7940</td>\n",
       "      <td>175.580</td>\n",
       "      <td>70.42946</td>\n",
       "      <td>-159.496760</td>\n",
       "      <td>71.600000</td>\n",
       "    </tr>\n",
       "    <tr>\n",
       "      <th>2008-04-16 01:30:00</th>\n",
       "      <td>989.0620</td>\n",
       "      <td>212.600</td>\n",
       "      <td>70.22194</td>\n",
       "      <td>-158.878100</td>\n",
       "      <td>111.200000</td>\n",
       "    </tr>\n",
       "    <tr>\n",
       "      <th>2008-04-16 01:35:00</th>\n",
       "      <td>970.1320</td>\n",
       "      <td>357.280</td>\n",
       "      <td>69.99116</td>\n",
       "      <td>-158.264040</td>\n",
       "      <td>135.600000</td>\n",
       "    </tr>\n",
       "    <tr>\n",
       "      <th>2008-04-16 01:40:00</th>\n",
       "      <td>938.5940</td>\n",
       "      <td>609.780</td>\n",
       "      <td>69.75240</td>\n",
       "      <td>-157.591700</td>\n",
       "      <td>142.200000</td>\n",
       "    </tr>\n",
       "    <tr>\n",
       "      <th>2008-04-16 01:45:00</th>\n",
       "      <td>736.4300</td>\n",
       "      <td>2416.000</td>\n",
       "      <td>69.49510</td>\n",
       "      <td>-156.964400</td>\n",
       "      <td>123.200000</td>\n",
       "    </tr>\n",
       "    <tr>\n",
       "      <th>2008-04-16 01:50:00</th>\n",
       "      <td>567.2580</td>\n",
       "      <td>4264.080</td>\n",
       "      <td>69.23148</td>\n",
       "      <td>-156.304840</td>\n",
       "      <td>153.000000</td>\n",
       "    </tr>\n",
       "    <tr>\n",
       "      <th>2008-04-16 01:55:00</th>\n",
       "      <td>517.8180</td>\n",
       "      <td>4890.040</td>\n",
       "      <td>68.93978</td>\n",
       "      <td>-155.606680</td>\n",
       "      <td>164.800000</td>\n",
       "    </tr>\n",
       "    <tr>\n",
       "      <th>2008-04-16 02:00:00</th>\n",
       "      <td>514.8580</td>\n",
       "      <td>4929.060</td>\n",
       "      <td>68.62962</td>\n",
       "      <td>-154.884000</td>\n",
       "      <td>129.000000</td>\n",
       "    </tr>\n",
       "    <tr>\n",
       "      <th>2008-04-16 02:05:00</th>\n",
       "      <td>505.1460</td>\n",
       "      <td>5059.260</td>\n",
       "      <td>68.30462</td>\n",
       "      <td>-154.159180</td>\n",
       "      <td>124.800000</td>\n",
       "    </tr>\n",
       "    <tr>\n",
       "      <th>2008-04-16 02:10:00</th>\n",
       "      <td>484.5080</td>\n",
       "      <td>5338.260</td>\n",
       "      <td>67.97726</td>\n",
       "      <td>-153.471540</td>\n",
       "      <td>224.000000</td>\n",
       "    </tr>\n",
       "    <tr>\n",
       "      <th>2008-04-16 02:15:00</th>\n",
       "      <td>484.5520</td>\n",
       "      <td>5334.240</td>\n",
       "      <td>67.63130</td>\n",
       "      <td>-152.758060</td>\n",
       "      <td>214.200000</td>\n",
       "    </tr>\n",
       "    <tr>\n",
       "      <th>2008-04-16 02:20:00</th>\n",
       "      <td>484.4540</td>\n",
       "      <td>5329.520</td>\n",
       "      <td>67.28112</td>\n",
       "      <td>-152.079900</td>\n",
       "      <td>154.200000</td>\n",
       "    </tr>\n",
       "    <tr>\n",
       "      <th>2008-04-16 02:25:00</th>\n",
       "      <td>484.4640</td>\n",
       "      <td>5326.240</td>\n",
       "      <td>66.93080</td>\n",
       "      <td>-151.406660</td>\n",
       "      <td>163.800000</td>\n",
       "    </tr>\n",
       "    <tr>\n",
       "      <th>2008-04-16 02:30:00</th>\n",
       "      <td>484.4860</td>\n",
       "      <td>5326.120</td>\n",
       "      <td>66.57660</td>\n",
       "      <td>-150.755240</td>\n",
       "      <td>657.000000</td>\n",
       "    </tr>\n",
       "    <tr>\n",
       "      <th>2008-04-16 02:35:00</th>\n",
       "      <td>484.4820</td>\n",
       "      <td>5329.800</td>\n",
       "      <td>66.22122</td>\n",
       "      <td>-150.127600</td>\n",
       "      <td>360.000000</td>\n",
       "    </tr>\n",
       "    <tr>\n",
       "      <th>2008-04-16 02:40:00</th>\n",
       "      <td>497.8680</td>\n",
       "      <td>5155.680</td>\n",
       "      <td>65.86908</td>\n",
       "      <td>-149.530640</td>\n",
       "      <td>424.400000</td>\n",
       "    </tr>\n",
       "    <tr>\n",
       "      <th>2008-04-16 02:45:00</th>\n",
       "      <td>587.0500</td>\n",
       "      <td>4018.160</td>\n",
       "      <td>65.55114</td>\n",
       "      <td>-148.959860</td>\n",
       "      <td>310.000000</td>\n",
       "    </tr>\n",
       "    <tr>\n",
       "      <th>2008-04-16 02:50:00</th>\n",
       "      <td>705.2740</td>\n",
       "      <td>2714.760</td>\n",
       "      <td>65.26360</td>\n",
       "      <td>-148.391500</td>\n",
       "      <td>398.400000</td>\n",
       "    </tr>\n",
       "    <tr>\n",
       "      <th>2008-04-16 02:55:00</th>\n",
       "      <td>848.9400</td>\n",
       "      <td>1332.040</td>\n",
       "      <td>65.05008</td>\n",
       "      <td>-147.829440</td>\n",
       "      <td>230.200000</td>\n",
       "    </tr>\n",
       "    <tr>\n",
       "      <th>2008-04-16 03:00:00</th>\n",
       "      <td>938.5675</td>\n",
       "      <td>566.575</td>\n",
       "      <td>64.87990</td>\n",
       "      <td>-147.740525</td>\n",
       "      <td>211.750000</td>\n",
       "    </tr>\n",
       "  </tbody>\n",
       "</table>\n",
       "<p>1237 rows × 5 columns</p>\n",
       "</div>"
      ],
      "text/plain": [
       "                     air_pressure  altitude  latitude   longitude  \\\n",
       "2008-04-11 20:00:00      912.7025   870.525  64.77070 -147.996075   \n",
       "2008-04-11 20:05:00      723.4100  2610.160  64.97176 -148.141420   \n",
       "2008-04-11 20:10:00      646.2260  3411.580  65.31194 -148.192380   \n",
       "2008-04-11 20:15:00      646.3900  3409.580  65.66350 -148.235960   \n",
       "2008-04-11 20:20:00      646.5040  3406.460  66.01632 -148.284860   \n",
       "2008-04-11 20:25:00      646.6240  3404.320  66.37504 -148.330820   \n",
       "2008-04-11 20:30:00      646.7440  3403.640  66.73098 -148.379880   \n",
       "2008-04-11 20:35:00      646.7860  3402.740  67.09088 -148.422520   \n",
       "2008-04-11 20:40:00      646.8900  3400.620  67.45660 -148.472620   \n",
       "2008-04-11 20:45:00      646.9100  3397.700  67.82766 -148.519480   \n",
       "2008-04-11 20:50:00      646.9740  3397.040  68.20226 -148.570660   \n",
       "2008-04-11 20:55:00      647.1080  3392.420  68.57606 -148.632040   \n",
       "2008-04-11 21:00:00      647.2080  3388.040  68.94462 -148.690500   \n",
       "2008-04-11 21:05:00      647.1900  3385.940  69.31272 -148.745500   \n",
       "2008-04-11 21:10:00      647.1240  3382.820  69.68036 -148.819300   \n",
       "2008-04-11 21:15:00      647.0800  3380.960  70.04538 -148.943500   \n",
       "2008-04-11 21:20:00      690.1840  2926.660  70.40266 -149.060600   \n",
       "2008-04-11 21:25:00      882.1700  1110.420  70.73052 -149.111420   \n",
       "2008-04-11 21:30:00      819.0380  1665.260  70.81190 -148.969740   \n",
       "2008-04-11 21:35:00      705.9140  2751.160  70.53596 -148.903300   \n",
       "2008-04-11 21:40:00      702.9960  2783.040  70.23258 -148.831100   \n",
       "2008-04-11 21:45:00      688.3460  2939.000  69.93050 -148.764420   \n",
       "2008-04-11 21:50:00      687.9320  2943.960  69.62848 -148.704060   \n",
       "2008-04-11 21:55:00      688.0000  2945.160  69.32024 -148.624880   \n",
       "2008-04-11 22:00:00      688.0240  2947.420  69.01042 -148.555620   \n",
       "2008-04-11 22:05:00      688.0200  2948.700  68.70008 -148.495080   \n",
       "2008-04-11 22:10:00      688.1380  2946.580  68.39114 -148.444920   \n",
       "2008-04-11 22:15:00      688.0920  2950.600  68.08308 -148.387520   \n",
       "2008-04-11 22:20:00      687.9800  2952.320  67.76916 -148.335040   \n",
       "2008-04-11 22:25:00      685.6160  2979.060  67.45198 -148.282140   \n",
       "...                           ...       ...       ...         ...   \n",
       "2008-04-16 00:35:00      466.9540  5596.840  71.90058 -161.794960   \n",
       "2008-04-16 00:40:00      423.6320  6243.160  71.86198 -161.742020   \n",
       "2008-04-16 00:45:00      530.3080  4735.020  71.86402 -161.817940   \n",
       "2008-04-16 00:50:00      692.1000  2862.980  71.87168 -161.791360   \n",
       "2008-04-16 00:55:00      905.7960   871.660  71.84994 -161.783800   \n",
       "2008-04-16 01:00:00     1002.9320   101.400  71.62454 -161.671380   \n",
       "2008-04-16 01:05:00     1003.1320   101.680  71.36000 -161.370300   \n",
       "2008-04-16 01:10:00     1003.3440   101.920  71.09450 -161.077060   \n",
       "2008-04-16 01:15:00     1003.6800   101.760  70.83808 -160.744760   \n",
       "2008-04-16 01:20:00      997.7360   146.760  70.63746 -160.126080   \n",
       "2008-04-16 01:25:00      993.7940   175.580  70.42946 -159.496760   \n",
       "2008-04-16 01:30:00      989.0620   212.600  70.22194 -158.878100   \n",
       "2008-04-16 01:35:00      970.1320   357.280  69.99116 -158.264040   \n",
       "2008-04-16 01:40:00      938.5940   609.780  69.75240 -157.591700   \n",
       "2008-04-16 01:45:00      736.4300  2416.000  69.49510 -156.964400   \n",
       "2008-04-16 01:50:00      567.2580  4264.080  69.23148 -156.304840   \n",
       "2008-04-16 01:55:00      517.8180  4890.040  68.93978 -155.606680   \n",
       "2008-04-16 02:00:00      514.8580  4929.060  68.62962 -154.884000   \n",
       "2008-04-16 02:05:00      505.1460  5059.260  68.30462 -154.159180   \n",
       "2008-04-16 02:10:00      484.5080  5338.260  67.97726 -153.471540   \n",
       "2008-04-16 02:15:00      484.5520  5334.240  67.63130 -152.758060   \n",
       "2008-04-16 02:20:00      484.4540  5329.520  67.28112 -152.079900   \n",
       "2008-04-16 02:25:00      484.4640  5326.240  66.93080 -151.406660   \n",
       "2008-04-16 02:30:00      484.4860  5326.120  66.57660 -150.755240   \n",
       "2008-04-16 02:35:00      484.4820  5329.800  66.22122 -150.127600   \n",
       "2008-04-16 02:40:00      497.8680  5155.680  65.86908 -149.530640   \n",
       "2008-04-16 02:45:00      587.0500  4018.160  65.55114 -148.959860   \n",
       "2008-04-16 02:50:00      705.2740  2714.760  65.26360 -148.391500   \n",
       "2008-04-16 02:55:00      848.9400  1332.040  65.05008 -147.829440   \n",
       "2008-04-16 03:00:00      938.5675   566.575  64.87990 -147.740525   \n",
       "\n",
       "                     NUMBER_CONCENTRATION  \n",
       "2008-04-11 20:00:00            839.750000  \n",
       "2008-04-11 20:05:00            224.600000  \n",
       "2008-04-11 20:10:00            185.200000  \n",
       "2008-04-11 20:15:00            170.600000  \n",
       "2008-04-11 20:20:00            286.000000  \n",
       "2008-04-11 20:25:00            242.000000  \n",
       "2008-04-11 20:30:00            148.800000  \n",
       "2008-04-11 20:35:00            151.400000  \n",
       "2008-04-11 20:40:00            173.800000  \n",
       "2008-04-11 20:45:00            169.000000  \n",
       "2008-04-11 20:50:00                   NaN  \n",
       "2008-04-11 20:55:00                   NaN  \n",
       "2008-04-11 21:00:00                   NaN  \n",
       "2008-04-11 21:05:00                   NaN  \n",
       "2008-04-11 21:10:00                   NaN  \n",
       "2008-04-11 21:15:00                   NaN  \n",
       "2008-04-11 21:20:00                   NaN  \n",
       "2008-04-11 21:25:00                   NaN  \n",
       "2008-04-11 21:30:00                   NaN  \n",
       "2008-04-11 21:35:00                   NaN  \n",
       "2008-04-11 21:40:00                   NaN  \n",
       "2008-04-11 21:45:00                   NaN  \n",
       "2008-04-11 21:50:00                   NaN  \n",
       "2008-04-11 21:55:00                   NaN  \n",
       "2008-04-11 22:00:00                   NaN  \n",
       "2008-04-11 22:05:00                   NaN  \n",
       "2008-04-11 22:10:00                   NaN  \n",
       "2008-04-11 22:15:00                   NaN  \n",
       "2008-04-11 22:20:00                   NaN  \n",
       "2008-04-11 22:25:00                   NaN  \n",
       "...                                   ...  \n",
       "2008-04-16 00:35:00            336.500000  \n",
       "2008-04-16 00:40:00            201.666667  \n",
       "2008-04-16 00:45:00            158.000000  \n",
       "2008-04-16 00:50:00            198.200000  \n",
       "2008-04-16 00:55:00            263.800000  \n",
       "2008-04-16 01:00:00             76.800000  \n",
       "2008-04-16 01:05:00             63.600000  \n",
       "2008-04-16 01:10:00             94.400000  \n",
       "2008-04-16 01:15:00             99.400000  \n",
       "2008-04-16 01:20:00             88.200000  \n",
       "2008-04-16 01:25:00             71.600000  \n",
       "2008-04-16 01:30:00            111.200000  \n",
       "2008-04-16 01:35:00            135.600000  \n",
       "2008-04-16 01:40:00            142.200000  \n",
       "2008-04-16 01:45:00            123.200000  \n",
       "2008-04-16 01:50:00            153.000000  \n",
       "2008-04-16 01:55:00            164.800000  \n",
       "2008-04-16 02:00:00            129.000000  \n",
       "2008-04-16 02:05:00            124.800000  \n",
       "2008-04-16 02:10:00            224.000000  \n",
       "2008-04-16 02:15:00            214.200000  \n",
       "2008-04-16 02:20:00            154.200000  \n",
       "2008-04-16 02:25:00            163.800000  \n",
       "2008-04-16 02:30:00            657.000000  \n",
       "2008-04-16 02:35:00            360.000000  \n",
       "2008-04-16 02:40:00            424.400000  \n",
       "2008-04-16 02:45:00            310.000000  \n",
       "2008-04-16 02:50:00            398.400000  \n",
       "2008-04-16 02:55:00            230.200000  \n",
       "2008-04-16 03:00:00            211.750000  \n",
       "\n",
       "[1237 rows x 5 columns]"
      ]
     },
     "execution_count": 17,
     "metadata": {},
     "output_type": "execute_result"
    }
   ],
   "source": [
    "df.resample('5min', how='mean')"
   ]
  },
  {
   "cell_type": "markdown",
   "metadata": {
    "slideshow": {
     "slide_type": "slide"
    }
   },
   "source": [
    "# And more plot types"
   ]
  },
  {
   "cell_type": "code",
   "execution_count": 18,
   "metadata": {
    "collapsed": false,
    "slideshow": {
     "slide_type": "fragment"
    }
   },
   "outputs": [
    {
     "data": {
      "image/png": "[encoded data removed]",
      "text/plain": [
       "<matplotlib.figure.Figure at 0x111a024d0>"
      ]
     },
     "metadata": {},
     "output_type": "display_data"
    }
   ],
   "source": [
    "%matplotlib inline\n",
    "\n",
    "from pandas.tools.plotting import scatter_matrix\n",
    "m = scatter_matrix(df, alpha=0.2, figsize=(8, 8), diagonal='kde', edgecolors='none')"
   ]
  },
  {
   "cell_type": "markdown",
   "metadata": {
    "slideshow": {
     "slide_type": "slide"
    }
   },
   "source": [
    "## Accessing CIS functionality - BETA"
   ]
  },
  {
   "cell_type": "markdown",
   "metadata": {
    "slideshow": {
     "slide_type": "slide"
    }
   },
   "source": [
    "### Plotting"
   ]
  },
  {
   "cell_type": "markdown",
   "metadata": {},
   "source": [
    "We can also use the built in plotting routines (although they need a bit of tidying up):"
   ]
  },
  {
   "cell_type": "code",
   "execution_count": null,
   "metadata": {
    "collapsed": false
   },
   "outputs": [],
   "source": [
    "from cis.plotting.plot import Plotter\n",
    "%matplotlib inline\n",
    "\n",
    "Plotter([NC],x_variable='longitude',y_variable='latitude',plotwidth=18,plotheight=12,cbarscale=0.5,datagroups=[{'itemstyle':'', 'cmap':'jet', 'edgecolor':''}])"
   ]
  }
 ],
 "metadata": {
  "celltoolbar": "Slideshow",
  "kernelspec": {
   "display_name": "Python 2",
   "language": "python",
   "name": "python2"
  },
  "language_info": {
   "codemirror_mode": {
    "name": "ipython",
    "version": 2
   },
   "file_extension": ".py",
   "mimetype": "text/x-python",
   "name": "python",
   "nbconvert_exporter": "python",
   "pygments_lexer": "ipython2",
   "version": "2.7.11"
  },
  "widgets": {
   "state": {},
   "version": "1.1.2"
  }
 },
 "nbformat": 4,
 "nbformat_minor": 0
}
