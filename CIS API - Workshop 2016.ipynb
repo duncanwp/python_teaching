{
 "cells": [
  {
   "cell_type": "markdown",
   "metadata": {
    "slideshow": {
     "slide_type": "slide"
    }
   },
   "source": [
    "# CIS API demonstration notebook"
   ]
  },
  {
   "cell_type": "markdown",
   "metadata": {
    "slideshow": {
     "slide_type": "notes"
    }
   },
   "source": [
    "30 minutes - covering ...?"
   ]
  },
  {
   "cell_type": "markdown",
   "metadata": {
    "slideshow": {
     "slide_type": "subslide"
    }
   },
   "source": [
    "## Reading data is really easy"
   ]
  },
  {
   "cell_type": "code",
   "execution_count": 1,
   "metadata": {
    "collapsed": false,
    "slideshow": {
     "slide_type": "fragment"
    }
   },
   "outputs": [
    {
     "name": "stdout",
     "output_type": "stream",
     "text": [
      "Help on function read_data in module cis:\n",
      "\n",
      "read_data(filenames, variable, product=None)\n",
      "    Read a specific variable from a list of files\n",
      "    Files can be either gridded or ungridded but not a mix of both.\n",
      "    First tries to read data as gridded, if that fails, tries as ungridded.\n",
      "    \n",
      "    :param filenames:   The filenames of the files to read. This can be either a single filename as a string, a comma\n",
      "     separated list, or a :class:`list` of string filenames. Filenames can include directories which will be expanded to\n",
      "     include all files in that directory, or wildcards such as ``*`` or ``?``.\n",
      "    :type filenames: string or list\n",
      "    :param str variable: The variable to read from the files\n",
      "    :param str product:  The name of the data reading plugin to use to read the data (e.g. ``Cloud_CCI``).\n",
      "    :return:  The specified data as either a :class:`GriddedData` or :class:`UngriddedData` object.\n",
      "\n"
     ]
    }
   ],
   "source": [
    "from cis import read_data, read_data_list\n",
    "\n",
    "help(read_data)"
   ]
  },
  {
   "cell_type": "code",
   "execution_count": 2,
   "metadata": {
    "collapsed": false,
    "scrolled": true,
    "slideshow": {
     "slide_type": "subslide"
    }
   },
   "outputs": [],
   "source": [
    "data_path = \"/Users/watson-parris/Local Data/WorkshopData2016/ARCPAC_2008/*.nc\"\n",
    "\n",
    "NC = read_data(data_path, \"NUMBER_CONCENTRATION\")\n",
    "\n",
    "# Note we can also use from cis.data_io.products.AProduct import get_variables to find the variables in a file."
   ]
  },
  {
   "cell_type": "markdown",
   "metadata": {
    "slideshow": {
     "slide_type": "subslide"
    }
   },
   "source": [
    "Let's take a look at the methods available on the data:"
   ]
  },
  {
   "cell_type": "code",
   "execution_count": 3,
   "metadata": {
    "collapsed": false,
    "slideshow": {
     "slide_type": "fragment"
    }
   },
   "outputs": [
    {
     "name": "stdout",
     "output_type": "stream",
     "text": [
      "Help on UngriddedData in module cis.data_io.ungridded_data object:\n",
      "\n",
      "class UngriddedData(LazyData, cis.data_io.common_data.CommonData)\n",
      " |  Wrapper (adaptor) class for the different types of possible ungridded data.\n",
      " |  \n",
      " |  Method resolution order:\n",
      " |      UngriddedData\n",
      " |      LazyData\n",
      " |      cis.data_io.common_data.CommonData\n",
      " |      __builtin__.object\n",
      " |  \n",
      " |  Methods defined here:\n",
      " |  \n",
      " |  __init__(self, data, metadata, coords, data_retrieval_callback=None)\n",
      " |      Constructor\n",
      " |      \n",
      " |      :param data: The data handler (e.g. SDS instance) for the specific data type, or a numpy array of data.\n",
      " |       This can be a list of data handlers, or a single data handler\n",
      " |      :param metadata: Any associated metadata\n",
      " |      :param coords: A list of the associated Coord objects\n",
      " |      :param data_retrieval_callback: A method for retrieving data when needed\n",
      " |  \n",
      " |  __str__(self)\n",
      " |  \n",
      " |  __unicode__(self)\n",
      " |  \n",
      " |  as_data_frame(self, copy=True)\n",
      " |      Convert an UngriddedData object to a Pandas DataFrame.\n",
      " |      \n",
      " |      :param copy: Create a copy of the data for the new DataFrame? Default is True.\n",
      " |      :return: A Pandas DataFrame representing the data and coordinates. Note that this won't include any metadata.\n",
      " |  \n",
      " |  coord(self, name_or_coord=None, standard_name=None, long_name=None, attributes=None, axis=None)\n",
      " |      :raise: CoordinateNotFoundError\n",
      " |      :return: A single coord given the same arguments as :meth:`coords`.\n",
      " |  \n",
      " |  coords(self, name_or_coord=None, standard_name=None, long_name=None, attributes=None, axis=None, dim_coords=True)\n",
      " |      :return: A list of coordinates in this UngriddedData object fitting the given criteria\n",
      " |  \n",
      " |  copy(self)\n",
      " |      Create a copy of this UngriddedData object with new data and coordinates\n",
      " |      so that that they can be modified without held references being affected.\n",
      " |      Will call any lazy loading methods in the data and coordinates\n",
      " |      \n",
      " |      :return: Copied UngriddedData object\n",
      " |  \n",
      " |  find_standard_coords(self)\n",
      " |      Constructs a list of the standard coordinates.\n",
      " |      The standard coordinates are latitude, longitude, altitude, air_pressure and time; they occur in the return\n",
      " |      list in this order.\n",
      " |      \n",
      " |      :return: list of coordinates or None if coordinate not present\n",
      " |  \n",
      " |  get_all_points(self)\n",
      " |      Returns a HyperPointView of the points.\n",
      " |      \n",
      " |      :return: HyperPointView of all the data points\n",
      " |  \n",
      " |  get_coordinates_points(self)\n",
      " |      Returns a HyperPointView of the coordinates of points.\n",
      " |      \n",
      " |      :return: HyperPointView of the coordinates of points\n",
      " |  \n",
      " |  get_non_masked_points(self)\n",
      " |      Returns a HyperPointView for which the default iterator omits masked points.\n",
      " |      \n",
      " |      :return: HyperPointView of the data points\n",
      " |  \n",
      " |  hyper_point(self, index)\n",
      " |      :param index: The index in the array to find the point for\n",
      " |      :return: A hyperpoint representing the data at that point\n",
      " |  \n",
      " |  make_new_with_same_coordinates(self, data=None, var_name=None, standard_name=None, long_name=None, history=None, units=None, flatten=False)\n",
      " |      Create a new, empty UngriddedData object with the same coordinates as this one.\n",
      " |      \n",
      " |      :param data: Data to use (if None then defaults to all zeros)\n",
      " |      :param var_name: Variable name\n",
      " |      :param standard_name: Variable CF standard name\n",
      " |      :param long_name: Variable long name\n",
      " |      :param history: Data history string\n",
      " |      :param units: Variable units\n",
      " |      :param flatten: Whether to flatten the data and coordinates (for ungridded data only)\n",
      " |      :return: UngriddedData instance\n",
      " |  \n",
      " |  summary(self)\n",
      " |      Unicode summary of the UngriddedData with metadata of itself and its coordinates\n",
      " |  \n",
      " |  ----------------------------------------------------------------------\n",
      " |  Class methods defined here:\n",
      " |  \n",
      " |  from_points_array(cls, hyperpoints) from abc.ABCMeta\n",
      " |      Constuctor for building an UngriddedData object from a list of hyper points\n",
      " |      \n",
      " |      :param hyperpoints: list of HyperPoints\n",
      " |  \n",
      " |  ----------------------------------------------------------------------\n",
      " |  Data descriptors defined here:\n",
      " |  \n",
      " |  coords_flattened\n",
      " |  \n",
      " |  history\n",
      " |  \n",
      " |  is_gridded\n",
      " |      Returns value indicating whether the data/coordinates are gridded.\n",
      " |  \n",
      " |  lat\n",
      " |  \n",
      " |  lon\n",
      " |  \n",
      " |  time\n",
      " |  \n",
      " |  x\n",
      " |  \n",
      " |  y\n",
      " |  \n",
      " |  ----------------------------------------------------------------------\n",
      " |  Data and other attributes defined here:\n",
      " |  \n",
      " |  __abstractmethods__ = frozenset([])\n",
      " |  \n",
      " |  ----------------------------------------------------------------------\n",
      " |  Methods inherited from LazyData:\n",
      " |  \n",
      " |  add_attributes(self, attributes)\n",
      " |      Add a variable attribute to this data\n",
      " |      \n",
      " |      :param attributes: Dictionary of attribute names (keys) and values.\n",
      " |      :return:\n",
      " |  \n",
      " |  add_history(self, new_history)\n",
      " |      Appends to, or creates, the metadata history attribute using the supplied history string.\n",
      " |      The new entry is prefixed with a timestamp.\n",
      " |      \n",
      " |      :param new_history: history string\n",
      " |  \n",
      " |  copy_metadata_from(self, other_data)\n",
      " |      Method to copy the metadata from one UngriddedData/Cube object to another\n",
      " |  \n",
      " |  name(self)\n",
      " |      This routine returns the first name property which is not empty out of: _name, standard_name and long_name.\n",
      " |      If they are all empty it returns an empty string\n",
      " |      :return: The name of the data object as a string\n",
      " |  \n",
      " |  remove_attribute(self, key)\n",
      " |      Remove a variable attribute from this data\n",
      " |      \n",
      " |      :param key: Attribute key to remove\n",
      " |      :return:\n",
      " |  \n",
      " |  save_data(self, output_file)\n",
      " |  \n",
      " |  update_range(self, range=None)\n",
      " |  \n",
      " |  update_shape(self, shape=None)\n",
      " |  \n",
      " |  ----------------------------------------------------------------------\n",
      " |  Data descriptors inherited from LazyData:\n",
      " |  \n",
      " |  __dict__\n",
      " |      dictionary for instance variables (if defined)\n",
      " |  \n",
      " |  __weakref__\n",
      " |      list of weak references to the object (if defined)\n",
      " |  \n",
      " |  data\n",
      " |      This is a getter for the data property. It caches the raw data if it has not already been read.\n",
      " |      Throws a MemoryError when reading for the first time if the data is too large.\n",
      " |  \n",
      " |  data_flattened\n",
      " |      Returns a 1D flattened view (or copy, if necessary) of the data.\n",
      " |  \n",
      " |  long_name\n",
      " |  \n",
      " |  shape\n",
      " |  \n",
      " |  standard_name\n",
      " |  \n",
      " |  units\n",
      " |  \n",
      " |  var_name\n",
      " |  \n",
      " |  ----------------------------------------------------------------------\n",
      " |  Data descriptors inherited from cis.data_io.common_data.CommonData:\n",
      " |  \n",
      " |  alias\n",
      " |      Return an alias for the variable name. This is an alternative name by which this data object may be identified\n",
      " |      if, for example, the actual variable name is not valid for some use (such as performing a python evaluation).\n",
      " |      \n",
      " |      :return: The alias\n",
      " |      :rtype: str\n",
      " |  \n",
      " |  ----------------------------------------------------------------------\n",
      " |  Data and other attributes inherited from cis.data_io.common_data.CommonData:\n",
      " |  \n",
      " |  __metaclass__ = <class 'abc.ABCMeta'>\n",
      " |      Metaclass for defining Abstract Base Classes (ABCs).\n",
      " |      \n",
      " |      Use this metaclass to create an ABC.  An ABC can be subclassed\n",
      " |      directly, and then acts as a mix-in class.  You can also register\n",
      " |      unrelated concrete classes (even built-in classes) and unrelated\n",
      " |      ABCs as 'virtual subclasses' -- these and their descendants will\n",
      " |      be considered subclasses of the registering ABC by the built-in\n",
      " |      issubclass() function, but the registering ABC won't show up in\n",
      " |      their MRO (Method Resolution Order) nor will method\n",
      " |      implementations defined by the registering ABC be callable (not\n",
      " |      even via super()).\n",
      " |  \n",
      " |  filenames = []\n",
      "\n"
     ]
    }
   ],
   "source": [
    "help(NC)  # Note the class heirarchy. "
   ]
  },
  {
   "cell_type": "code",
   "execution_count": 4,
   "metadata": {
    "collapsed": false,
    "scrolled": true,
    "slideshow": {
     "slide_type": "subslide"
    }
   },
   "outputs": [
    {
     "name": "stderr",
     "output_type": "stream",
     "text": [
      "WARNING:root:Identified 1 point(s) which were missing values for some or all coordinates - these points have been removed from the data.\n"
     ]
    },
    {
     "name": "stdout",
     "output_type": "stream",
     "text": [
      "Ungridded data: NUMBER_CONCENTRATION / (#/cm3) \n",
      "     Shape = (1268,)\n",
      "\n",
      "     Total number of points = 1268\n",
      "     Number of non-masked points = 1268\n",
      "     Long name = \n",
      "     Standard name = NUMBER_CONCENTRATION\n",
      "     Units = #/cm3\n",
      "     Missing value = -9999\n",
      "     Range = (17.0, 2191.0)\n",
      "     History = \n",
      "     Coordinates: \n",
      "       time\n",
      "          Long name = \n",
      "          Standard name = time\n",
      "          Units = days since 1600-01-01 00:00:00\n",
      "          Calendar = gregorian\n",
      "          Missing value = -9999\n",
      "          Range = ('2008-04-11 20:01:30.000001', '2008-04-16 03:03:30')\n",
      "          History = \n",
      "       latitude\n",
      "          Long name = \n",
      "          Standard name = latitude\n",
      "          Units = degrees\n",
      "          Missing value = -9999\n",
      "          Range = (63.303199999999997, 75.128600000000006)\n",
      "          History = \n",
      "       longitude\n",
      "          Long name = \n",
      "          Standard name = longitude\n",
      "          Units = degrees\n",
      "          Missing value = -9999\n",
      "          Range = (-165.1241, -139.23159999999999)\n",
      "          History = \n",
      "       altitude\n",
      "          Long name = \n",
      "          Standard name = altitude\n",
      "          Units = m\n",
      "          Missing value = -9999\n",
      "          Range = (77.200000000000003, 6579.6000000000004)\n",
      "          History = \n",
      "\n"
     ]
    }
   ],
   "source": [
    "print NC  # Note the warning below"
   ]
  },
  {
   "cell_type": "markdown",
   "metadata": {
    "slideshow": {
     "slide_type": "subslide"
    }
   },
   "source": [
    "We can also access the data directly:"
   ]
  },
  {
   "cell_type": "code",
   "execution_count": 6,
   "metadata": {
    "collapsed": false,
    "slideshow": {
     "slide_type": "fragment"
    }
   },
   "outputs": [
    {
     "name": "stdout",
     "output_type": "stream",
     "text": [
      "[2191.0 581.0 306.0 ..., 221.0 220.0 187.0]\n"
     ]
    }
   ],
   "source": [
    "print NC.data"
   ]
  },
  {
   "cell_type": "code",
   "execution_count": 7,
   "metadata": {
    "collapsed": false
   },
   "outputs": [
    {
     "name": "stdout",
     "output_type": "stream",
     "text": [
      "2191.0\n"
     ]
    }
   ],
   "source": [
    "print NC.data[0]"
   ]
  },
  {
   "cell_type": "code",
   "execution_count": 10,
   "metadata": {
    "collapsed": false
   },
   "outputs": [
    {
     "ename": "TypeError",
     "evalue": "'UngriddedData' object has no attribute '__getitem__'",
     "output_type": "error",
     "traceback": [
      "\u001b[0;31m---------------------------------------------------------------------------\u001b[0m",
      "\u001b[0;31mTypeError\u001b[0m                                 Traceback (most recent call last)",
      "\u001b[0;32m<ipython-input-10-03e3326d5ae5>\u001b[0m in \u001b[0;36m<module>\u001b[0;34m()\u001b[0m\n\u001b[0;32m----> 1\u001b[0;31m \u001b[0;32mprint\u001b[0m \u001b[0mNC\u001b[0m\u001b[0;34m[\u001b[0m\u001b[0;36m0\u001b[0m\u001b[0;34m:\u001b[0m\u001b[0;36m99\u001b[0m\u001b[0;34m]\u001b[0m\u001b[0;34m\u001b[0m\u001b[0m\n\u001b[0m",
      "\u001b[0;31mTypeError\u001b[0m: 'UngriddedData' object has no attribute '__getitem__'"
     ]
    }
   ],
   "source": [
    "print NC[0:99]"
   ]
  },
  {
   "cell_type": "markdown",
   "metadata": {
    "slideshow": {
     "slide_type": "subslide"
    }
   },
   "source": [
    "And the coordinates:"
   ]
  },
  {
   "cell_type": "code",
   "execution_count": 9,
   "metadata": {
    "collapsed": false,
    "slideshow": {
     "slide_type": "fragment"
    }
   },
   "outputs": [
    {
     "name": "stdout",
     "output_type": "stream",
     "text": [
      "time [ 149120.834375    149120.83506944  149120.83576389 ...,  149125.12604167\n",
      "  149125.12673611  149125.12743056]\n",
      "latitude [ 64.8029  64.7594  64.7385 ...,  64.8948  64.8635  64.8336]\n",
      "longitude [-147.8828 -147.9471 -148.0415 ..., -147.7128 -147.7722 -147.8285]\n",
      "altitude [  233.4   652.9  1099.1 ...,   682.1   435.8   203.5]\n"
     ]
    }
   ],
   "source": [
    "for c in NC.coords():\n",
    "    print c.name(), c.data"
   ]
  },
  {
   "cell_type": "markdown",
   "metadata": {
    "slideshow": {
     "slide_type": "fragment"
    }
   },
   "source": [
    "**Note** in the above that one of the calls is to a method, and the other is to a data attribute. See the help output above."
   ]
  },
  {
   "cell_type": "markdown",
   "metadata": {
    "slideshow": {
     "slide_type": "subslide"
    }
   },
   "source": [
    "We can also look at the metadata:"
   ]
  },
  {
   "cell_type": "code",
   "execution_count": 11,
   "metadata": {
    "collapsed": false,
    "slideshow": {
     "slide_type": "fragment"
    }
   },
   "outputs": [
    {
     "name": "stdout",
     "output_type": "stream",
     "text": [
      "     Long name = \n",
      "     Standard name = NUMBER_CONCENTRATION\n",
      "     Units = #/cm3\n",
      "     Missing value = -9999\n",
      "     Range = (17.0, 2191.0)\n",
      "     History = \n",
      "\n"
     ]
    }
   ],
   "source": [
    "print NC.metadata"
   ]
  },
  {
   "cell_type": "markdown",
   "metadata": {
    "slideshow": {
     "slide_type": "fragment"
    }
   },
   "source": [
    "Or edit it:"
   ]
  },
  {
   "cell_type": "code",
   "execution_count": 12,
   "metadata": {
    "collapsed": false,
    "slideshow": {
     "slide_type": "fragment"
    }
   },
   "outputs": [
    {
     "name": "stdout",
     "output_type": "stream",
     "text": [
      "     Long name = \n",
      "     Standard name = NUMBER_CONCENTRATION\n",
      "     Units = #/cm3\n",
      "     Missing value = -9999\n",
      "     Range = (17.0, 2191.0)\n",
      "     History = DWP removed the zero-values\n",
      "\n",
      "\n"
     ]
    }
   ],
   "source": [
    "NC.metadata.history += 'DWP removed the zero-values\\n'\n",
    "print NC.metadata  "
   ]
  },
  {
   "cell_type": "markdown",
   "metadata": {
    "slideshow": {
     "slide_type": "notes"
    }
   },
   "source": [
    "Note the `\\n` above - this is a line break, and ensures that when we add another line to the history the lines won't run into each other."
   ]
  },
  {
   "cell_type": "markdown",
   "metadata": {
    "slideshow": {
     "slide_type": "slide"
    }
   },
   "source": [
    "## Using Pandas with CIS data\n",
    "\n",
    "Pandas (http://pandas.pydata.org) is a free, open-source library for data analysis and offers powerful tools similar to R. \n",
    "\n",
    "It's particularly good for working with time series."
   ]
  },
  {
   "cell_type": "markdown",
   "metadata": {
    "slideshow": {
     "slide_type": "subslide"
    }
   },
   "source": [
    "We can easily convert CIS data into pandas data to take advantage of this time-series functionality:"
   ]
  },
  {
   "cell_type": "code",
   "execution_count": 13,
   "metadata": {
    "collapsed": false,
    "slideshow": {
     "slide_type": "fragment"
    }
   },
   "outputs": [],
   "source": [
    "df = NC.as_data_frame()"
   ]
  },
  {
   "cell_type": "code",
   "execution_count": 14,
   "metadata": {
    "collapsed": false,
    "scrolled": true
   },
   "outputs": [
    {
     "data": {
      "text/html": [
       "<div>\n",
       "<table border=\"1\" class=\"dataframe\">\n",
       "  <thead>\n",
       "    <tr style=\"text-align: right;\">\n",
       "      <th></th>\n",
       "      <th>altitude</th>\n",
       "      <th>latitude</th>\n",
       "      <th>longitude</th>\n",
       "      <th>NUMBER_CONCENTRATION</th>\n",
       "    </tr>\n",
       "  </thead>\n",
       "  <tbody>\n",
       "    <tr>\n",
       "      <th>2008-04-11 20:01:30.000001</th>\n",
       "      <td>233.4</td>\n",
       "      <td>64.8029</td>\n",
       "      <td>-147.8828</td>\n",
       "      <td>2191</td>\n",
       "    </tr>\n",
       "    <tr>\n",
       "      <th>2008-04-11 20:02:30.000000</th>\n",
       "      <td>652.9</td>\n",
       "      <td>64.7594</td>\n",
       "      <td>-147.9471</td>\n",
       "      <td>581</td>\n",
       "    </tr>\n",
       "    <tr>\n",
       "      <th>2008-04-11 20:03:30.000000</th>\n",
       "      <td>1099.1</td>\n",
       "      <td>64.7385</td>\n",
       "      <td>-148.0415</td>\n",
       "      <td>306</td>\n",
       "    </tr>\n",
       "    <tr>\n",
       "      <th>2008-04-11 20:04:30.000000</th>\n",
       "      <td>1496.7</td>\n",
       "      <td>64.7820</td>\n",
       "      <td>-148.1129</td>\n",
       "      <td>281</td>\n",
       "    </tr>\n",
       "    <tr>\n",
       "      <th>2008-04-11 20:05:30.000000</th>\n",
       "      <td>1877.5</td>\n",
       "      <td>64.8434</td>\n",
       "      <td>-148.1207</td>\n",
       "      <td>246</td>\n",
       "    </tr>\n",
       "    <tr>\n",
       "      <th>2008-04-11 20:06:30.000000</th>\n",
       "      <td>2245.8</td>\n",
       "      <td>64.9073</td>\n",
       "      <td>-148.1275</td>\n",
       "      <td>230</td>\n",
       "    </tr>\n",
       "    <tr>\n",
       "      <th>2008-04-11 20:07:30.000000</th>\n",
       "      <td>2638.7</td>\n",
       "      <td>64.9720</td>\n",
       "      <td>-148.1360</td>\n",
       "      <td>241</td>\n",
       "    </tr>\n",
       "    <tr>\n",
       "      <th>2008-04-11 20:08:30.000016</th>\n",
       "      <td>3013.7</td>\n",
       "      <td>65.0354</td>\n",
       "      <td>-148.1538</td>\n",
       "      <td>197</td>\n",
       "    </tr>\n",
       "    <tr>\n",
       "      <th>2008-04-11 20:09:30.000012</th>\n",
       "      <td>3275.1</td>\n",
       "      <td>65.1007</td>\n",
       "      <td>-148.1691</td>\n",
       "      <td>209</td>\n",
       "    </tr>\n",
       "    <tr>\n",
       "      <th>2008-04-11 20:10:30.000009</th>\n",
       "      <td>3411.1</td>\n",
       "      <td>65.1700</td>\n",
       "      <td>-148.1806</td>\n",
       "      <td>194</td>\n",
       "    </tr>\n",
       "    <tr>\n",
       "      <th>2008-04-11 20:11:30.000005</th>\n",
       "      <td>3412.2</td>\n",
       "      <td>65.2419</td>\n",
       "      <td>-148.1874</td>\n",
       "      <td>185</td>\n",
       "    </tr>\n",
       "    <tr>\n",
       "      <th>2008-04-11 20:12:30.000002</th>\n",
       "      <td>3410.5</td>\n",
       "      <td>65.3126</td>\n",
       "      <td>-148.1910</td>\n",
       "      <td>184</td>\n",
       "    </tr>\n",
       "    <tr>\n",
       "      <th>2008-04-11 20:13:30.000000</th>\n",
       "      <td>3412.0</td>\n",
       "      <td>65.3824</td>\n",
       "      <td>-148.1974</td>\n",
       "      <td>190</td>\n",
       "    </tr>\n",
       "    <tr>\n",
       "      <th>2008-04-11 20:14:30.000000</th>\n",
       "      <td>3412.1</td>\n",
       "      <td>65.4528</td>\n",
       "      <td>-148.2055</td>\n",
       "      <td>173</td>\n",
       "    </tr>\n",
       "    <tr>\n",
       "      <th>2008-04-11 20:15:30.000000</th>\n",
       "      <td>3411.5</td>\n",
       "      <td>65.5235</td>\n",
       "      <td>-148.2154</td>\n",
       "      <td>170</td>\n",
       "    </tr>\n",
       "    <tr>\n",
       "      <th>2008-04-11 20:16:30.000000</th>\n",
       "      <td>3410.9</td>\n",
       "      <td>65.5938</td>\n",
       "      <td>-148.2256</td>\n",
       "      <td>175</td>\n",
       "    </tr>\n",
       "    <tr>\n",
       "      <th>2008-04-11 20:17:30.000000</th>\n",
       "      <td>3409.3</td>\n",
       "      <td>65.6636</td>\n",
       "      <td>-148.2357</td>\n",
       "      <td>169</td>\n",
       "    </tr>\n",
       "    <tr>\n",
       "      <th>2008-04-11 20:18:30.000000</th>\n",
       "      <td>3408.5</td>\n",
       "      <td>65.7332</td>\n",
       "      <td>-148.2463</td>\n",
       "      <td>162</td>\n",
       "    </tr>\n",
       "    <tr>\n",
       "      <th>2008-04-11 20:19:30.000000</th>\n",
       "      <td>3407.7</td>\n",
       "      <td>65.8034</td>\n",
       "      <td>-148.2568</td>\n",
       "      <td>177</td>\n",
       "    </tr>\n",
       "    <tr>\n",
       "      <th>2008-04-11 20:20:30.000000</th>\n",
       "      <td>3407.2</td>\n",
       "      <td>65.8740</td>\n",
       "      <td>-148.2664</td>\n",
       "      <td>194</td>\n",
       "    </tr>\n",
       "    <tr>\n",
       "      <th>2008-04-11 20:21:30.000010</th>\n",
       "      <td>3407.3</td>\n",
       "      <td>65.9449</td>\n",
       "      <td>-148.2756</td>\n",
       "      <td>236</td>\n",
       "    </tr>\n",
       "    <tr>\n",
       "      <th>2008-04-11 20:22:30.000006</th>\n",
       "      <td>3407.1</td>\n",
       "      <td>66.0160</td>\n",
       "      <td>-148.2849</td>\n",
       "      <td>360</td>\n",
       "    </tr>\n",
       "    <tr>\n",
       "      <th>2008-04-11 20:23:30.000002</th>\n",
       "      <td>3406.0</td>\n",
       "      <td>66.0875</td>\n",
       "      <td>-148.2942</td>\n",
       "      <td>333</td>\n",
       "    </tr>\n",
       "    <tr>\n",
       "      <th>2008-04-11 20:24:30.000000</th>\n",
       "      <td>3404.7</td>\n",
       "      <td>66.1592</td>\n",
       "      <td>-148.3032</td>\n",
       "      <td>307</td>\n",
       "    </tr>\n",
       "    <tr>\n",
       "      <th>2008-04-11 20:25:30.000000</th>\n",
       "      <td>3405.3</td>\n",
       "      <td>66.2312</td>\n",
       "      <td>-148.3120</td>\n",
       "      <td>277</td>\n",
       "    </tr>\n",
       "    <tr>\n",
       "      <th>2008-04-11 20:26:30.000000</th>\n",
       "      <td>3405.2</td>\n",
       "      <td>66.3033</td>\n",
       "      <td>-148.3210</td>\n",
       "      <td>268</td>\n",
       "    </tr>\n",
       "    <tr>\n",
       "      <th>2008-04-11 20:27:30.000000</th>\n",
       "      <td>3404.9</td>\n",
       "      <td>66.3755</td>\n",
       "      <td>-148.3303</td>\n",
       "      <td>255</td>\n",
       "    </tr>\n",
       "    <tr>\n",
       "      <th>2008-04-11 20:28:30.000000</th>\n",
       "      <td>3403.7</td>\n",
       "      <td>66.4471</td>\n",
       "      <td>-148.3402</td>\n",
       "      <td>252</td>\n",
       "    </tr>\n",
       "    <tr>\n",
       "      <th>2008-04-11 20:29:30.000000</th>\n",
       "      <td>3402.5</td>\n",
       "      <td>66.5181</td>\n",
       "      <td>-148.3506</td>\n",
       "      <td>158</td>\n",
       "    </tr>\n",
       "    <tr>\n",
       "      <th>2008-04-11 20:30:30.000018</th>\n",
       "      <td>3403.1</td>\n",
       "      <td>66.5886</td>\n",
       "      <td>-148.3616</td>\n",
       "      <td>151</td>\n",
       "    </tr>\n",
       "    <tr>\n",
       "      <th>...</th>\n",
       "      <td>...</td>\n",
       "      <td>...</td>\n",
       "      <td>...</td>\n",
       "      <td>...</td>\n",
       "    </tr>\n",
       "    <tr>\n",
       "      <th>2008-04-16 02:34:30.000003</th>\n",
       "      <td>5326.5</td>\n",
       "      <td>66.4332</td>\n",
       "      <td>-150.5058</td>\n",
       "      <td>350</td>\n",
       "    </tr>\n",
       "    <tr>\n",
       "      <th>2008-04-16 02:35:30.000000</th>\n",
       "      <td>5327.2</td>\n",
       "      <td>66.3617</td>\n",
       "      <td>-150.3813</td>\n",
       "      <td>321</td>\n",
       "    </tr>\n",
       "    <tr>\n",
       "      <th>2008-04-16 02:36:30.000000</th>\n",
       "      <td>5328.5</td>\n",
       "      <td>66.2913</td>\n",
       "      <td>-150.2537</td>\n",
       "      <td>496</td>\n",
       "    </tr>\n",
       "    <tr>\n",
       "      <th>2008-04-16 02:37:30.000000</th>\n",
       "      <td>5330.0</td>\n",
       "      <td>66.2213</td>\n",
       "      <td>-150.1258</td>\n",
       "      <td>403</td>\n",
       "    </tr>\n",
       "    <tr>\n",
       "      <th>2008-04-16 02:38:30.000000</th>\n",
       "      <td>5331.2</td>\n",
       "      <td>66.1513</td>\n",
       "      <td>-149.9991</td>\n",
       "      <td>344</td>\n",
       "    </tr>\n",
       "    <tr>\n",
       "      <th>2008-04-16 02:39:30.000000</th>\n",
       "      <td>5332.1</td>\n",
       "      <td>66.0805</td>\n",
       "      <td>-149.8781</td>\n",
       "      <td>236</td>\n",
       "    </tr>\n",
       "    <tr>\n",
       "      <th>2008-04-16 02:40:30.000000</th>\n",
       "      <td>5334.5</td>\n",
       "      <td>66.0091</td>\n",
       "      <td>-149.7616</td>\n",
       "      <td>288</td>\n",
       "    </tr>\n",
       "    <tr>\n",
       "      <th>2008-04-16 02:41:30.000000</th>\n",
       "      <td>5337.4</td>\n",
       "      <td>65.9380</td>\n",
       "      <td>-149.6455</td>\n",
       "      <td>544</td>\n",
       "    </tr>\n",
       "    <tr>\n",
       "      <th>2008-04-16 02:42:30.000000</th>\n",
       "      <td>5316.7</td>\n",
       "      <td>65.8672</td>\n",
       "      <td>-149.5295</td>\n",
       "      <td>610</td>\n",
       "    </tr>\n",
       "    <tr>\n",
       "      <th>2008-04-16 02:43:30.000011</th>\n",
       "      <td>5018.4</td>\n",
       "      <td>65.7983</td>\n",
       "      <td>-149.4151</td>\n",
       "      <td>377</td>\n",
       "    </tr>\n",
       "    <tr>\n",
       "      <th>2008-04-16 02:44:30.000008</th>\n",
       "      <td>4771.4</td>\n",
       "      <td>65.7328</td>\n",
       "      <td>-149.3015</td>\n",
       "      <td>303</td>\n",
       "    </tr>\n",
       "    <tr>\n",
       "      <th>2008-04-16 02:45:30.000004</th>\n",
       "      <td>4504.9</td>\n",
       "      <td>65.6694</td>\n",
       "      <td>-149.1929</td>\n",
       "      <td>231</td>\n",
       "    </tr>\n",
       "    <tr>\n",
       "      <th>2008-04-16 02:46:30.000001</th>\n",
       "      <td>4238.8</td>\n",
       "      <td>65.6070</td>\n",
       "      <td>-149.0823</td>\n",
       "      <td>200</td>\n",
       "    </tr>\n",
       "    <tr>\n",
       "      <th>2008-04-16 02:47:30.000000</th>\n",
       "      <td>4013.3</td>\n",
       "      <td>65.5502</td>\n",
       "      <td>-148.9587</td>\n",
       "      <td>302</td>\n",
       "    </tr>\n",
       "    <tr>\n",
       "      <th>2008-04-16 02:48:30.000000</th>\n",
       "      <td>3787.6</td>\n",
       "      <td>65.4937</td>\n",
       "      <td>-148.8395</td>\n",
       "      <td>262</td>\n",
       "    </tr>\n",
       "    <tr>\n",
       "      <th>2008-04-16 02:49:30.000000</th>\n",
       "      <td>3546.2</td>\n",
       "      <td>65.4354</td>\n",
       "      <td>-148.7259</td>\n",
       "      <td>555</td>\n",
       "    </tr>\n",
       "    <tr>\n",
       "      <th>2008-04-16 02:50:30.000000</th>\n",
       "      <td>3328.0</td>\n",
       "      <td>65.3767</td>\n",
       "      <td>-148.6144</td>\n",
       "      <td>546</td>\n",
       "    </tr>\n",
       "    <tr>\n",
       "      <th>2008-04-16 02:51:30.000000</th>\n",
       "      <td>3088.1</td>\n",
       "      <td>65.3185</td>\n",
       "      <td>-148.5031</td>\n",
       "      <td>538</td>\n",
       "    </tr>\n",
       "    <tr>\n",
       "      <th>2008-04-16 02:52:30.000000</th>\n",
       "      <td>2736.2</td>\n",
       "      <td>65.2592</td>\n",
       "      <td>-148.3931</td>\n",
       "      <td>511</td>\n",
       "    </tr>\n",
       "    <tr>\n",
       "      <th>2008-04-16 02:53:30.000016</th>\n",
       "      <td>2400.7</td>\n",
       "      <td>65.2034</td>\n",
       "      <td>-148.2816</td>\n",
       "      <td>187</td>\n",
       "    </tr>\n",
       "    <tr>\n",
       "      <th>2008-04-16 02:54:30.000012</th>\n",
       "      <td>2020.8</td>\n",
       "      <td>65.1602</td>\n",
       "      <td>-148.1653</td>\n",
       "      <td>210</td>\n",
       "    </tr>\n",
       "    <tr>\n",
       "      <th>2008-04-16 02:55:30.000009</th>\n",
       "      <td>1694.9</td>\n",
       "      <td>65.1254</td>\n",
       "      <td>-148.0474</td>\n",
       "      <td>222</td>\n",
       "    </tr>\n",
       "    <tr>\n",
       "      <th>2008-04-16 02:56:30.000005</th>\n",
       "      <td>1441.9</td>\n",
       "      <td>65.0882</td>\n",
       "      <td>-147.9370</td>\n",
       "      <td>230</td>\n",
       "    </tr>\n",
       "    <tr>\n",
       "      <th>2008-04-16 02:57:30.000002</th>\n",
       "      <td>1232.0</td>\n",
       "      <td>65.0506</td>\n",
       "      <td>-147.8268</td>\n",
       "      <td>236</td>\n",
       "    </tr>\n",
       "    <tr>\n",
       "      <th>2008-04-16 02:58:30.000000</th>\n",
       "      <td>1199.5</td>\n",
       "      <td>65.0156</td>\n",
       "      <td>-147.7097</td>\n",
       "      <td>237</td>\n",
       "    </tr>\n",
       "    <tr>\n",
       "      <th>2008-04-16 02:59:30.000000</th>\n",
       "      <td>1091.9</td>\n",
       "      <td>64.9706</td>\n",
       "      <td>-147.6263</td>\n",
       "      <td>226</td>\n",
       "    </tr>\n",
       "    <tr>\n",
       "      <th>2008-04-16 03:00:30.000000</th>\n",
       "      <td>944.9</td>\n",
       "      <td>64.9277</td>\n",
       "      <td>-147.6486</td>\n",
       "      <td>219</td>\n",
       "    </tr>\n",
       "    <tr>\n",
       "      <th>2008-04-16 03:01:30.000000</th>\n",
       "      <td>682.1</td>\n",
       "      <td>64.8948</td>\n",
       "      <td>-147.7128</td>\n",
       "      <td>221</td>\n",
       "    </tr>\n",
       "    <tr>\n",
       "      <th>2008-04-16 03:02:30.000000</th>\n",
       "      <td>435.8</td>\n",
       "      <td>64.8635</td>\n",
       "      <td>-147.7722</td>\n",
       "      <td>220</td>\n",
       "    </tr>\n",
       "    <tr>\n",
       "      <th>2008-04-16 03:03:30.000000</th>\n",
       "      <td>203.5</td>\n",
       "      <td>64.8336</td>\n",
       "      <td>-147.8285</td>\n",
       "      <td>187</td>\n",
       "    </tr>\n",
       "  </tbody>\n",
       "</table>\n",
       "<p>1268 rows × 4 columns</p>\n",
       "</div>"
      ],
      "text/plain": [
       "                            altitude  latitude  longitude  \\\n",
       "2008-04-11 20:01:30.000001     233.4   64.8029  -147.8828   \n",
       "2008-04-11 20:02:30.000000     652.9   64.7594  -147.9471   \n",
       "2008-04-11 20:03:30.000000    1099.1   64.7385  -148.0415   \n",
       "2008-04-11 20:04:30.000000    1496.7   64.7820  -148.1129   \n",
       "2008-04-11 20:05:30.000000    1877.5   64.8434  -148.1207   \n",
       "2008-04-11 20:06:30.000000    2245.8   64.9073  -148.1275   \n",
       "2008-04-11 20:07:30.000000    2638.7   64.9720  -148.1360   \n",
       "2008-04-11 20:08:30.000016    3013.7   65.0354  -148.1538   \n",
       "2008-04-11 20:09:30.000012    3275.1   65.1007  -148.1691   \n",
       "2008-04-11 20:10:30.000009    3411.1   65.1700  -148.1806   \n",
       "2008-04-11 20:11:30.000005    3412.2   65.2419  -148.1874   \n",
       "2008-04-11 20:12:30.000002    3410.5   65.3126  -148.1910   \n",
       "2008-04-11 20:13:30.000000    3412.0   65.3824  -148.1974   \n",
       "2008-04-11 20:14:30.000000    3412.1   65.4528  -148.2055   \n",
       "2008-04-11 20:15:30.000000    3411.5   65.5235  -148.2154   \n",
       "2008-04-11 20:16:30.000000    3410.9   65.5938  -148.2256   \n",
       "2008-04-11 20:17:30.000000    3409.3   65.6636  -148.2357   \n",
       "2008-04-11 20:18:30.000000    3408.5   65.7332  -148.2463   \n",
       "2008-04-11 20:19:30.000000    3407.7   65.8034  -148.2568   \n",
       "2008-04-11 20:20:30.000000    3407.2   65.8740  -148.2664   \n",
       "2008-04-11 20:21:30.000010    3407.3   65.9449  -148.2756   \n",
       "2008-04-11 20:22:30.000006    3407.1   66.0160  -148.2849   \n",
       "2008-04-11 20:23:30.000002    3406.0   66.0875  -148.2942   \n",
       "2008-04-11 20:24:30.000000    3404.7   66.1592  -148.3032   \n",
       "2008-04-11 20:25:30.000000    3405.3   66.2312  -148.3120   \n",
       "2008-04-11 20:26:30.000000    3405.2   66.3033  -148.3210   \n",
       "2008-04-11 20:27:30.000000    3404.9   66.3755  -148.3303   \n",
       "2008-04-11 20:28:30.000000    3403.7   66.4471  -148.3402   \n",
       "2008-04-11 20:29:30.000000    3402.5   66.5181  -148.3506   \n",
       "2008-04-11 20:30:30.000018    3403.1   66.5886  -148.3616   \n",
       "...                              ...       ...        ...   \n",
       "2008-04-16 02:34:30.000003    5326.5   66.4332  -150.5058   \n",
       "2008-04-16 02:35:30.000000    5327.2   66.3617  -150.3813   \n",
       "2008-04-16 02:36:30.000000    5328.5   66.2913  -150.2537   \n",
       "2008-04-16 02:37:30.000000    5330.0   66.2213  -150.1258   \n",
       "2008-04-16 02:38:30.000000    5331.2   66.1513  -149.9991   \n",
       "2008-04-16 02:39:30.000000    5332.1   66.0805  -149.8781   \n",
       "2008-04-16 02:40:30.000000    5334.5   66.0091  -149.7616   \n",
       "2008-04-16 02:41:30.000000    5337.4   65.9380  -149.6455   \n",
       "2008-04-16 02:42:30.000000    5316.7   65.8672  -149.5295   \n",
       "2008-04-16 02:43:30.000011    5018.4   65.7983  -149.4151   \n",
       "2008-04-16 02:44:30.000008    4771.4   65.7328  -149.3015   \n",
       "2008-04-16 02:45:30.000004    4504.9   65.6694  -149.1929   \n",
       "2008-04-16 02:46:30.000001    4238.8   65.6070  -149.0823   \n",
       "2008-04-16 02:47:30.000000    4013.3   65.5502  -148.9587   \n",
       "2008-04-16 02:48:30.000000    3787.6   65.4937  -148.8395   \n",
       "2008-04-16 02:49:30.000000    3546.2   65.4354  -148.7259   \n",
       "2008-04-16 02:50:30.000000    3328.0   65.3767  -148.6144   \n",
       "2008-04-16 02:51:30.000000    3088.1   65.3185  -148.5031   \n",
       "2008-04-16 02:52:30.000000    2736.2   65.2592  -148.3931   \n",
       "2008-04-16 02:53:30.000016    2400.7   65.2034  -148.2816   \n",
       "2008-04-16 02:54:30.000012    2020.8   65.1602  -148.1653   \n",
       "2008-04-16 02:55:30.000009    1694.9   65.1254  -148.0474   \n",
       "2008-04-16 02:56:30.000005    1441.9   65.0882  -147.9370   \n",
       "2008-04-16 02:57:30.000002    1232.0   65.0506  -147.8268   \n",
       "2008-04-16 02:58:30.000000    1199.5   65.0156  -147.7097   \n",
       "2008-04-16 02:59:30.000000    1091.9   64.9706  -147.6263   \n",
       "2008-04-16 03:00:30.000000     944.9   64.9277  -147.6486   \n",
       "2008-04-16 03:01:30.000000     682.1   64.8948  -147.7128   \n",
       "2008-04-16 03:02:30.000000     435.8   64.8635  -147.7722   \n",
       "2008-04-16 03:03:30.000000     203.5   64.8336  -147.8285   \n",
       "\n",
       "                            NUMBER_CONCENTRATION  \n",
       "2008-04-11 20:01:30.000001                  2191  \n",
       "2008-04-11 20:02:30.000000                   581  \n",
       "2008-04-11 20:03:30.000000                   306  \n",
       "2008-04-11 20:04:30.000000                   281  \n",
       "2008-04-11 20:05:30.000000                   246  \n",
       "2008-04-11 20:06:30.000000                   230  \n",
       "2008-04-11 20:07:30.000000                   241  \n",
       "2008-04-11 20:08:30.000016                   197  \n",
       "2008-04-11 20:09:30.000012                   209  \n",
       "2008-04-11 20:10:30.000009                   194  \n",
       "2008-04-11 20:11:30.000005                   185  \n",
       "2008-04-11 20:12:30.000002                   184  \n",
       "2008-04-11 20:13:30.000000                   190  \n",
       "2008-04-11 20:14:30.000000                   173  \n",
       "2008-04-11 20:15:30.000000                   170  \n",
       "2008-04-11 20:16:30.000000                   175  \n",
       "2008-04-11 20:17:30.000000                   169  \n",
       "2008-04-11 20:18:30.000000                   162  \n",
       "2008-04-11 20:19:30.000000                   177  \n",
       "2008-04-11 20:20:30.000000                   194  \n",
       "2008-04-11 20:21:30.000010                   236  \n",
       "2008-04-11 20:22:30.000006                   360  \n",
       "2008-04-11 20:23:30.000002                   333  \n",
       "2008-04-11 20:24:30.000000                   307  \n",
       "2008-04-11 20:25:30.000000                   277  \n",
       "2008-04-11 20:26:30.000000                   268  \n",
       "2008-04-11 20:27:30.000000                   255  \n",
       "2008-04-11 20:28:30.000000                   252  \n",
       "2008-04-11 20:29:30.000000                   158  \n",
       "2008-04-11 20:30:30.000018                   151  \n",
       "...                                          ...  \n",
       "2008-04-16 02:34:30.000003                   350  \n",
       "2008-04-16 02:35:30.000000                   321  \n",
       "2008-04-16 02:36:30.000000                   496  \n",
       "2008-04-16 02:37:30.000000                   403  \n",
       "2008-04-16 02:38:30.000000                   344  \n",
       "2008-04-16 02:39:30.000000                   236  \n",
       "2008-04-16 02:40:30.000000                   288  \n",
       "2008-04-16 02:41:30.000000                   544  \n",
       "2008-04-16 02:42:30.000000                   610  \n",
       "2008-04-16 02:43:30.000011                   377  \n",
       "2008-04-16 02:44:30.000008                   303  \n",
       "2008-04-16 02:45:30.000004                   231  \n",
       "2008-04-16 02:46:30.000001                   200  \n",
       "2008-04-16 02:47:30.000000                   302  \n",
       "2008-04-16 02:48:30.000000                   262  \n",
       "2008-04-16 02:49:30.000000                   555  \n",
       "2008-04-16 02:50:30.000000                   546  \n",
       "2008-04-16 02:51:30.000000                   538  \n",
       "2008-04-16 02:52:30.000000                   511  \n",
       "2008-04-16 02:53:30.000016                   187  \n",
       "2008-04-16 02:54:30.000012                   210  \n",
       "2008-04-16 02:55:30.000009                   222  \n",
       "2008-04-16 02:56:30.000005                   230  \n",
       "2008-04-16 02:57:30.000002                   236  \n",
       "2008-04-16 02:58:30.000000                   237  \n",
       "2008-04-16 02:59:30.000000                   226  \n",
       "2008-04-16 03:00:30.000000                   219  \n",
       "2008-04-16 03:01:30.000000                   221  \n",
       "2008-04-16 03:02:30.000000                   220  \n",
       "2008-04-16 03:03:30.000000                   187  \n",
       "\n",
       "[1268 rows x 4 columns]"
      ]
     },
     "execution_count": 14,
     "metadata": {},
     "output_type": "execute_result"
    }
   ],
   "source": [
    "df"
   ]
  },
  {
   "cell_type": "markdown",
   "metadata": {
    "slideshow": {
     "slide_type": "slide"
    }
   },
   "source": [
    "Now we can do cool Pandas stuff!"
   ]
  },
  {
   "cell_type": "code",
   "execution_count": 15,
   "metadata": {
    "collapsed": false,
    "slideshow": {
     "slide_type": "fragment"
    }
   },
   "outputs": [
    {
     "data": {
      "text/plain": [
       "altitude                2671.365300\n",
       "latitude                  68.334602\n",
       "longitude               -151.828151\n",
       "NUMBER_CONCENTRATION     314.305810\n",
       "dtype: float64"
      ]
     },
     "execution_count": 15,
     "metadata": {},
     "output_type": "execute_result"
    }
   ],
   "source": [
    "df.mean()"
   ]
  },
  {
   "cell_type": "code",
   "execution_count": 16,
   "metadata": {
    "collapsed": false,
    "slideshow": {
     "slide_type": "fragment"
    }
   },
   "outputs": [
    {
     "data": {
      "text/plain": [
       "2191.0"
      ]
     },
     "execution_count": 16,
     "metadata": {},
     "output_type": "execute_result"
    }
   ],
   "source": [
    "df['NUMBER_CONCENTRATION'].max()"
   ]
  },
  {
   "cell_type": "code",
   "execution_count": 17,
   "metadata": {
    "collapsed": false,
    "slideshow": {
     "slide_type": "subslide"
    }
   },
   "outputs": [
    {
     "data": {
      "text/plain": [
       "altitude                2916.1000\n",
       "latitude                  73.2817\n",
       "longitude               -153.3266\n",
       "NUMBER_CONCENTRATION      17.0000\n",
       "Name: 2008-04-12 23:49:30, dtype: float64"
      ]
     },
     "execution_count": 17,
     "metadata": {},
     "output_type": "execute_result"
    }
   ],
   "source": [
    "df.ix[df['NUMBER_CONCENTRATION'].argmin()]"
   ]
  },
  {
   "cell_type": "code",
   "execution_count": 18,
   "metadata": {
    "collapsed": false,
    "scrolled": true,
    "slideshow": {
     "slide_type": "fragment"
    }
   },
   "outputs": [
    {
     "data": {
      "text/html": [
       "<div>\n",
       "<table border=\"1\" class=\"dataframe\">\n",
       "  <thead>\n",
       "    <tr style=\"text-align: right;\">\n",
       "      <th></th>\n",
       "      <th>altitude</th>\n",
       "      <th>latitude</th>\n",
       "      <th>longitude</th>\n",
       "      <th>NUMBER_CONCENTRATION</th>\n",
       "    </tr>\n",
       "  </thead>\n",
       "  <tbody>\n",
       "    <tr>\n",
       "      <th>2008-04-11 20:00:00</th>\n",
       "      <td>870.525</td>\n",
       "      <td>64.77070</td>\n",
       "      <td>-147.996075</td>\n",
       "      <td>839.750000</td>\n",
       "    </tr>\n",
       "    <tr>\n",
       "      <th>2008-04-11 20:05:00</th>\n",
       "      <td>2610.160</td>\n",
       "      <td>64.97176</td>\n",
       "      <td>-148.141420</td>\n",
       "      <td>224.600006</td>\n",
       "    </tr>\n",
       "    <tr>\n",
       "      <th>2008-04-11 20:10:00</th>\n",
       "      <td>3411.580</td>\n",
       "      <td>65.31194</td>\n",
       "      <td>-148.192380</td>\n",
       "      <td>185.199997</td>\n",
       "    </tr>\n",
       "    <tr>\n",
       "      <th>2008-04-11 20:15:00</th>\n",
       "      <td>3409.580</td>\n",
       "      <td>65.66350</td>\n",
       "      <td>-148.235960</td>\n",
       "      <td>170.600006</td>\n",
       "    </tr>\n",
       "    <tr>\n",
       "      <th>2008-04-11 20:20:00</th>\n",
       "      <td>3406.460</td>\n",
       "      <td>66.01632</td>\n",
       "      <td>-148.284860</td>\n",
       "      <td>286.000000</td>\n",
       "    </tr>\n",
       "    <tr>\n",
       "      <th>2008-04-11 20:25:00</th>\n",
       "      <td>3404.320</td>\n",
       "      <td>66.37504</td>\n",
       "      <td>-148.330820</td>\n",
       "      <td>242.000000</td>\n",
       "    </tr>\n",
       "    <tr>\n",
       "      <th>2008-04-11 20:30:00</th>\n",
       "      <td>3403.640</td>\n",
       "      <td>66.73098</td>\n",
       "      <td>-148.379880</td>\n",
       "      <td>148.800003</td>\n",
       "    </tr>\n",
       "    <tr>\n",
       "      <th>2008-04-11 20:35:00</th>\n",
       "      <td>3402.740</td>\n",
       "      <td>67.09088</td>\n",
       "      <td>-148.422520</td>\n",
       "      <td>151.399994</td>\n",
       "    </tr>\n",
       "    <tr>\n",
       "      <th>2008-04-11 20:40:00</th>\n",
       "      <td>3400.620</td>\n",
       "      <td>67.45660</td>\n",
       "      <td>-148.472620</td>\n",
       "      <td>173.800003</td>\n",
       "    </tr>\n",
       "    <tr>\n",
       "      <th>2008-04-11 20:45:00</th>\n",
       "      <td>3397.700</td>\n",
       "      <td>67.82766</td>\n",
       "      <td>-148.519480</td>\n",
       "      <td>169.000000</td>\n",
       "    </tr>\n",
       "    <tr>\n",
       "      <th>2008-04-11 20:50:00</th>\n",
       "      <td>3397.040</td>\n",
       "      <td>68.20226</td>\n",
       "      <td>-148.570660</td>\n",
       "      <td>NaN</td>\n",
       "    </tr>\n",
       "    <tr>\n",
       "      <th>2008-04-11 20:55:00</th>\n",
       "      <td>3392.420</td>\n",
       "      <td>68.57606</td>\n",
       "      <td>-148.632040</td>\n",
       "      <td>NaN</td>\n",
       "    </tr>\n",
       "    <tr>\n",
       "      <th>2008-04-11 21:00:00</th>\n",
       "      <td>3388.040</td>\n",
       "      <td>68.94462</td>\n",
       "      <td>-148.690500</td>\n",
       "      <td>NaN</td>\n",
       "    </tr>\n",
       "    <tr>\n",
       "      <th>2008-04-11 21:05:00</th>\n",
       "      <td>3385.940</td>\n",
       "      <td>69.31272</td>\n",
       "      <td>-148.745500</td>\n",
       "      <td>NaN</td>\n",
       "    </tr>\n",
       "    <tr>\n",
       "      <th>2008-04-11 21:10:00</th>\n",
       "      <td>3382.820</td>\n",
       "      <td>69.68036</td>\n",
       "      <td>-148.819300</td>\n",
       "      <td>NaN</td>\n",
       "    </tr>\n",
       "    <tr>\n",
       "      <th>2008-04-11 21:15:00</th>\n",
       "      <td>3380.960</td>\n",
       "      <td>70.04538</td>\n",
       "      <td>-148.943500</td>\n",
       "      <td>NaN</td>\n",
       "    </tr>\n",
       "    <tr>\n",
       "      <th>2008-04-11 21:20:00</th>\n",
       "      <td>2926.660</td>\n",
       "      <td>70.40266</td>\n",
       "      <td>-149.060600</td>\n",
       "      <td>NaN</td>\n",
       "    </tr>\n",
       "    <tr>\n",
       "      <th>2008-04-11 21:25:00</th>\n",
       "      <td>1110.420</td>\n",
       "      <td>70.73052</td>\n",
       "      <td>-149.111420</td>\n",
       "      <td>NaN</td>\n",
       "    </tr>\n",
       "    <tr>\n",
       "      <th>2008-04-11 21:30:00</th>\n",
       "      <td>1665.260</td>\n",
       "      <td>70.81190</td>\n",
       "      <td>-148.969740</td>\n",
       "      <td>NaN</td>\n",
       "    </tr>\n",
       "    <tr>\n",
       "      <th>2008-04-11 21:35:00</th>\n",
       "      <td>2751.160</td>\n",
       "      <td>70.53596</td>\n",
       "      <td>-148.903300</td>\n",
       "      <td>NaN</td>\n",
       "    </tr>\n",
       "    <tr>\n",
       "      <th>2008-04-11 21:40:00</th>\n",
       "      <td>2783.040</td>\n",
       "      <td>70.23258</td>\n",
       "      <td>-148.831100</td>\n",
       "      <td>NaN</td>\n",
       "    </tr>\n",
       "    <tr>\n",
       "      <th>2008-04-11 21:45:00</th>\n",
       "      <td>2939.000</td>\n",
       "      <td>69.93050</td>\n",
       "      <td>-148.764420</td>\n",
       "      <td>NaN</td>\n",
       "    </tr>\n",
       "    <tr>\n",
       "      <th>2008-04-11 21:50:00</th>\n",
       "      <td>2943.960</td>\n",
       "      <td>69.62848</td>\n",
       "      <td>-148.704060</td>\n",
       "      <td>NaN</td>\n",
       "    </tr>\n",
       "    <tr>\n",
       "      <th>2008-04-11 21:55:00</th>\n",
       "      <td>2945.160</td>\n",
       "      <td>69.32024</td>\n",
       "      <td>-148.624880</td>\n",
       "      <td>NaN</td>\n",
       "    </tr>\n",
       "    <tr>\n",
       "      <th>2008-04-11 22:00:00</th>\n",
       "      <td>2947.420</td>\n",
       "      <td>69.01042</td>\n",
       "      <td>-148.555620</td>\n",
       "      <td>NaN</td>\n",
       "    </tr>\n",
       "    <tr>\n",
       "      <th>2008-04-11 22:05:00</th>\n",
       "      <td>2948.700</td>\n",
       "      <td>68.70008</td>\n",
       "      <td>-148.495080</td>\n",
       "      <td>NaN</td>\n",
       "    </tr>\n",
       "    <tr>\n",
       "      <th>2008-04-11 22:10:00</th>\n",
       "      <td>2946.580</td>\n",
       "      <td>68.39114</td>\n",
       "      <td>-148.444920</td>\n",
       "      <td>NaN</td>\n",
       "    </tr>\n",
       "    <tr>\n",
       "      <th>2008-04-11 22:15:00</th>\n",
       "      <td>2950.600</td>\n",
       "      <td>68.08308</td>\n",
       "      <td>-148.387520</td>\n",
       "      <td>NaN</td>\n",
       "    </tr>\n",
       "    <tr>\n",
       "      <th>2008-04-11 22:20:00</th>\n",
       "      <td>2952.320</td>\n",
       "      <td>67.76916</td>\n",
       "      <td>-148.335040</td>\n",
       "      <td>NaN</td>\n",
       "    </tr>\n",
       "    <tr>\n",
       "      <th>2008-04-11 22:25:00</th>\n",
       "      <td>2979.060</td>\n",
       "      <td>67.45198</td>\n",
       "      <td>-148.282140</td>\n",
       "      <td>NaN</td>\n",
       "    </tr>\n",
       "    <tr>\n",
       "      <th>...</th>\n",
       "      <td>...</td>\n",
       "      <td>...</td>\n",
       "      <td>...</td>\n",
       "      <td>...</td>\n",
       "    </tr>\n",
       "    <tr>\n",
       "      <th>2008-04-16 00:35:00</th>\n",
       "      <td>5596.840</td>\n",
       "      <td>71.90058</td>\n",
       "      <td>-161.794960</td>\n",
       "      <td>336.500000</td>\n",
       "    </tr>\n",
       "    <tr>\n",
       "      <th>2008-04-16 00:40:00</th>\n",
       "      <td>6243.160</td>\n",
       "      <td>71.86198</td>\n",
       "      <td>-161.742020</td>\n",
       "      <td>201.666672</td>\n",
       "    </tr>\n",
       "    <tr>\n",
       "      <th>2008-04-16 00:45:00</th>\n",
       "      <td>4735.020</td>\n",
       "      <td>71.86402</td>\n",
       "      <td>-161.817940</td>\n",
       "      <td>158.000000</td>\n",
       "    </tr>\n",
       "    <tr>\n",
       "      <th>2008-04-16 00:50:00</th>\n",
       "      <td>2862.980</td>\n",
       "      <td>71.87168</td>\n",
       "      <td>-161.791360</td>\n",
       "      <td>198.199997</td>\n",
       "    </tr>\n",
       "    <tr>\n",
       "      <th>2008-04-16 00:55:00</th>\n",
       "      <td>871.660</td>\n",
       "      <td>71.84994</td>\n",
       "      <td>-161.783800</td>\n",
       "      <td>263.799988</td>\n",
       "    </tr>\n",
       "    <tr>\n",
       "      <th>2008-04-16 01:00:00</th>\n",
       "      <td>101.400</td>\n",
       "      <td>71.62454</td>\n",
       "      <td>-161.671380</td>\n",
       "      <td>76.800003</td>\n",
       "    </tr>\n",
       "    <tr>\n",
       "      <th>2008-04-16 01:05:00</th>\n",
       "      <td>101.680</td>\n",
       "      <td>71.36000</td>\n",
       "      <td>-161.370300</td>\n",
       "      <td>63.599998</td>\n",
       "    </tr>\n",
       "    <tr>\n",
       "      <th>2008-04-16 01:10:00</th>\n",
       "      <td>101.920</td>\n",
       "      <td>71.09450</td>\n",
       "      <td>-161.077060</td>\n",
       "      <td>94.400002</td>\n",
       "    </tr>\n",
       "    <tr>\n",
       "      <th>2008-04-16 01:15:00</th>\n",
       "      <td>101.760</td>\n",
       "      <td>70.83808</td>\n",
       "      <td>-160.744760</td>\n",
       "      <td>99.400002</td>\n",
       "    </tr>\n",
       "    <tr>\n",
       "      <th>2008-04-16 01:20:00</th>\n",
       "      <td>146.760</td>\n",
       "      <td>70.63746</td>\n",
       "      <td>-160.126080</td>\n",
       "      <td>88.199997</td>\n",
       "    </tr>\n",
       "    <tr>\n",
       "      <th>2008-04-16 01:25:00</th>\n",
       "      <td>175.580</td>\n",
       "      <td>70.42946</td>\n",
       "      <td>-159.496760</td>\n",
       "      <td>71.599998</td>\n",
       "    </tr>\n",
       "    <tr>\n",
       "      <th>2008-04-16 01:30:00</th>\n",
       "      <td>212.600</td>\n",
       "      <td>70.22194</td>\n",
       "      <td>-158.878100</td>\n",
       "      <td>111.199997</td>\n",
       "    </tr>\n",
       "    <tr>\n",
       "      <th>2008-04-16 01:35:00</th>\n",
       "      <td>357.280</td>\n",
       "      <td>69.99116</td>\n",
       "      <td>-158.264040</td>\n",
       "      <td>135.600006</td>\n",
       "    </tr>\n",
       "    <tr>\n",
       "      <th>2008-04-16 01:40:00</th>\n",
       "      <td>609.780</td>\n",
       "      <td>69.75240</td>\n",
       "      <td>-157.591700</td>\n",
       "      <td>142.199997</td>\n",
       "    </tr>\n",
       "    <tr>\n",
       "      <th>2008-04-16 01:45:00</th>\n",
       "      <td>2416.000</td>\n",
       "      <td>69.49510</td>\n",
       "      <td>-156.964400</td>\n",
       "      <td>123.199997</td>\n",
       "    </tr>\n",
       "    <tr>\n",
       "      <th>2008-04-16 01:50:00</th>\n",
       "      <td>4264.080</td>\n",
       "      <td>69.23148</td>\n",
       "      <td>-156.304840</td>\n",
       "      <td>153.000000</td>\n",
       "    </tr>\n",
       "    <tr>\n",
       "      <th>2008-04-16 01:55:00</th>\n",
       "      <td>4890.040</td>\n",
       "      <td>68.93978</td>\n",
       "      <td>-155.606680</td>\n",
       "      <td>164.800003</td>\n",
       "    </tr>\n",
       "    <tr>\n",
       "      <th>2008-04-16 02:00:00</th>\n",
       "      <td>4929.060</td>\n",
       "      <td>68.62962</td>\n",
       "      <td>-154.884000</td>\n",
       "      <td>129.000000</td>\n",
       "    </tr>\n",
       "    <tr>\n",
       "      <th>2008-04-16 02:05:00</th>\n",
       "      <td>5059.260</td>\n",
       "      <td>68.30462</td>\n",
       "      <td>-154.159180</td>\n",
       "      <td>124.800003</td>\n",
       "    </tr>\n",
       "    <tr>\n",
       "      <th>2008-04-16 02:10:00</th>\n",
       "      <td>5338.260</td>\n",
       "      <td>67.97726</td>\n",
       "      <td>-153.471540</td>\n",
       "      <td>224.000000</td>\n",
       "    </tr>\n",
       "    <tr>\n",
       "      <th>2008-04-16 02:15:00</th>\n",
       "      <td>5334.240</td>\n",
       "      <td>67.63130</td>\n",
       "      <td>-152.758060</td>\n",
       "      <td>214.199997</td>\n",
       "    </tr>\n",
       "    <tr>\n",
       "      <th>2008-04-16 02:20:00</th>\n",
       "      <td>5329.520</td>\n",
       "      <td>67.28112</td>\n",
       "      <td>-152.079900</td>\n",
       "      <td>154.199997</td>\n",
       "    </tr>\n",
       "    <tr>\n",
       "      <th>2008-04-16 02:25:00</th>\n",
       "      <td>5326.240</td>\n",
       "      <td>66.93080</td>\n",
       "      <td>-151.406660</td>\n",
       "      <td>163.800003</td>\n",
       "    </tr>\n",
       "    <tr>\n",
       "      <th>2008-04-16 02:30:00</th>\n",
       "      <td>5326.120</td>\n",
       "      <td>66.57660</td>\n",
       "      <td>-150.755240</td>\n",
       "      <td>657.000000</td>\n",
       "    </tr>\n",
       "    <tr>\n",
       "      <th>2008-04-16 02:35:00</th>\n",
       "      <td>5329.800</td>\n",
       "      <td>66.22122</td>\n",
       "      <td>-150.127600</td>\n",
       "      <td>360.000000</td>\n",
       "    </tr>\n",
       "    <tr>\n",
       "      <th>2008-04-16 02:40:00</th>\n",
       "      <td>5155.680</td>\n",
       "      <td>65.86908</td>\n",
       "      <td>-149.530640</td>\n",
       "      <td>424.399994</td>\n",
       "    </tr>\n",
       "    <tr>\n",
       "      <th>2008-04-16 02:45:00</th>\n",
       "      <td>4018.160</td>\n",
       "      <td>65.55114</td>\n",
       "      <td>-148.959860</td>\n",
       "      <td>310.000000</td>\n",
       "    </tr>\n",
       "    <tr>\n",
       "      <th>2008-04-16 02:50:00</th>\n",
       "      <td>2714.760</td>\n",
       "      <td>65.26360</td>\n",
       "      <td>-148.391500</td>\n",
       "      <td>398.399994</td>\n",
       "    </tr>\n",
       "    <tr>\n",
       "      <th>2008-04-16 02:55:00</th>\n",
       "      <td>1332.040</td>\n",
       "      <td>65.05008</td>\n",
       "      <td>-147.829440</td>\n",
       "      <td>230.199997</td>\n",
       "    </tr>\n",
       "    <tr>\n",
       "      <th>2008-04-16 03:00:00</th>\n",
       "      <td>566.575</td>\n",
       "      <td>64.87990</td>\n",
       "      <td>-147.740525</td>\n",
       "      <td>211.750000</td>\n",
       "    </tr>\n",
       "  </tbody>\n",
       "</table>\n",
       "<p>1237 rows × 4 columns</p>\n",
       "</div>"
      ],
      "text/plain": [
       "                     altitude  latitude   longitude  NUMBER_CONCENTRATION\n",
       "2008-04-11 20:00:00   870.525  64.77070 -147.996075            839.750000\n",
       "2008-04-11 20:05:00  2610.160  64.97176 -148.141420            224.600006\n",
       "2008-04-11 20:10:00  3411.580  65.31194 -148.192380            185.199997\n",
       "2008-04-11 20:15:00  3409.580  65.66350 -148.235960            170.600006\n",
       "2008-04-11 20:20:00  3406.460  66.01632 -148.284860            286.000000\n",
       "2008-04-11 20:25:00  3404.320  66.37504 -148.330820            242.000000\n",
       "2008-04-11 20:30:00  3403.640  66.73098 -148.379880            148.800003\n",
       "2008-04-11 20:35:00  3402.740  67.09088 -148.422520            151.399994\n",
       "2008-04-11 20:40:00  3400.620  67.45660 -148.472620            173.800003\n",
       "2008-04-11 20:45:00  3397.700  67.82766 -148.519480            169.000000\n",
       "2008-04-11 20:50:00  3397.040  68.20226 -148.570660                   NaN\n",
       "2008-04-11 20:55:00  3392.420  68.57606 -148.632040                   NaN\n",
       "2008-04-11 21:00:00  3388.040  68.94462 -148.690500                   NaN\n",
       "2008-04-11 21:05:00  3385.940  69.31272 -148.745500                   NaN\n",
       "2008-04-11 21:10:00  3382.820  69.68036 -148.819300                   NaN\n",
       "2008-04-11 21:15:00  3380.960  70.04538 -148.943500                   NaN\n",
       "2008-04-11 21:20:00  2926.660  70.40266 -149.060600                   NaN\n",
       "2008-04-11 21:25:00  1110.420  70.73052 -149.111420                   NaN\n",
       "2008-04-11 21:30:00  1665.260  70.81190 -148.969740                   NaN\n",
       "2008-04-11 21:35:00  2751.160  70.53596 -148.903300                   NaN\n",
       "2008-04-11 21:40:00  2783.040  70.23258 -148.831100                   NaN\n",
       "2008-04-11 21:45:00  2939.000  69.93050 -148.764420                   NaN\n",
       "2008-04-11 21:50:00  2943.960  69.62848 -148.704060                   NaN\n",
       "2008-04-11 21:55:00  2945.160  69.32024 -148.624880                   NaN\n",
       "2008-04-11 22:00:00  2947.420  69.01042 -148.555620                   NaN\n",
       "2008-04-11 22:05:00  2948.700  68.70008 -148.495080                   NaN\n",
       "2008-04-11 22:10:00  2946.580  68.39114 -148.444920                   NaN\n",
       "2008-04-11 22:15:00  2950.600  68.08308 -148.387520                   NaN\n",
       "2008-04-11 22:20:00  2952.320  67.76916 -148.335040                   NaN\n",
       "2008-04-11 22:25:00  2979.060  67.45198 -148.282140                   NaN\n",
       "...                       ...       ...         ...                   ...\n",
       "2008-04-16 00:35:00  5596.840  71.90058 -161.794960            336.500000\n",
       "2008-04-16 00:40:00  6243.160  71.86198 -161.742020            201.666672\n",
       "2008-04-16 00:45:00  4735.020  71.86402 -161.817940            158.000000\n",
       "2008-04-16 00:50:00  2862.980  71.87168 -161.791360            198.199997\n",
       "2008-04-16 00:55:00   871.660  71.84994 -161.783800            263.799988\n",
       "2008-04-16 01:00:00   101.400  71.62454 -161.671380             76.800003\n",
       "2008-04-16 01:05:00   101.680  71.36000 -161.370300             63.599998\n",
       "2008-04-16 01:10:00   101.920  71.09450 -161.077060             94.400002\n",
       "2008-04-16 01:15:00   101.760  70.83808 -160.744760             99.400002\n",
       "2008-04-16 01:20:00   146.760  70.63746 -160.126080             88.199997\n",
       "2008-04-16 01:25:00   175.580  70.42946 -159.496760             71.599998\n",
       "2008-04-16 01:30:00   212.600  70.22194 -158.878100            111.199997\n",
       "2008-04-16 01:35:00   357.280  69.99116 -158.264040            135.600006\n",
       "2008-04-16 01:40:00   609.780  69.75240 -157.591700            142.199997\n",
       "2008-04-16 01:45:00  2416.000  69.49510 -156.964400            123.199997\n",
       "2008-04-16 01:50:00  4264.080  69.23148 -156.304840            153.000000\n",
       "2008-04-16 01:55:00  4890.040  68.93978 -155.606680            164.800003\n",
       "2008-04-16 02:00:00  4929.060  68.62962 -154.884000            129.000000\n",
       "2008-04-16 02:05:00  5059.260  68.30462 -154.159180            124.800003\n",
       "2008-04-16 02:10:00  5338.260  67.97726 -153.471540            224.000000\n",
       "2008-04-16 02:15:00  5334.240  67.63130 -152.758060            214.199997\n",
       "2008-04-16 02:20:00  5329.520  67.28112 -152.079900            154.199997\n",
       "2008-04-16 02:25:00  5326.240  66.93080 -151.406660            163.800003\n",
       "2008-04-16 02:30:00  5326.120  66.57660 -150.755240            657.000000\n",
       "2008-04-16 02:35:00  5329.800  66.22122 -150.127600            360.000000\n",
       "2008-04-16 02:40:00  5155.680  65.86908 -149.530640            424.399994\n",
       "2008-04-16 02:45:00  4018.160  65.55114 -148.959860            310.000000\n",
       "2008-04-16 02:50:00  2714.760  65.26360 -148.391500            398.399994\n",
       "2008-04-16 02:55:00  1332.040  65.05008 -147.829440            230.199997\n",
       "2008-04-16 03:00:00   566.575  64.87990 -147.740525            211.750000\n",
       "\n",
       "[1237 rows x 4 columns]"
      ]
     },
     "execution_count": 18,
     "metadata": {},
     "output_type": "execute_result"
    }
   ],
   "source": [
    "df.resample('5min', how='mean')"
   ]
  },
  {
   "cell_type": "markdown",
   "metadata": {
    "slideshow": {
     "slide_type": "slide"
    }
   },
   "source": [
    "# And more plot types"
   ]
  },
  {
   "cell_type": "code",
   "execution_count": 19,
   "metadata": {
    "collapsed": false,
    "slideshow": {
     "slide_type": "fragment"
    }
   },
   "outputs": [
    {
     "data": {
      "image/png": "[encoded data removed]",
      "text/plain": [
       "<matplotlib.figure.Figure at 0x10cbf37d0>"
      ]
     },
     "metadata": {},
     "output_type": "display_data"
    }
   ],
   "source": [
    "%matplotlib inline\n",
    "\n",
    "from pandas.tools.plotting import scatter_matrix\n",
    "m = scatter_matrix(df, alpha=0.2, figsize=(8, 8), diagonal='kde', edgecolors='none')"
   ]
  },
  {
   "cell_type": "markdown",
   "metadata": {
    "slideshow": {
     "slide_type": "slide"
    }
   },
   "source": [
    "## Accessing CIS functionality - BETA"
   ]
  },
  {
   "cell_type": "markdown",
   "metadata": {
    "slideshow": {
     "slide_type": "slide"
    }
   },
   "source": [
    "### Plotting"
   ]
  },
  {
   "cell_type": "markdown",
   "metadata": {},
   "source": [
    "We can also use the built in plotting routines (although they need a bit of tidying up):"
   ]
  },
  {
   "cell_type": "code",
   "execution_count": 20,
   "metadata": {
    "collapsed": false
   },
   "outputs": [
    {
     "data": {
      "image/png": "[encoded data removed]",
      "text/plain": [
       "<matplotlib.figure.Figure at 0x1061ff9d0>"
      ]
     },
     "metadata": {},
     "output_type": "display_data"
    },
    {
     "data": {
      "text/plain": [
       "<cis.plotting.plot.Plotter at 0x10d951f50>"
      ]
     },
     "execution_count": 20,
     "metadata": {},
     "output_type": "execute_result"
    }
   ],
   "source": [
    "from cis.plotting.plot import Plotter\n",
    "%matplotlib inline\n",
    "\n",
    "Plotter([NC],x_variable='longitude',y_variable='latitude',plotwidth=18,plotheight=12,cbarscale=0.5,datagroups=[{'itemstyle':'', 'cmap':'jet', 'edgecolor':''}])"
   ]
  },
  {
   "cell_type": "markdown",
   "metadata": {
    "slideshow": {
     "slide_type": "slide"
    }
   },
   "source": [
    "### Subsetting"
   ]
  },
  {
   "cell_type": "markdown",
   "metadata": {},
   "source": [
    "Here we use the subset routine to subset the data in latitude:"
   ]
  },
  {
   "cell_type": "code",
   "execution_count": null,
   "metadata": {
    "collapsed": false
   },
   "outputs": [],
   "source": [
    "from cis.subsetting import Subset\n",
    "from cis.subsetting.subset_limits import SubsetLimits\n",
    "\n",
    "from cis.data_io.data_reader import expand_filelist\n",
    "\n",
    "sub=Subset({'x': SubsetLimits(-10.0,10.0, False)} ,'EUCAARI_subset.nc')\n",
    "\n",
    "sub.subset(\"BC_MASS\", expand_filelist(data_path), None)"
   ]
  },
  {
   "cell_type": "markdown",
   "metadata": {},
   "source": [
    "And then plot the result:"
   ]
  },
  {
   "cell_type": "code",
   "execution_count": null,
   "metadata": {
    "collapsed": false
   },
   "outputs": [],
   "source": [
    "BC_MASS_sub = read_data(\"cis-EUCAARI_subset.nc\", \"BC_MASS\")\n",
    "\n",
    "Plotter([BC_MASS_sub],x_variable='longitude',y_variable='latitude',xrange={'xmin':-12,'xmax':12},plotwidth=18,plotheight=12,cbarscale=1.0,datagroups=[{'itemstyle':'', 'cmap':'jet', 'edgecolor':''}])"
   ]
  },
  {
   "cell_type": "code",
   "execution_count": null,
   "metadata": {
    "collapsed": true
   },
   "outputs": [],
   "source": []
  }
 ],
 "metadata": {
  "celltoolbar": "Slideshow",
  "kernelspec": {
   "display_name": "Python 2",
   "language": "python",
   "name": "python2"
  },
  "language_info": {
   "codemirror_mode": {
    "name": "ipython",
    "version": 2
   },
   "file_extension": ".py",
   "mimetype": "text/x-python",
   "name": "python",
   "nbconvert_exporter": "python",
   "pygments_lexer": "ipython2",
   "version": "2.7.10"
  }
 },
 "nbformat": 4,
 "nbformat_minor": 0
}
