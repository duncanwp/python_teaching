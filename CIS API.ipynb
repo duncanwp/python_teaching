{
 "cells": [
  {
   "cell_type": "markdown",
   "metadata": {},
   "source": [
    "# CIS API demonstration notebook (20 minutes)"
   ]
  },
  {
   "cell_type": "markdown",
   "metadata": {},
   "source": [
    "## Reading data is really easy"
   ]
  },
  {
   "cell_type": "code",
   "execution_count": null,
   "metadata": {
    "collapsed": false,
    "scrolled": true
   },
   "outputs": [],
   "source": [
    "from cis import read_data, read_data_list\n",
    "\n",
    "help(read_data)\n",
    "\n",
    "data_path = \"/Users/watson-parris/Local Data/gassp_data/Level_2/EUCAARI/SP2_EUCAARI_B*200805*.nc\"\n",
    "\n",
    "BC_MASS = read_data(data_path, \"BC_MASS\")\n",
    "\n",
    "# Note we can also use from cis.data_io.products.AProduct import get_variables to find the variables in a file."
   ]
  },
  {
   "cell_type": "markdown",
   "metadata": {},
   "source": [
    "Let's take a look at the methods available on the data:"
   ]
  },
  {
   "cell_type": "code",
   "execution_count": null,
   "metadata": {
    "collapsed": false
   },
   "outputs": [],
   "source": [
    "help(BC_MASS)  # Note the class heirarchy. "
   ]
  },
  {
   "cell_type": "code",
   "execution_count": null,
   "metadata": {
    "collapsed": false
   },
   "outputs": [],
   "source": [
    "print BC_MASS  # Note the warning below"
   ]
  },
  {
   "cell_type": "markdown",
   "metadata": {},
   "source": [
    "Let's take a look at the data:"
   ]
  },
  {
   "cell_type": "code",
   "execution_count": null,
   "metadata": {
    "collapsed": false
   },
   "outputs": [],
   "source": [
    "print BC_MASS.data"
   ]
  },
  {
   "cell_type": "markdown",
   "metadata": {},
   "source": [
    "And the coordinates:"
   ]
  },
  {
   "cell_type": "code",
   "execution_count": null,
   "metadata": {
    "collapsed": false
   },
   "outputs": [],
   "source": [
    "for c in BC_MASS.coords():\n",
    "    print c.name(), c.data"
   ]
  },
  {
   "cell_type": "markdown",
   "metadata": {},
   "source": [
    "**Note** in the above that one of the calls is to a method, and the other is to a data attribute. See the help output above.\n",
    "\n",
    "We can also look at the metadata:"
   ]
  },
  {
   "cell_type": "code",
   "execution_count": null,
   "metadata": {
    "collapsed": false
   },
   "outputs": [],
   "source": [
    "print BC_MASS.metadata"
   ]
  },
  {
   "cell_type": "markdown",
   "metadata": {},
   "source": [
    "Or edit it:"
   ]
  },
  {
   "cell_type": "code",
   "execution_count": null,
   "metadata": {
    "collapsed": false
   },
   "outputs": [],
   "source": [
    "BC_MASS.metadata.history += 'DWP removed the zero-values\\n'\n",
    "print BC_MASS.metadata"
   ]
  },
  {
   "cell_type": "markdown",
   "metadata": {},
   "source": [
    "Note the \\n above - this is a line break, and ensures that when we add another line to the history the lines won't run into each other. (Windows has different line breaks - does this work on Windows?)\n",
    "\n",
    "We'll come back to working with CIS data objects in the numpy and pandas sections."
   ]
  },
  {
   "cell_type": "markdown",
   "metadata": {},
   "source": [
    "## Accessing CIS functionality - BETA"
   ]
  },
  {
   "cell_type": "markdown",
   "metadata": {},
   "source": [
    "### Plotting"
   ]
  },
  {
   "cell_type": "markdown",
   "metadata": {},
   "source": [
    "We can also use the built in plotting routines (although they need a bit of tidying up):"
   ]
  },
  {
   "cell_type": "code",
   "execution_count": null,
   "metadata": {
    "collapsed": false
   },
   "outputs": [],
   "source": [
    "from cis.plotting.plot import Plotter\n",
    "%matplotlib inline\n",
    "\n",
    "Plotter([BC_MASS],x_variable='longitude',y_variable='latitude',plotwidth=18,plotheight=12,cbarscale=0.5,datagroups=[{'itemstyle':'', 'cmap':'jet', 'edgecolor':''}])"
   ]
  },
  {
   "cell_type": "markdown",
   "metadata": {},
   "source": [
    "### Subsetting"
   ]
  },
  {
   "cell_type": "markdown",
   "metadata": {},
   "source": [
    "Here we use the subset routine to subset the data in latitude:"
   ]
  },
  {
   "cell_type": "code",
   "execution_count": null,
   "metadata": {
    "collapsed": false
   },
   "outputs": [],
   "source": [
    "from cis.subsetting import Subset\n",
    "from cis.subsetting.subset_limits import SubsetLimits\n",
    "\n",
    "from cis.data_io.data_reader import expand_filelist\n",
    "\n",
    "sub=Subset({'x': SubsetLimits(-10.0,10.0, False)} ,'EUCAARI_subset.nc')\n",
    "\n",
    "sub.subset(\"BC_MASS\", expand_filelist(data_path), None)"
   ]
  },
  {
   "cell_type": "markdown",
   "metadata": {},
   "source": [
    "And then plot the result:"
   ]
  },
  {
   "cell_type": "code",
   "execution_count": null,
   "metadata": {
    "collapsed": false
   },
   "outputs": [],
   "source": [
    "BC_MASS_sub = read_data(\"cis-EUCAARI_subset.nc\", \"BC_MASS\")\n",
    "\n",
    "Plotter([BC_MASS_sub],x_variable='longitude',y_variable='latitude',xrange={'xmin':-12,'xmax':12},plotwidth=18,plotheight=12,cbarscale=1.0,datagroups=[{'itemstyle':'', 'cmap':'jet', 'edgecolor':''}])"
   ]
  },
  {
   "cell_type": "code",
   "execution_count": null,
   "metadata": {
    "collapsed": true
   },
   "outputs": [],
   "source": []
  }
 ],
 "metadata": {
  "kernelspec": {
   "display_name": "Python 2",
   "language": "python",
   "name": "python2"
  },
  "language_info": {
   "codemirror_mode": {
    "name": "ipython",
    "version": 2
   },
   "file_extension": ".py",
   "mimetype": "text/x-python",
   "name": "python",
   "nbconvert_exporter": "python",
   "pygments_lexer": "ipython2",
   "version": "2.7.11"
  },
  "widgets": {
   "state": {},
   "version": "1.1.2"
  }
 },
 "nbformat": 4,
 "nbformat_minor": 0
}
