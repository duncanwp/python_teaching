{
 "cells": [
  {
   "cell_type": "markdown",
   "metadata": {
    "slideshow": {
     "slide_type": "slide"
    }
   },
   "source": [
    "# Plugin Development"
   ]
  },
  {
   "cell_type": "markdown",
   "metadata": {
    "slideshow": {
     "slide_type": "subslide"
    }
   },
   "source": [
    "## Introduction"
   ]
  },
  {
   "cell_type": "markdown",
   "metadata": {
    "slideshow": {
     "slide_type": "fragment"
    }
   },
   "source": [
    "A CIS ‘plugin’ is just a piece of Python code which CIS can read and understand to extend its functionality"
   ]
  },
  {
   "cell_type": "markdown",
   "metadata": {
    "slideshow": {
     "slide_type": "fragment"
    }
   },
   "source": [
    "Today the focus is on data reading plugins which allow CIS to read data sources that it wouldn’t otherwise understand"
   ]
  },
  {
   "cell_type": "markdown",
   "metadata": {
    "slideshow": {
     "slide_type": "subslide"
    }
   },
   "source": [
    "More specifically a plugin is a Python class which subclasses a template class – so that CIS can assume certain things about the plugin."
   ]
  },
  {
   "cell_type": "code",
   "execution_count": null,
   "metadata": {
    "collapsed": true,
    "slideshow": {
     "slide_type": "fragment"
    }
   },
   "outputs": [],
   "source": [
    "from cis.data_io.products.AProduct import AProduct\n",
    "\n",
    "class my_plugin(AProduct)"
   ]
  },
  {
   "cell_type": "markdown",
   "metadata": {
    "slideshow": {
     "slide_type": "notes"
    }
   },
   "source": [
    "One of the first things to consider is which type of file our plugin is going to be aimed at reading. It is advisable to not make the definition too broad, it’s easy to have multiple plugins so don’t try and over complicate the plugin by having it read many different types of file. Roughly, one plugin should describe a set of data with the same metadata."
   ]
  },
  {
   "cell_type": "markdown",
   "metadata": {
    "slideshow": {
     "slide_type": "fragment"
    }
   },
   "source": [
    "Each data reading plugin must include the following methods:\n",
    " - `get_file_signature(self)`\n",
    " - `create_coords(self, filenames)`\n",
    " - `create_data_object(self, filenames, variable)`"
   ]
  },
  {
   "cell_type": "markdown",
   "metadata": {
    "slideshow": {
     "slide_type": "slide"
    }
   },
   "source": [
    "## Setup"
   ]
  },
  {
   "cell_type": "markdown",
   "metadata": {
    "slideshow": {
     "slide_type": "fragment"
    }
   },
   "source": [
    "First of all we need an ‘environment’ in which to create our plugins, we have a few options:\n",
    " - Basic text editor,\n",
    " - Python aware text editor,\n",
    " - Or an Integrated Development Environment (IDE)\n"
   ]
  },
  {
   "cell_type": "markdown",
   "metadata": {
    "slideshow": {
     "slide_type": "fragment"
    }
   },
   "source": [
    "We also need to point CIS to our new plugins, just set `CIS_PLUGIN_HOME` to the right folder"
   ]
  },
  {
   "cell_type": "markdown",
   "metadata": {
    "slideshow": {
     "slide_type": "slide"
    }
   },
   "source": [
    "## Tutorial"
   ]
  },
  {
   "cell_type": "markdown",
   "metadata": {
    "slideshow": {
     "slide_type": "fragment"
    }
   },
   "source": [
    "For this tutorial we’re going to work through the CIS data reading plugin. This already exists within CIS, but it serves as a nice example for making your own."
   ]
  },
  {
   "cell_type": "markdown",
   "metadata": {
    "slideshow": {
     "slide_type": "fragment"
    }
   },
   "source": [
    "It’s useful to have a look inside one of the CIS output files to see the structure\n",
    " - Note that it shouldn’t be necessary to actually worry about the I/O most of the time though\n"
   ]
  },
  {
   "cell_type": "markdown",
   "metadata": {
    "slideshow": {
     "slide_type": "subslide"
    }
   },
   "source": [
    "Let’s start with the `get_file_signature` method."
   ]
  },
  {
   "cell_type": "markdown",
   "metadata": {
    "slideshow": {
     "slide_type": "fragment"
    }
   },
   "source": [
    "This method is used by CIS to determine which plugins to use automatically."
   ]
  },
  {
   "cell_type": "markdown",
   "metadata": {
    "slideshow": {
     "slide_type": "fragment"
    }
   },
   "source": [
    "It should return a list of regular expressions which match (as closely as possible) the files which the plugin is designed to read."
   ]
  },
  {
   "cell_type": "markdown",
   "metadata": {
    "slideshow": {
     "slide_type": "subslide"
    }
   },
   "source": [
    "Since the CIS plugin is designed to read any data which CIS produces, the signature matches any file which starts with cis- and ends with .nc:"
   ]
  },
  {
   "cell_type": "code",
   "execution_count": null,
   "metadata": {
    "collapsed": true,
    "slideshow": {
     "slide_type": "fragment"
    }
   },
   "outputs": [],
   "source": [
    "def get_file_signature(self):\n",
    "    return [r'cis\\\\-.\\*\\\\.nc']"
   ]
  },
  {
   "cell_type": "markdown",
   "metadata": {
    "slideshow": {
     "slide_type": "subslide"
    }
   },
   "source": [
    "The next step is to complete the `create_coords()` method."
   ]
  },
  {
   "cell_type": "markdown",
   "metadata": {
    "slideshow": {
     "slide_type": "fragment"
    }
   },
   "source": [
    "CIS uses this method to create a set of coordinates from the data, so it needs to return any appropriate coordinates in the shape that CIS expects it (an `UngriddedCoordinates` object)."
   ]
  },
  {
   "cell_type": "markdown",
   "metadata": {
    "slideshow": {
     "slide_type": "fragment"
    }
   },
   "source": [
    "There are a number of low-level data reading routines within CIS that can help you read in your data. For the CIS plugin (which is reading netCDF data) we use two methods from the `cis.data_io.netcdf` module:\n",
    " 1. `read_many_files_individually`\n",
    " 2. `get_metadata`. "
   ]
  },
  {
   "cell_type": "code",
   "execution_count": null,
   "metadata": {
    "collapsed": true,
    "slideshow": {
     "slide_type": "subslide"
    }
   },
   "outputs": [],
   "source": [
    "def create_coords(self, filenames):\n",
    "    from cis.data_io.netcdf import read_many_files_individually, get_metadata\n",
    "    from cis.data_io.Coord import Coord, CoordList\n",
    "    from cis.data_io.ungridded_data import UngriddedCoordinates"
   ]
  },
  {
   "cell_type": "markdown",
   "metadata": {
    "slideshow": {
     "slide_type": "fragment"
    }
   },
   "source": [
    "We also import the `Coord` data type, which is where we store the coordinates that we’ve read, and `UngriddedCoordinates` - which is what we return to CIS."
   ]
  },
  {
   "cell_type": "markdown",
   "metadata": {
    "slideshow": {
     "slide_type": "subslide"
    }
   },
   "source": [
    "Next, we create a list of netCDF variable names which we know are stored in our file and send that to the file reading routine:"
   ]
  },
  {
   "cell_type": "code",
   "execution_count": null,
   "metadata": {
    "collapsed": false,
    "slideshow": {
     "slide_type": "fragment"
    }
   },
   "outputs": [],
   "source": [
    "    var_data = read_many_files_individually(filenames, [\"longitude\",\"latitude\", \"time\"])"
   ]
  },
  {
   "cell_type": "markdown",
   "metadata": {
    "slideshow": {
     "slide_type": "subslide"
    }
   },
   "source": [
    "Then we create a `CoordList` to store our coordinates in, a `Coord` for each of those coordinate variables, and then just give them a short label for plotting purposes (x,y,z etc)."
   ]
  },
  {
   "cell_type": "markdown",
   "metadata": {
    "slideshow": {
     "slide_type": "notes"
    }
   },
   "source": [
    "it is strongly advisable that you use the standard definitions used below for your axis definitions (and use z for altitude and p for pressure)."
   ]
  },
  {
   "cell_type": "code",
   "execution_count": null,
   "metadata": {
    "collapsed": false,
    "slideshow": {
     "slide_type": "fragment"
    }
   },
   "outputs": [],
   "source": [
    "    lon = Coord(var_data[\"longitude\"], get_metadata(var_data[\"longitude\"][0]), axis=\"x\")\n",
    "    lat = Coord(var_data[\"latitude\"], get_metadata(var_data[\"latitude\"][0]), axis=\"y\")\n",
    "    time = Coord(var_data[\"time\"], get_metadata(var_data[\"time\"][0]), axis=\"t\")\n",
    "    coords = CoordList([lat, lon, time])"
   ]
  },
  {
   "cell_type": "markdown",
   "metadata": {
    "slideshow": {
     "slide_type": "subslide"
    }
   },
   "source": [
    "That’s it, now we can return those coordinates in a way that CIS will understand:"
   ]
  },
  {
   "cell_type": "code",
   "execution_count": null,
   "metadata": {
    "collapsed": false,
    "slideshow": {
     "slide_type": "fragment"
    }
   },
   "outputs": [],
   "source": [
    "    return UngriddedCoordinates(coords)"
   ]
  },
  {
   "cell_type": "markdown",
   "metadata": {
    "slideshow": {
     "slide_type": "subslide"
    }
   },
   "source": [
    "So we should have:"
   ]
  },
  {
   "cell_type": "code",
   "execution_count": null,
   "metadata": {
    "collapsed": true,
    "slideshow": {
     "slide_type": "fragment"
    }
   },
   "outputs": [],
   "source": [
    "def create_coords(self, filenames):\n",
    "    from cis.data_io.netcdf import read_many_files_individually, get_metadata\n",
    "    from cis.data_io.Coord import Coord, CoordList\n",
    "    from cis.data_io.ungridded_data import UngriddedCoordinates\n",
    "\n",
    "    var_data = read_many_files_individually(filenames, [\"longitude\", \"latitude\", \"time\"])\n",
    "\n",
    "    lon = Coord(var_data[\"longitude\"], get_metadata(var_data[\"longitude\"][0]), axis=\"x\")\n",
    "    lat = Coord(var_data[\"latitude\"], get_metadata(var_data[\"latitude\"][0]), axis=\"y\")\n",
    "    time = Coord(var_data[\"time\"], get_metadata(var_data[\"time\"][0]), axis=\"t\")\n",
    "    coords = CoordList([lat, lon, time])\n",
    "\n",
    "    return UngriddedCoordinates(coords)\n"
   ]
  },
  {
   "cell_type": "markdown",
   "metadata": {
    "slideshow": {
     "slide_type": "subslide"
    }
   },
   "source": [
    "The last method we have to write is the `create_data_object()` method. \n",
    "\n",
    "This is used by CIS to pull together the coordinates and a particular data variable into an `UngriddedData` object. "
   ]
  },
  {
   "cell_type": "markdown",
   "metadata": {
    "slideshow": {
     "slide_type": "fragment"
    }
   },
   "source": [
    "It’s even simpler than the previous method. We can use the same `read_many_files_individually` method as we did before, and this time pass it the variable the user has asked for as well:"
   ]
  },
  {
   "cell_type": "code",
   "execution_count": null,
   "metadata": {
    "collapsed": true,
    "slideshow": {
     "slide_type": "fragment"
    }
   },
   "outputs": [],
   "source": [
    "def create_data_object(self, filenames, variable):\n",
    "    from cis.data_io.netcdf import read_many_files_individually, get_metadata\n",
    "    from cis.data_io.Coord import Coord, CoordList\n",
    "    from cis.data_io.ungridded_data import UngriddedData\n",
    "\n",
    "    var_data = read_many_files_individually(filenames, [\"longitude\", \"latitude\", \"time\", variable])\n"
   ]
  },
  {
   "cell_type": "markdown",
   "metadata": {
    "slideshow": {
     "slide_type": "subslide"
    }
   },
   "source": [
    "Then we create the coordinates using the same code we’ve just written:"
   ]
  },
  {
   "cell_type": "code",
   "execution_count": null,
   "metadata": {
    "collapsed": false,
    "slideshow": {
     "slide_type": "fragment"
    }
   },
   "outputs": [],
   "source": [
    "    lon = Coord(var_data[\"longitude\"], get_metadata(var_data[\"longitude\"][0]), axis=\"x\")\n",
    "    lat = Coord(var_data[\"latitude\"], get_metadata(var_data[\"latitude\"][0]), axis=\"y\")\n",
    "    time = Coord(var_data[\"time\"], get_metadata(var_data[\"time\"][0]), axis=\"t\")\n",
    "    coords = CoordList([lat, lon, time])\n"
   ]
  },
  {
   "cell_type": "markdown",
   "metadata": {
    "slideshow": {
     "slide_type": "fragment"
    }
   },
   "source": [
    "And finally we return the ungridded data, this combines the coordinates from the file and the variable requested by the user:"
   ]
  },
  {
   "cell_type": "code",
   "execution_count": null,
   "metadata": {
    "collapsed": false,
    "slideshow": {
     "slide_type": "fragment"
    }
   },
   "outputs": [],
   "source": [
    "    usr_var_data = var_data[variable]\n",
    "\n",
    "    return UngriddedData(usr_var_data, get_metadata(usr_var_data[0]), coords)\n"
   ]
  },
  {
   "cell_type": "markdown",
   "metadata": {
    "slideshow": {
     "slide_type": "slide"
    }
   },
   "source": [
    "## Using your plugin"
   ]
  },
  {
   "cell_type": "markdown",
   "metadata": {
    "slideshow": {
     "slide_type": "fragment"
    }
   },
   "source": [
    "Using your plugin is easy. If your signature uniquely matches an input file CIS will use it automatically.\n",
    "\n",
    "Otherwise you will need to manually specify it:"
   ]
  },
  {
   "cell_type": "code",
   "execution_count": null,
   "metadata": {
    "collapsed": false,
    "slideshow": {
     "slide_type": "fragment"
    }
   },
   "outputs": [],
   "source": [
    "$ cis plot AOD550:cis-aerosol_cci_subset_Alaska.nc:product=my_product"
   ]
  },
  {
   "cell_type": "markdown",
   "metadata": {
    "slideshow": {
     "slide_type": "slide"
    }
   },
   "source": [
    "## Sharing your plugin"
   ]
  },
  {
   "cell_type": "markdown",
   "metadata": {
    "slideshow": {
     "slide_type": "fragment"
    }
   },
   "source": [
    "This is really easy! \n",
    "\n",
    "Just go to http://www.cistools.net/plugins and submit your plugin.\n",
    "\n",
    "If it becomes popular we will look to roll it into the main CIS products (crediting the author of course!)"
   ]
  }
 ],
 "metadata": {
  "celltoolbar": "Slideshow",
  "kernelspec": {
   "display_name": "Python 2",
   "language": "python",
   "name": "python2"
  },
  "language_info": {
   "codemirror_mode": {
    "name": "ipython",
    "version": 2
   },
   "file_extension": ".py",
   "mimetype": "text/x-python",
   "name": "python",
   "nbconvert_exporter": "python",
   "pygments_lexer": "ipython2",
   "version": "2.7.10"
  }
 },
 "nbformat": 4,
 "nbformat_minor": 0
}
