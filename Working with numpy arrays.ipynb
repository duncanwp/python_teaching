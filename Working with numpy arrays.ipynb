{
 "cells": [
  {
   "cell_type": "markdown",
   "metadata": {},
   "source": [
    "# Working with numpy arrays - 1 hour"
   ]
  },
  {
   "cell_type": "markdown",
   "metadata": {},
   "source": [
    "Numpy (http://www.numpy.org) is awesome for numerical work! It's convenient, well documented and really quick. We met it briefly in the software carpentry course, but now we're going to dig into it in a bit more detail. \n",
    "\n",
    "It really is a huge package though, and we're still only going to scratch the surface. There are lots of good tutorials out there though and lots of documentation, so I just want to give you the tools to be able to go and find out more yourself.\n",
    "\n",
    "My aims for this session are:\n",
    "1.\tUnderstand the basic numpy constructs and operations\n",
    "2.\tLearn how to use numpy efficiently for data analysis"
   ]
  },
  {
   "cell_type": "markdown",
   "metadata": {},
   "source": [
    "## Creating arrays - 10 mins"
   ]
  },
  {
   "cell_type": "code",
   "execution_count": null,
   "metadata": {
    "collapsed": true
   },
   "outputs": [],
   "source": [
    "import numpy as np"
   ]
  },
  {
   "cell_type": "markdown",
   "metadata": {
    "collapsed": true
   },
   "source": [
    "One of the core elements of numpy is the `ndarray`, this is standard numpy array type and it's what you'll be using most of the time when working with numpy.\n",
    "\n",
    "There are a number of ways of creating these arrays:"
   ]
  },
  {
   "cell_type": "code",
   "execution_count": null,
   "metadata": {
    "collapsed": false
   },
   "outputs": [],
   "source": [
    "# By shape\n",
    "a = np.ndarray((5,2))\n",
    "print \"a = {}\".format(a)\n",
    "\n",
    "# With a list (notice the different function)\n",
    "b = np.array([1, 2, 3, 4, 5])\n",
    "print \"b = {}\".format(b)\n",
    "\n",
    "# Or nested list\n",
    "c = np.array([[0, 1], [2, 3], [4, 5]])\n",
    "print \"c = {}\".format(c)"
   ]
  },
  {
   "cell_type": "markdown",
   "metadata": {},
   "source": [
    "There are lots of other ways too:"
   ]
  },
  {
   "cell_type": "code",
   "execution_count": null,
   "metadata": {
    "collapsed": false
   },
   "outputs": [],
   "source": [
    "d = np.arange(0, 10)\n",
    "e = np.zeros(10)\n",
    "f = np.ones(10)\n",
    "g = np.random.rand(10)"
   ]
  },
  {
   "cell_type": "markdown",
   "metadata": {},
   "source": [
    "### dtype\n",
    "All of these methods take a dtype argument which can specify the type of the data being stored. This is much more like C or Fortran, and is one of the reasons numpy can be so fast. \n",
    "\n",
    "Numpy will usually make a good guess of the dtype for you, so unless you're really worried about performance you shouldn't need to worry too much about it."
   ]
  },
  {
   "cell_type": "markdown",
   "metadata": {},
   "source": [
    "## Basic operations on arrays - 5 minutes\n",
    "Many basic mathematical scalar operations behave quite intuitively with numpy arrays."
   ]
  },
  {
   "cell_type": "code",
   "execution_count": null,
   "metadata": {
    "collapsed": false
   },
   "outputs": [],
   "source": [
    "print f *3 "
   ]
  },
  {
   "cell_type": "code",
   "execution_count": null,
   "metadata": {
    "collapsed": false
   },
   "outputs": [],
   "source": [
    "print e - 5"
   ]
  },
  {
   "cell_type": "markdown",
   "metadata": {},
   "source": [
    "But we can also do array operations"
   ]
  },
  {
   "cell_type": "code",
   "execution_count": null,
   "metadata": {
    "collapsed": false
   },
   "outputs": [],
   "source": [
    "print (f * 3) + (e - 5 )"
   ]
  },
  {
   "cell_type": "markdown",
   "metadata": {},
   "source": [
    "Note that even multiplication is assumed to be element wise for two numpy arrays. We'll come back to matrix operations later."
   ]
  },
  {
   "cell_type": "code",
   "execution_count": null,
   "metadata": {
    "collapsed": false,
    "scrolled": true
   },
   "outputs": [],
   "source": [
    "print (f * 3) * (e - 5 )"
   ]
  },
  {
   "cell_type": "markdown",
   "metadata": {},
   "source": [
    "## Exercise\n",
    "\n",
    "Create an array of the squares of 5 through 15"
   ]
  },
  {
   "cell_type": "markdown",
   "metadata": {},
   "source": [
    "### Answer"
   ]
  },
  {
   "cell_type": "code",
   "execution_count": null,
   "metadata": {
    "collapsed": false
   },
   "outputs": [],
   "source": [
    "print np.arange(5,15)**2"
   ]
  },
  {
   "cell_type": "markdown",
   "metadata": {},
   "source": [
    "## Indexing arrays - 15 minutes"
   ]
  },
  {
   "cell_type": "markdown",
   "metadata": {},
   "source": [
    "One of the cleverest things about numpy in my opinion is the slicing and indexing of arrays. It allows you to do some really clever tricks which make what would be slow operations really fast."
   ]
  },
  {
   "cell_type": "markdown",
   "metadata": {
    "collapsed": true
   },
   "source": [
    "In the simplest cases, numpy arrays can be indexed just like lists:"
   ]
  },
  {
   "cell_type": "code",
   "execution_count": null,
   "metadata": {
    "collapsed": false
   },
   "outputs": [],
   "source": [
    "print b[3]  # Remember that indexing lists and arrays in python start from 0\n",
    "\n",
    "# We can also pick out slices\n",
    "print b[2:4]\n",
    "\n",
    "# And count backwards... What would you expect this to give us?\n",
    "print b[:-1]"
   ]
  },
  {
   "cell_type": "markdown",
   "metadata": {},
   "source": [
    "### Multidimensional indexing"
   ]
  },
  {
   "cell_type": "markdown",
   "metadata": {},
   "source": [
    "This is an extension of normal list indexing to allow us to index higher dimensional arrays."
   ]
  },
  {
   "cell_type": "markdown",
   "metadata": {},
   "source": [
    "First lets make a two-dimensional array:"
   ]
  },
  {
   "cell_type": "code",
   "execution_count": null,
   "metadata": {
    "collapsed": false
   },
   "outputs": [],
   "source": [
    "two_d_arr = np.arange(9).reshape(3,3) + 1\n",
    "print two_d_arr"
   ]
  },
  {
   "cell_type": "markdown",
   "metadata": {},
   "source": [
    "Now say we want the second row, we can just slice it like so:"
   ]
  },
  {
   "cell_type": "code",
   "execution_count": null,
   "metadata": {
    "collapsed": false
   },
   "outputs": [],
   "source": [
    "two_d_arr[1]"
   ]
  },
  {
   "cell_type": "markdown",
   "metadata": {},
   "source": [
    "We can then get specific values in that slice by slicing it again:"
   ]
  },
  {
   "cell_type": "code",
   "execution_count": null,
   "metadata": {
    "collapsed": false
   },
   "outputs": [],
   "source": [
    "two_d_arr[1][2]"
   ]
  },
  {
   "cell_type": "markdown",
   "metadata": {},
   "source": [
    "Another way is:"
   ]
  },
  {
   "cell_type": "code",
   "execution_count": null,
   "metadata": {
    "collapsed": false
   },
   "outputs": [],
   "source": [
    "two_d_arr[1, 2]"
   ]
  },
  {
   "cell_type": "markdown",
   "metadata": {},
   "source": [
    "This way hints at how we might extract a column of data... \n",
    "\n",
    "**Mini exercise**: Can you think how?"
   ]
  },
  {
   "cell_type": "code",
   "execution_count": null,
   "metadata": {
    "collapsed": false
   },
   "outputs": [],
   "source": [
    "two_d_arr[:, 2]"
   ]
  },
  {
   "cell_type": "markdown",
   "metadata": {},
   "source": [
    "Note we can also assign values like this"
   ]
  },
  {
   "cell_type": "code",
   "execution_count": null,
   "metadata": {
    "collapsed": false
   },
   "outputs": [],
   "source": [
    "two_d_arr[:, 1] = 2\n",
    "\n",
    "print two_d_arr"
   ]
  },
  {
   "cell_type": "markdown",
   "metadata": {},
   "source": [
    "Remember to be careful when copying numpy arrays..."
   ]
  },
  {
   "cell_type": "code",
   "execution_count": null,
   "metadata": {
    "collapsed": false
   },
   "outputs": [],
   "source": [
    "my_new_array = two_d_arr[2]\n",
    "\n",
    "print 'Before:'\n",
    "print my_new_array\n",
    "print two_d_arr\n",
    "\n",
    "my_new_array[2] = 3\n",
    "\n",
    "print 'After:'\n",
    "print my_new_array\n",
    "print two_d_arr"
   ]
  },
  {
   "cell_type": "markdown",
   "metadata": {},
   "source": [
    "Use `copy()` if you want a separate instance:"
   ]
  },
  {
   "cell_type": "code",
   "execution_count": null,
   "metadata": {
    "collapsed": false
   },
   "outputs": [],
   "source": [
    "my_completely_new_array = two_d_arr[1].copy()\n",
    "\n",
    "print 'Before:'\n",
    "print my_completely_new_array\n",
    "print two_d_arr\n",
    "\n",
    "my_completely_new_array[2] = 3\n",
    "\n",
    "print 'After:'\n",
    "print my_completely_new_array\n",
    "print two_d_arr"
   ]
  },
  {
   "cell_type": "markdown",
   "metadata": {},
   "source": [
    "### Boolean indexing"
   ]
  },
  {
   "cell_type": "markdown",
   "metadata": {},
   "source": [
    "This allows us to index arrays based on some truth (boolean) values, and can lead to some really powerful tricks."
   ]
  },
  {
   "cell_type": "markdown",
   "metadata": {},
   "source": [
    "They can be created simply by performing any logical comparison with an array:"
   ]
  },
  {
   "cell_type": "code",
   "execution_count": null,
   "metadata": {
    "collapsed": false
   },
   "outputs": [],
   "source": [
    "# For example:\n",
    "\n",
    "print two_d_arr == 2\n",
    "\n",
    "# Or:\n",
    "print two_d_arr > 3"
   ]
  },
  {
   "cell_type": "markdown",
   "metadata": {},
   "source": [
    "But the clever thing is being able to index arrays using those values."
   ]
  },
  {
   "cell_type": "code",
   "execution_count": null,
   "metadata": {
    "collapsed": false
   },
   "outputs": [],
   "source": [
    "twos = two_d_arr == 2\n",
    "\n",
    "print two_d_arr[twos]"
   ]
  },
  {
   "cell_type": "markdown",
   "metadata": {},
   "source": [
    "Or more succinctly:"
   ]
  },
  {
   "cell_type": "code",
   "execution_count": null,
   "metadata": {
    "collapsed": false
   },
   "outputs": [],
   "source": [
    "print two_d_arr[two_d_arr > 3]"
   ]
  },
  {
   "cell_type": "markdown",
   "metadata": {},
   "source": [
    "You can also link conditions together, or even mix boolean indexing with integer indexing:"
   ]
  },
  {
   "cell_type": "code",
   "execution_count": null,
   "metadata": {
    "collapsed": false
   },
   "outputs": [],
   "source": [
    "print two_d_arr[(two_d_arr > 3) | (two_d_arr == 2)]"
   ]
  },
  {
   "cell_type": "markdown",
   "metadata": {},
   "source": [
    "Use `|` for logical or, and `&` for logical and. You can also use `!=` for not equals, and `-` for negation"
   ]
  },
  {
   "cell_type": "code",
   "execution_count": null,
   "metadata": {
    "collapsed": false
   },
   "outputs": [],
   "source": [
    "print two_d_arr[2, two_d_arr[2] > 3]"
   ]
  },
  {
   "cell_type": "markdown",
   "metadata": {},
   "source": [
    "Note we have to ensure the boolean index is the shape of the column we're indexing here"
   ]
  },
  {
   "cell_type": "markdown",
   "metadata": {},
   "source": [
    "There's also something called fancy indexing, but I won't go into that here"
   ]
  },
  {
   "cell_type": "markdown",
   "metadata": {},
   "source": [
    "## Other operations - 5 minutes"
   ]
  },
  {
   "cell_type": "markdown",
   "metadata": {},
   "source": [
    "Numpy comes with many other built-in element-wise operations which you can perform on arrays really efficiently."
   ]
  },
  {
   "cell_type": "code",
   "execution_count": null,
   "metadata": {
    "collapsed": false
   },
   "outputs": [],
   "source": [
    "help(a)  # I'd probably use the website though!"
   ]
  },
  {
   "cell_type": "code",
   "execution_count": null,
   "metadata": {
    "collapsed": false
   },
   "outputs": [],
   "source": [
    "# E.g.\n",
    "a.min(), a.max(), np.log(b), np.sqrt(b), np.cos(g), np.sum(f)"
   ]
  },
  {
   "cell_type": "markdown",
   "metadata": {},
   "source": [
    "Taking the inner product of two matrices $X^TX$ is easy"
   ]
  },
  {
   "cell_type": "code",
   "execution_count": null,
   "metadata": {
    "collapsed": false
   },
   "outputs": [],
   "source": [
    "np.dot(f.T, g)"
   ]
  },
  {
   "cell_type": "markdown",
   "metadata": {},
   "source": [
    "**Note** You can loop over numpy arrays - but if you do, you're probably doing something wrong!"
   ]
  },
  {
   "cell_type": "markdown",
   "metadata": {},
   "source": [
    "## Exercise 2 - 5 minutes\n",
    "In pairs: Find the location of the maximum value of your random array. You'll need to look in the docs to do this."
   ]
  },
  {
   "cell_type": "markdown",
   "metadata": {},
   "source": [
    "### Answer"
   ]
  },
  {
   "cell_type": "code",
   "execution_count": null,
   "metadata": {
    "collapsed": false
   },
   "outputs": [],
   "source": [
    "print g\n",
    "\n",
    "print np.argmax(g)  # Should do the trick, note though that it returns the index of the flattened array\n",
    "# np.unravel_index can turn this back into a tuple, if that's what is needed. \n",
    "\n",
    "# Also note np.where though, this is a powerful function which returns the full tuple or array indices:\n",
    "print np.where(g==g.max())\n",
    "\n",
    "# So that:\n",
    "print g[np.where(g==g.max())]\n"
   ]
  },
  {
   "cell_type": "markdown",
   "metadata": {},
   "source": [
    "## Masked arrays - 5 minutes"
   ]
  },
  {
   "cell_type": "markdown",
   "metadata": {
    "collapsed": true
   },
   "source": [
    "Many real-world datasets will have missing or corrupt values in. Masked arrays give us an easy and transparent way of dealing with these values."
   ]
  },
  {
   "cell_type": "markdown",
   "metadata": {},
   "source": [
    "For example given the following data from some instrument:"
   ]
  },
  {
   "cell_type": "code",
   "execution_count": null,
   "metadata": {
    "collapsed": false
   },
   "outputs": [],
   "source": [
    "np.array([0.13, 0.21, 0.15, 'NaN', 0.29, 0.09, 0.24, -1])"
   ]
  },
  {
   "cell_type": "markdown",
   "metadata": {},
   "source": [
    "Say we want to calculate the mean of this data. The first thing we notice is that numpy has created a *string* array... So we can't do mathematical operations on it:"
   ]
  },
  {
   "cell_type": "code",
   "execution_count": null,
   "metadata": {
    "collapsed": false
   },
   "outputs": [],
   "source": [
    "_.mean()"
   ]
  },
  {
   "cell_type": "markdown",
   "metadata": {},
   "source": [
    "We can set the dtype explicitly, but this doesn't actually help much:"
   ]
  },
  {
   "cell_type": "code",
   "execution_count": null,
   "metadata": {
    "collapsed": false
   },
   "outputs": [],
   "source": [
    "np.array([0.13, 0.21, 0.15, 'NaN', 0.29, 0.09, 0.24, -10], dtype='f32').mean()"
   ]
  },
  {
   "cell_type": "markdown",
   "metadata": {},
   "source": [
    "So first we need to `clean` the data. \n",
    "\n",
    "**Note** This process of cleaning data, is variously refered to as data cleansing, cleaning, processing, and munging (amongst other terms). You may, or may not, be suprised to learn that as much of 80% of your time spent doing data analysis can be in getting your data into a state you can work with."
   ]
  },
  {
   "cell_type": "markdown",
   "metadata": {},
   "source": [
    "First we need to deal with the NaN, and this is where masked arrays come in. There are nearly as many ways of creating masked arrays as there are for normal arrays, but assuming you already have some data a good way is specifying a mask:"
   ]
  },
  {
   "cell_type": "code",
   "execution_count": null,
   "metadata": {
    "collapsed": true
   },
   "outputs": [],
   "source": [
    "masked_data = np.ma.array([0.13, 0.21, 0.15, 'NaN', 0.29, 0.09, 0.24, -10],\n",
    "                          mask=[False, False, False, True, False, False, False, False],\n",
    "                         dtype='f32')"
   ]
  },
  {
   "cell_type": "code",
   "execution_count": null,
   "metadata": {
    "collapsed": false
   },
   "outputs": [],
   "source": [
    "print masked_data"
   ]
  },
  {
   "cell_type": "markdown",
   "metadata": {},
   "source": [
    "Now we can take the mean:"
   ]
  },
  {
   "cell_type": "code",
   "execution_count": null,
   "metadata": {
    "collapsed": false
   },
   "outputs": [],
   "source": [
    "masked_data.mean()"
   ]
  },
  {
   "cell_type": "markdown",
   "metadata": {},
   "source": [
    "But we probably want to mask the negative value as well. Obviously we could have just masked that value out, but there are some flexible ways of doing this too:"
   ]
  },
  {
   "cell_type": "code",
   "execution_count": null,
   "metadata": {
    "collapsed": false
   },
   "outputs": [],
   "source": [
    "masked_data = np.ma.masked_less(masked_data, 0.0)"
   ]
  },
  {
   "cell_type": "code",
   "execution_count": null,
   "metadata": {
    "collapsed": false
   },
   "outputs": [],
   "source": [
    "masked_data.mean()"
   ]
  },
  {
   "cell_type": "markdown",
   "metadata": {},
   "source": [
    "We can also then turn the masked array into a standard array like so:"
   ]
  },
  {
   "cell_type": "code",
   "execution_count": null,
   "metadata": {
    "collapsed": false
   },
   "outputs": [],
   "source": [
    "my_data = masked_data.compressed()\n",
    "print my_data"
   ]
  },
  {
   "cell_type": "markdown",
   "metadata": {},
   "source": [
    "## CIS data as numpy arrays - 5 minutes\n",
    "\n",
    "You can easily access CIS data directly as numpy arrays. First let's read some data in again:"
   ]
  },
  {
   "cell_type": "code",
   "execution_count": null,
   "metadata": {
    "collapsed": true
   },
   "outputs": [],
   "source": [
    "from cis import read_data, read_data_list\n",
    "\n",
    "BC_MASS = read_data(\"/Users/watson-parris/Local Data/gassp_data/Level_2/EUCAARI/SP2_EUCAARI_B*200805*.nc\", \"BC_MASS\")"
   ]
  },
  {
   "cell_type": "markdown",
   "metadata": {},
   "source": [
    "Now as we've discussed, the data in CIS is stored in numpy arrays so we easily can it as such:"
   ]
  },
  {
   "cell_type": "code",
   "execution_count": null,
   "metadata": {
    "collapsed": false
   },
   "outputs": [],
   "source": [
    "print BC_MASS.data.min(), BC_MASS.data.max()\n",
    "\n",
    "print \"NaNs in 1: %s\" % np.isnan(BC_MASS.data).any()\n",
    "print \"NaNs in 2: %s\" % np.isnan(BC_MASS.data).any()\n",
    "print \"NaNs in 3: %s\" % np.isnan(BC_MASS.data).any()"
   ]
  },
  {
   "cell_type": "markdown",
   "metadata": {},
   "source": [
    "There are also shortcuts for accessing the coordinate data:"
   ]
  },
  {
   "cell_type": "code",
   "execution_count": null,
   "metadata": {
    "collapsed": false
   },
   "outputs": [],
   "source": [
    "BC_MASS.lat.data.min(), BC_MASS.lat.data.max()"
   ]
  },
  {
   "cell_type": "markdown",
   "metadata": {},
   "source": [
    "## Exercise 3 - 5 minutes"
   ]
  },
  {
   "cell_type": "markdown",
   "metadata": {},
   "source": [
    "Find the lat/lon position of the maximum value of the Black Carbon loading in the data.\n",
    "\n",
    "For bonus points, can you find the all of the points which have values outside one standard deviation of the mean value."
   ]
  },
  {
   "cell_type": "markdown",
   "metadata": {},
   "source": [
    "### Answer"
   ]
  },
  {
   "cell_type": "code",
   "execution_count": null,
   "metadata": {
    "collapsed": false
   },
   "outputs": [],
   "source": [
    "val_max_indx = np.argmax(BC_MASS.data)\n",
    "print BC_MASS.lat.data[val_max_indx], BC_MASS.lon.data[val_max_indx]\n",
    "\n",
    "#And...\n",
    "print BC_MASS.data[BC_MASS.data > BC_MASS.data.std()]\n",
    "print len(BC_MASS.data), len(BC_MASS.data[BC_MASS.data > BC_MASS.data.std()])\n"
   ]
  }
 ],
 "metadata": {
  "kernelspec": {
   "display_name": "Python 2",
   "language": "python",
   "name": "python2"
  },
  "language_info": {
   "codemirror_mode": {
    "name": "ipython",
    "version": 2
   },
   "file_extension": ".py",
   "mimetype": "text/x-python",
   "name": "python",
   "nbconvert_exporter": "python",
   "pygments_lexer": "ipython2",
   "version": "2.7.10"
  }
 },
 "nbformat": 4,
 "nbformat_minor": 0
}
