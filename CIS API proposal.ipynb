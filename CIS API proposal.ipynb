{
 "cells": [
  {
   "cell_type": "markdown",
   "metadata": {},
   "source": [
    "# Reading"
   ]
  },
  {
   "cell_type": "code",
   "execution_count": null,
   "metadata": {
    "collapsed": true
   },
   "outputs": [],
   "source": [
    "from cis import read_data, read_data_list\n",
    "udata = read_data(\"my_ungridded_data_*.nc\", 'var')\n",
    "\n",
    "udata_list = read_data_list(\"my_ungridded_data.nc\", ['foo', 'bar'])\n",
    "# Returns multiple data variables which share the same set of coordinates\n",
    "\n",
    "gdata = read_data(\"my_gridded_data.nc\", 'var')"
   ]
  },
  {
   "cell_type": "markdown",
   "metadata": {},
   "source": [
    "# Subsetting"
   ]
  },
  {
   "cell_type": "code",
   "execution_count": null,
   "metadata": {
    "collapsed": false
   },
   "outputs": [],
   "source": [
    "# We might want our own PartialDatetime? What do we use internally?\n",
    "from iris import PartialDatetime\n",
    "\n",
    "# Time can either be a list of length two datetimes, or a single partial datetime\n",
    "sub = udata.subset(x=[-10.0,10.0], air_pressure=[900,400], time=PartialDatetime(2010,8))\n",
    "\n",
    "gdata.subset(latitude=[0,90], inplace=True)"
   ]
  },
  {
   "cell_type": "markdown",
   "metadata": {},
   "source": [
    "# Aggregation"
   ]
  },
  {
   "cell_type": "code",
   "execution_count": null,
   "metadata": {
    "collapsed": false
   },
   "outputs": [],
   "source": [
    "# It would also be nice to just take a single value as the delta, using the max and min from the data\n",
    "agg = udata.aggregate(x=[-10.0, 10.0, 0.5], y=[0, 90.0, 1], time=[datetime(2007,1,1), datetime(2007,1,1), datetimedelta(days=1)], kernel='moments')\n",
    "\n",
    "gdata.collapse(coords=['latitude', 'longitude'], inplace=True, kernel='')"
   ]
  },
  {
   "cell_type": "markdown",
   "metadata": {},
   "source": [
    "# Collocation"
   ]
  },
  {
   "cell_type": "code",
   "execution_count": null,
   "metadata": {
    "collapsed": true
   },
   "outputs": [],
   "source": [
    "# Compatible collocators when data is ugridded are bin or box\n",
    "\n",
    "ug_col = udata.collocate(gdata, how='bin', fill_value=-999)\n",
    "uu_col = udata.collocate(udata, how='box', kernel='nn_t', h_sep='blah', t_sep=datetimedelta(years=1))\n",
    "\n",
    "# Compatible collocators when data is gridded are linear and nearest\n",
    "\n",
    "gu_col = gdata.collocate(udata, how='linear', extrapolate=False)\n",
    "gg_col = gdata.collocate(gdata, how='nearest')"
   ]
  },
  {
   "cell_type": "markdown",
   "metadata": {},
   "source": [
    "# Plotting"
   ]
  },
  {
   "cell_type": "code",
   "execution_count": null,
   "metadata": {
    "collapsed": true
   },
   "outputs": [],
   "source": [
    "udata.plot(x_variable='longitude',y_variable='latitude',plotwidth=18,plotheight=12,cbarscale=0.5,datagroups=[{'itemstyle':'', 'cmap':'jet', 'edgecolor':''}])"
   ]
  },
  {
   "cell_type": "code",
   "execution_count": null,
   "metadata": {
    "collapsed": true
   },
   "outputs": [],
   "source": [
    "gdata.plot(x_variable='longitude',y_variable='latitude',xrange={'xmin':-12,'xmax':12},plotwidth=18,plotheight=12,cbarscale=1.0,datagroups=[{'itemstyle':'', 'cmap':'jet', 'edgecolor':''}])"
   ]
  },
  {
   "cell_type": "markdown",
   "metadata": {},
   "source": [
    "# Others"
   ]
  },
  {
   "cell_type": "code",
   "execution_count": null,
   "metadata": {
    "collapsed": false
   },
   "outputs": [],
   "source": [
    "# Evaluation isn't needed\n",
    "#  do we want to override the basic mathematical operators though?\n",
    "\n",
    "# Don't worry about stats for now - these can easily be done manually\n",
    "\n",
    "# Get item:\n",
    "udata[0:5]  # The first 6 elements of the data and coords\n",
    "\n",
    "udata[5]  # should return??\n",
    "\n",
    "# Saving data:\n",
    "udata.save_data('blah.nc')\n",
    "\n",
    "# Pandas:\n",
    "df = NC.as_data_frame()\n",
    "\n",
    "# Stack (merge) ungridded data objects:\n",
    "cis.stack(udata_list)"
   ]
  },
  {
   "cell_type": "markdown",
   "metadata": {},
   "source": [
    "# Metadata"
   ]
  },
  {
   "cell_type": "code",
   "execution_count": null,
   "metadata": {
    "collapsed": true
   },
   "outputs": [],
   "source": [
    "NC.metadata.history += 'DWP removed the zero-values\\n'\n",
    "print NC.metadata  "
   ]
  },
  {
   "cell_type": "code",
   "execution_count": null,
   "metadata": {
    "collapsed": true
   },
   "outputs": [],
   "source": []
  }
 ],
 "metadata": {
  "kernelspec": {
   "display_name": "Python 2",
   "language": "python",
   "name": "python2"
  },
  "language_info": {
   "codemirror_mode": {
    "name": "ipython",
    "version": 2
   },
   "file_extension": ".py",
   "mimetype": "text/x-python",
   "name": "python",
   "nbconvert_exporter": "python",
   "pygments_lexer": "ipython2",
   "version": "2.7.11"
  },
  "widgets": {
   "state": {},
   "version": "1.1.2"
  }
 },
 "nbformat": 4,
 "nbformat_minor": 0
}
